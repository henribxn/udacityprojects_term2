{
 "cells": [
  {
   "cell_type": "markdown",
   "metadata": {},
   "source": [
    "# Text classification"
   ]
  },
  {
   "cell_type": "markdown",
   "metadata": {},
   "source": [
    "[Project requirements](https://review.udacity.com/#!/rubrics/1507/view)"
   ]
  },
  {
   "cell_type": "markdown",
   "metadata": {},
   "source": [
    "# Open Data Set for Text classification selection\n",
    "\n",
    "After searching for some Text classification Open Data Set detailed below, I chose [XX](XX)\n",
    "\n",
    "[Open Data Sets for text classification](https://medium.com/@dataturks/rare-text-classification-open-datasets-9d340c8c508e)\n",
    "\n",
    "[IMBD DataSet for Movies Reviews](http://ai.stanford.edu/~amaas/data/sentiment/)\n",
    "\n",
    "[BBC text categorization](https://www.kaggle.com/yufengdev/bbc-text-categorization)\n",
    "\n",
    "[Sentiment Analysis in Finance](https://www.kaggle.com/ankurzing/sentiment-analysis-for-financial-news)"
   ]
  },
  {
   "cell_type": "markdown",
   "metadata": {},
   "source": [
    "# Usefull inspiration when writing my medium Posts\n",
    "\n",
    "While writing one of my first Medium posts, I found the below links very usefull :\n",
    "- [Get Started with medium](https://blog.hubspot.com/marketing/how-to-use-medium)\n",
    "- [Tips for medium writer](https://blog.medium.com/tips-and-tricks-for-medium-writers-1d79498101c3)"
   ]
  },
  {
   "cell_type": "markdown",
   "metadata": {},
   "source": [
    "Besides, below are some Medium posts that I've found inspiring: \n",
    "- https://medium.com/@rchang\n",
    "- https://medium.com/@josh_2774/how-do-you-become-a-developer-5ef1c1c68711\n",
    "- https://medium.com/analytics-vidhya/how-to-succeed-in-multilingual-sentiment-analysis-without-transformers-f1a98c76c30c\n",
    "- https://towardsdatascience.com/text-classification-with-extremely-small-datasets-333d322caee2"
   ]
  },
  {
   "cell_type": "markdown",
   "metadata": {},
   "source": [
    "# Data Exploration"
   ]
  },
  {
   "cell_type": "code",
   "execution_count": null,
   "metadata": {},
   "outputs": [],
   "source": []
  }
 ],
 "metadata": {
  "kernelspec": {
   "display_name": "Python 3",
   "language": "python",
   "name": "python3"
  },
  "language_info": {
   "codemirror_mode": {
    "name": "ipython",
    "version": 3
   },
   "file_extension": ".py",
   "mimetype": "text/x-python",
   "name": "python",
   "nbconvert_exporter": "python",
   "pygments_lexer": "ipython3",
   "version": "3.6.8"
  }
 },
 "nbformat": 4,
 "nbformat_minor": 4
}
