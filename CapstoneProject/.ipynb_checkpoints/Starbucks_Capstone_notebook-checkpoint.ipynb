{
 "cells": [
  {
   "cell_type": "markdown",
   "metadata": {},
   "source": [
    "# Starbucks Capstone Challenge\n",
    "\n",
    "### Introduction\n",
    "\n",
    "This data set contains simulated data that mimics customer behavior on the Starbucks rewards mobile app. Once every few days, Starbucks sends out an offer to users of the mobile app. An offer can be merely an advertisement for a drink or an actual offer such as a discount or BOGO (buy one get one free). Some users might not receive any offer during certain weeks. \n",
    "\n",
    "Not all users receive the same offer, and that is the challenge to solve with this data set.\n",
    "\n",
    "**Your task is to combine transaction, demographic and offer data to determine which demographic groups respond best to which offer type**. This data set is a simplified version of the real Starbucks app because the underlying simulator only has one product whereas Starbucks actually sells dozens of products.\n",
    "\n",
    "Every offer has a validity period before the offer expires. As an example, a BOGO offer might be valid for only 5 days. You'll see in the data set that informational offers have a validity period even though these ads are merely providing information about a product; for example, if an informational offer has 7 days of validity, you can assume the customer is feeling the influence of the offer for 7 days after receiving the advertisement.\n",
    "\n",
    "You'll be given transactional data showing user purchases made on the app including the timestamp of purchase and the amount of money spent on a purchase. This transactional data also has a record for each offer that a user receives as well as a record for when a user actually views the offer. There are also records for when a user completes an offer. \n",
    "\n",
    "Keep in mind as well that someone using the app might make a purchase through the app without having received an offer or seen an offer.\n",
    "\n",
    "### Example\n",
    "\n",
    "To give an example, a user could receive a discount offer buy 10 dollars get 2 off on Monday. The offer is valid for 10 days from receipt. If the customer accumulates at least 10 dollars in purchases during the validity period, the customer completes the offer.\n",
    "\n",
    "However, there are a few things to watch out for in this data set. Customers do not opt into the offers that they receive; in other words, a user can receive an offer, never actually view the offer, and still complete the offer. For example, a user might receive the \"buy 10 dollars get 2 dollars off offer\", but the user never opens the offer during the 10 day validity period. The customer spends 15 dollars during those ten days. There will be an offer completion record in the data set; however, the customer was not influenced by the offer because the customer never viewed the offer.\n",
    "\n",
    "### Cleaning\n",
    "\n",
    "This makes data cleaning especially important and tricky.\n",
    "\n",
    "You'll also want to take into account that some demographic groups will make purchases even if they don't receive an offer. From a business perspective, if a customer is going to make a 10 dollar purchase without an offer anyway, you wouldn't want to send a buy 10 dollars get 2 dollars off offer. You'll want to try to assess what a certain demographic group will buy when not receiving any offers.\n",
    "\n",
    "### Final Advice\n",
    "\n",
    "Because this is a capstone project, you are free to analyze the data any way you see fit. For example, you could build a machine learning model that **predicts how much someone will spend based on demographics and offer type**. Or you could build a model that **predicts whether or not someone will respond to an offer**. Or, you don't need to build a machine learning model at all. You could develop a set of heuristics that determine what offer you should send to each customer (i.e., 75 percent of women customers who were 35 years old responded to offer A vs 40 percent from the same demographic to offer B, so send offer A)."
   ]
  },
  {
   "cell_type": "markdown",
   "metadata": {},
   "source": [
    "# Data Set Overview"
   ]
  },
  {
   "cell_type": "markdown",
   "metadata": {},
   "source": [
    "- The program used to create the data simulates how people make purchasing decisions and how those decisions are influenced by promotional offers.\n",
    "- Each person in the simulation has some hidden traits that influence their purchasing patterns and are associated with their observable traits. People produce various events, including receiving offers, opening offers, and making purchases.\n",
    "- As a simplification, there are no explicit products to track. Only the amounts of each transaction or offer are recorded.\n",
    "- There are three types of offers that can be sent: **buy-one-get-one (BOGO), discount, and informational**. In a BOGO offer, a user needs to spend a certain amount to get a reward equal to that threshold amount. In a discount, a user gains a reward equal to a fraction of the amount spent. In an informational offer, there is no reward, but neither is there a requisite amount that the user is expected to spend. Offers can be delivered via multiple channels.\n",
    "- The basic task is to use the data to identify which groups of people are most responsive to each type of offer, and how best to present each type of offer."
   ]
  },
  {
   "cell_type": "markdown",
   "metadata": {},
   "source": [
    "# Data Sets\n",
    "\n",
    "The data is contained in three files:\n",
    "\n",
    "* portfolio.json - containing offer ids and meta data about each offer (duration, type, etc.)\n",
    "* profile.json - demographic data for each customer\n",
    "* transcript.json - records for transactions, offers received, offers viewed, and offers completed\n",
    "\n",
    "Here is the schema and explanation of each variable in the files:\n",
    "\n",
    "**portfolio.json**\n",
    "* id (string) - offer id\n",
    "* offer_type (string) - type of offer ie BOGO, discount, informational\n",
    "* difficulty (int) - minimum required spend to complete an offer\n",
    "* reward (int) - reward given for completing an offer\n",
    "* duration (int) - time for offer to be open, in days\n",
    "* channels (list of strings)\n",
    "\n",
    "**profile.json**\n",
    "* age (int) - age of the customer \n",
    "* became_member_on (int) - date when customer created an app account\n",
    "* gender (str) - gender of the customer (note some entries contain 'O' for other rather than M or F)\n",
    "* id (str) - customer id\n",
    "* income (float) - customer's income\n",
    "\n",
    "**transcript.json**\n",
    "* event (str) - record description (ie transaction, offer received, offer viewed, etc.)\n",
    "* person (str) - customer id\n",
    "* time (int) - time in hours since start of test. The data begins at time t=0\n",
    "* value - (dict of strings) - either an offer id or transaction amount depending on the record\n",
    "\n",
    "**Note:** If you are using the workspace, you will need to go to the terminal and run the command `conda update pandas` before reading in the files. This is because the version of pandas in the workspace cannot read in the transcript.json file correctly, but the newest version of pandas can. You can access the termnal from the orange icon in the top left of this notebook.  \n"
   ]
  },
  {
   "cell_type": "markdown",
   "metadata": {},
   "source": [
    "# Table of Contents\n",
    "\n",
    "I. [Data Exploration and cleaning](#Data-Exploration)<br>\n",
    "II. [Feature Engineering of Promotion Lifecyle](#Feature-Engineering-promotion-lifecycle)<br>\n",
    "III. [Data Vizualisation](#Dataviz)<br>\n",
    "IV. [User-Item Collaborative Filtering with Funk SVD](#User-item)<br>"
   ]
  },
  {
   "cell_type": "code",
   "execution_count": 771,
   "metadata": {},
   "outputs": [],
   "source": [
    "import pandas as pd\n",
    "import numpy as np\n",
    "import math\n",
    "import json\n",
    "import matplotlib.pyplot as plt\n",
    "import seaborn as sns\n",
    "import time\n",
    "from utils import *"
   ]
  },
  {
   "cell_type": "code",
   "execution_count": 772,
   "metadata": {},
   "outputs": [
    {
     "name": "stderr",
     "output_type": "stream",
     "text": [
      "UsageError: Line magic function `%` not found.\n"
     ]
    }
   ],
   "source": [
    "% matplotlib inline"
   ]
  },
  {
   "cell_type": "code",
   "execution_count": 798,
   "metadata": {},
   "outputs": [],
   "source": [
    "# read in the json files\n",
    "portfolio = pd.read_json('data/portfolio.json', orient='records', lines=True)\n",
    "profile = pd.read_json('data/profile.json', orient='records', lines=True)\n",
    "transcript = pd.read_json('data/transcript.json', orient='records', lines=True)"
   ]
  },
  {
   "cell_type": "markdown",
   "metadata": {},
   "source": [
    "# <a class=\"anchor\" id=\"Data-Exploration\">Part I : Exploratory Data Analysis</a>"
   ]
  },
  {
   "cell_type": "markdown",
   "metadata": {},
   "source": [
    "### 1. Portfolio table: only 10 lines since it is the repository for the transaction type"
   ]
  },
  {
   "cell_type": "code",
   "execution_count": 799,
   "metadata": {},
   "outputs": [
    {
     "data": {
      "text/html": [
       "<div>\n",
       "<style scoped>\n",
       "    .dataframe tbody tr th:only-of-type {\n",
       "        vertical-align: middle;\n",
       "    }\n",
       "\n",
       "    .dataframe tbody tr th {\n",
       "        vertical-align: top;\n",
       "    }\n",
       "\n",
       "    .dataframe thead th {\n",
       "        text-align: right;\n",
       "    }\n",
       "</style>\n",
       "<table border=\"1\" class=\"dataframe\">\n",
       "  <thead>\n",
       "    <tr style=\"text-align: right;\">\n",
       "      <th></th>\n",
       "      <th>reward</th>\n",
       "      <th>channels</th>\n",
       "      <th>difficulty</th>\n",
       "      <th>duration</th>\n",
       "      <th>offer_type</th>\n",
       "      <th>id</th>\n",
       "    </tr>\n",
       "  </thead>\n",
       "  <tbody>\n",
       "    <tr>\n",
       "      <th>0</th>\n",
       "      <td>10</td>\n",
       "      <td>[email, mobile, social]</td>\n",
       "      <td>10</td>\n",
       "      <td>7</td>\n",
       "      <td>bogo</td>\n",
       "      <td>ae264e3637204a6fb9bb56bc8210ddfd</td>\n",
       "    </tr>\n",
       "    <tr>\n",
       "      <th>1</th>\n",
       "      <td>10</td>\n",
       "      <td>[web, email, mobile, social]</td>\n",
       "      <td>10</td>\n",
       "      <td>5</td>\n",
       "      <td>bogo</td>\n",
       "      <td>4d5c57ea9a6940dd891ad53e9dbe8da0</td>\n",
       "    </tr>\n",
       "    <tr>\n",
       "      <th>2</th>\n",
       "      <td>0</td>\n",
       "      <td>[web, email, mobile]</td>\n",
       "      <td>0</td>\n",
       "      <td>4</td>\n",
       "      <td>informational</td>\n",
       "      <td>3f207df678b143eea3cee63160fa8bed</td>\n",
       "    </tr>\n",
       "    <tr>\n",
       "      <th>3</th>\n",
       "      <td>5</td>\n",
       "      <td>[web, email, mobile]</td>\n",
       "      <td>5</td>\n",
       "      <td>7</td>\n",
       "      <td>bogo</td>\n",
       "      <td>9b98b8c7a33c4b65b9aebfe6a799e6d9</td>\n",
       "    </tr>\n",
       "    <tr>\n",
       "      <th>4</th>\n",
       "      <td>5</td>\n",
       "      <td>[web, email]</td>\n",
       "      <td>20</td>\n",
       "      <td>10</td>\n",
       "      <td>discount</td>\n",
       "      <td>0b1e1539f2cc45b7b9fa7c272da2e1d7</td>\n",
       "    </tr>\n",
       "    <tr>\n",
       "      <th>5</th>\n",
       "      <td>3</td>\n",
       "      <td>[web, email, mobile, social]</td>\n",
       "      <td>7</td>\n",
       "      <td>7</td>\n",
       "      <td>discount</td>\n",
       "      <td>2298d6c36e964ae4a3e7e9706d1fb8c2</td>\n",
       "    </tr>\n",
       "    <tr>\n",
       "      <th>6</th>\n",
       "      <td>2</td>\n",
       "      <td>[web, email, mobile, social]</td>\n",
       "      <td>10</td>\n",
       "      <td>10</td>\n",
       "      <td>discount</td>\n",
       "      <td>fafdcd668e3743c1bb461111dcafc2a4</td>\n",
       "    </tr>\n",
       "    <tr>\n",
       "      <th>7</th>\n",
       "      <td>0</td>\n",
       "      <td>[email, mobile, social]</td>\n",
       "      <td>0</td>\n",
       "      <td>3</td>\n",
       "      <td>informational</td>\n",
       "      <td>5a8bc65990b245e5a138643cd4eb9837</td>\n",
       "    </tr>\n",
       "    <tr>\n",
       "      <th>8</th>\n",
       "      <td>5</td>\n",
       "      <td>[web, email, mobile, social]</td>\n",
       "      <td>5</td>\n",
       "      <td>5</td>\n",
       "      <td>bogo</td>\n",
       "      <td>f19421c1d4aa40978ebb69ca19b0e20d</td>\n",
       "    </tr>\n",
       "    <tr>\n",
       "      <th>9</th>\n",
       "      <td>2</td>\n",
       "      <td>[web, email, mobile]</td>\n",
       "      <td>10</td>\n",
       "      <td>7</td>\n",
       "      <td>discount</td>\n",
       "      <td>2906b810c7d4411798c6938adc9daaa5</td>\n",
       "    </tr>\n",
       "  </tbody>\n",
       "</table>\n",
       "</div>"
      ],
      "text/plain": [
       "   reward                      channels  difficulty  duration     offer_type  \\\n",
       "0      10       [email, mobile, social]          10         7           bogo   \n",
       "1      10  [web, email, mobile, social]          10         5           bogo   \n",
       "2       0          [web, email, mobile]           0         4  informational   \n",
       "3       5          [web, email, mobile]           5         7           bogo   \n",
       "4       5                  [web, email]          20        10       discount   \n",
       "5       3  [web, email, mobile, social]           7         7       discount   \n",
       "6       2  [web, email, mobile, social]          10        10       discount   \n",
       "7       0       [email, mobile, social]           0         3  informational   \n",
       "8       5  [web, email, mobile, social]           5         5           bogo   \n",
       "9       2          [web, email, mobile]          10         7       discount   \n",
       "\n",
       "                                 id  \n",
       "0  ae264e3637204a6fb9bb56bc8210ddfd  \n",
       "1  4d5c57ea9a6940dd891ad53e9dbe8da0  \n",
       "2  3f207df678b143eea3cee63160fa8bed  \n",
       "3  9b98b8c7a33c4b65b9aebfe6a799e6d9  \n",
       "4  0b1e1539f2cc45b7b9fa7c272da2e1d7  \n",
       "5  2298d6c36e964ae4a3e7e9706d1fb8c2  \n",
       "6  fafdcd668e3743c1bb461111dcafc2a4  \n",
       "7  5a8bc65990b245e5a138643cd4eb9837  \n",
       "8  f19421c1d4aa40978ebb69ca19b0e20d  \n",
       "9  2906b810c7d4411798c6938adc9daaa5  "
      ]
     },
     "execution_count": 799,
     "metadata": {},
     "output_type": "execute_result"
    }
   ],
   "source": [
    "portfolio.head(10)"
   ]
  },
  {
   "cell_type": "code",
   "execution_count": 800,
   "metadata": {},
   "outputs": [],
   "source": [
    "def clean_portfolio(portfolio):\n",
    "    '''\n",
    "    data cleaning the portfolio dataframe\n",
    "    \n",
    "    INPUT:\n",
    "    portfolio - the portfolio dataframe to be cleaned\n",
    "    \n",
    "    OUTPUT:\n",
    "    portfolio - the cleaned portfolio dataframe\n",
    "    \n",
    "    '''\n",
    "    # change the duration from day to hour\n",
    "    cleaned_portfolio = portfolio.copy()\n",
    "    cleaned_portfolio['duration'] = cleaned_portfolio['duration'] * 24\n",
    "    \n",
    "    # apply one hot encoding to channels column\n",
    "    cleaned_portfolio['web'] = cleaned_portfolio['channels'].apply(lambda x: 1 if 'web' in x else 0)\n",
    "    cleaned_portfolio['email'] = cleaned_portfolio['channels'].apply(lambda x: 1 if 'email' in x else 0)\n",
    "    cleaned_portfolio['mobile'] = cleaned_portfolio['channels'].apply(lambda x: 1 if 'mobile' in x else 0)\n",
    "    cleaned_portfolio['social'] = cleaned_portfolio['channels'].apply(lambda x: 1 if 'social' in x else 0)\n",
    "    \n",
    "    # apply one hot encoding to offer_type column\n",
    "    offer_type = pd.get_dummies(cleaned_portfolio['offer_type'])\n",
    "    \n",
    "    # drop the channels and offer_type column\n",
    "    cleaned_portfolio.drop(['channels'], axis=1, inplace=True)\n",
    "    \n",
    "    # combine the portfolio and offer_type dataframe to form a cleaned dataframe\n",
    "    cleaned_portfolio = pd.concat([cleaned_portfolio, offer_type], axis=1, sort=False)\n",
    "    \n",
    "    return cleaned_portfolio"
   ]
  },
  {
   "cell_type": "code",
   "execution_count": 801,
   "metadata": {},
   "outputs": [],
   "source": [
    "cleaned_portfolio = clean_portfolio(portfolio)"
   ]
  },
  {
   "cell_type": "code",
   "execution_count": 802,
   "metadata": {},
   "outputs": [
    {
     "data": {
      "text/html": [
       "<div>\n",
       "<style scoped>\n",
       "    .dataframe tbody tr th:only-of-type {\n",
       "        vertical-align: middle;\n",
       "    }\n",
       "\n",
       "    .dataframe tbody tr th {\n",
       "        vertical-align: top;\n",
       "    }\n",
       "\n",
       "    .dataframe thead th {\n",
       "        text-align: right;\n",
       "    }\n",
       "</style>\n",
       "<table border=\"1\" class=\"dataframe\">\n",
       "  <thead>\n",
       "    <tr style=\"text-align: right;\">\n",
       "      <th></th>\n",
       "      <th>reward</th>\n",
       "      <th>difficulty</th>\n",
       "      <th>duration</th>\n",
       "      <th>offer_type</th>\n",
       "      <th>id</th>\n",
       "      <th>web</th>\n",
       "      <th>email</th>\n",
       "      <th>mobile</th>\n",
       "      <th>social</th>\n",
       "      <th>bogo</th>\n",
       "      <th>discount</th>\n",
       "      <th>informational</th>\n",
       "    </tr>\n",
       "  </thead>\n",
       "  <tbody>\n",
       "    <tr>\n",
       "      <th>0</th>\n",
       "      <td>10</td>\n",
       "      <td>10</td>\n",
       "      <td>168</td>\n",
       "      <td>bogo</td>\n",
       "      <td>ae264e3637204a6fb9bb56bc8210ddfd</td>\n",
       "      <td>0</td>\n",
       "      <td>1</td>\n",
       "      <td>1</td>\n",
       "      <td>1</td>\n",
       "      <td>1</td>\n",
       "      <td>0</td>\n",
       "      <td>0</td>\n",
       "    </tr>\n",
       "    <tr>\n",
       "      <th>1</th>\n",
       "      <td>10</td>\n",
       "      <td>10</td>\n",
       "      <td>120</td>\n",
       "      <td>bogo</td>\n",
       "      <td>4d5c57ea9a6940dd891ad53e9dbe8da0</td>\n",
       "      <td>1</td>\n",
       "      <td>1</td>\n",
       "      <td>1</td>\n",
       "      <td>1</td>\n",
       "      <td>1</td>\n",
       "      <td>0</td>\n",
       "      <td>0</td>\n",
       "    </tr>\n",
       "    <tr>\n",
       "      <th>2</th>\n",
       "      <td>0</td>\n",
       "      <td>0</td>\n",
       "      <td>96</td>\n",
       "      <td>informational</td>\n",
       "      <td>3f207df678b143eea3cee63160fa8bed</td>\n",
       "      <td>1</td>\n",
       "      <td>1</td>\n",
       "      <td>1</td>\n",
       "      <td>0</td>\n",
       "      <td>0</td>\n",
       "      <td>0</td>\n",
       "      <td>1</td>\n",
       "    </tr>\n",
       "    <tr>\n",
       "      <th>3</th>\n",
       "      <td>5</td>\n",
       "      <td>5</td>\n",
       "      <td>168</td>\n",
       "      <td>bogo</td>\n",
       "      <td>9b98b8c7a33c4b65b9aebfe6a799e6d9</td>\n",
       "      <td>1</td>\n",
       "      <td>1</td>\n",
       "      <td>1</td>\n",
       "      <td>0</td>\n",
       "      <td>1</td>\n",
       "      <td>0</td>\n",
       "      <td>0</td>\n",
       "    </tr>\n",
       "    <tr>\n",
       "      <th>4</th>\n",
       "      <td>5</td>\n",
       "      <td>20</td>\n",
       "      <td>240</td>\n",
       "      <td>discount</td>\n",
       "      <td>0b1e1539f2cc45b7b9fa7c272da2e1d7</td>\n",
       "      <td>1</td>\n",
       "      <td>1</td>\n",
       "      <td>0</td>\n",
       "      <td>0</td>\n",
       "      <td>0</td>\n",
       "      <td>1</td>\n",
       "      <td>0</td>\n",
       "    </tr>\n",
       "  </tbody>\n",
       "</table>\n",
       "</div>"
      ],
      "text/plain": [
       "   reward  difficulty  duration     offer_type  \\\n",
       "0      10          10       168           bogo   \n",
       "1      10          10       120           bogo   \n",
       "2       0           0        96  informational   \n",
       "3       5           5       168           bogo   \n",
       "4       5          20       240       discount   \n",
       "\n",
       "                                 id  web  email  mobile  social  bogo  \\\n",
       "0  ae264e3637204a6fb9bb56bc8210ddfd    0      1       1       1     1   \n",
       "1  4d5c57ea9a6940dd891ad53e9dbe8da0    1      1       1       1     1   \n",
       "2  3f207df678b143eea3cee63160fa8bed    1      1       1       0     0   \n",
       "3  9b98b8c7a33c4b65b9aebfe6a799e6d9    1      1       1       0     1   \n",
       "4  0b1e1539f2cc45b7b9fa7c272da2e1d7    1      1       0       0     0   \n",
       "\n",
       "   discount  informational  \n",
       "0         0              0  \n",
       "1         0              0  \n",
       "2         0              1  \n",
       "3         0              0  \n",
       "4         1              0  "
      ]
     },
     "execution_count": 802,
     "metadata": {},
     "output_type": "execute_result"
    }
   ],
   "source": [
    "cleaned_portfolio.head()"
   ]
  },
  {
   "cell_type": "markdown",
   "metadata": {},
   "source": [
    "### 2. Profile table : basic statistics and feature engineering of dates"
   ]
  },
  {
   "cell_type": "code",
   "execution_count": 803,
   "metadata": {},
   "outputs": [
    {
     "data": {
      "text/html": [
       "<div>\n",
       "<style scoped>\n",
       "    .dataframe tbody tr th:only-of-type {\n",
       "        vertical-align: middle;\n",
       "    }\n",
       "\n",
       "    .dataframe tbody tr th {\n",
       "        vertical-align: top;\n",
       "    }\n",
       "\n",
       "    .dataframe thead th {\n",
       "        text-align: right;\n",
       "    }\n",
       "</style>\n",
       "<table border=\"1\" class=\"dataframe\">\n",
       "  <thead>\n",
       "    <tr style=\"text-align: right;\">\n",
       "      <th></th>\n",
       "      <th>gender</th>\n",
       "      <th>age</th>\n",
       "      <th>id</th>\n",
       "      <th>became_member_on</th>\n",
       "      <th>income</th>\n",
       "    </tr>\n",
       "  </thead>\n",
       "  <tbody>\n",
       "    <tr>\n",
       "      <th>0</th>\n",
       "      <td>None</td>\n",
       "      <td>118</td>\n",
       "      <td>68be06ca386d4c31939f3a4f0e3dd783</td>\n",
       "      <td>20170212</td>\n",
       "      <td>NaN</td>\n",
       "    </tr>\n",
       "    <tr>\n",
       "      <th>1</th>\n",
       "      <td>F</td>\n",
       "      <td>55</td>\n",
       "      <td>0610b486422d4921ae7d2bf64640c50b</td>\n",
       "      <td>20170715</td>\n",
       "      <td>112000.0</td>\n",
       "    </tr>\n",
       "    <tr>\n",
       "      <th>2</th>\n",
       "      <td>None</td>\n",
       "      <td>118</td>\n",
       "      <td>38fe809add3b4fcf9315a9694bb96ff5</td>\n",
       "      <td>20180712</td>\n",
       "      <td>NaN</td>\n",
       "    </tr>\n",
       "    <tr>\n",
       "      <th>3</th>\n",
       "      <td>F</td>\n",
       "      <td>75</td>\n",
       "      <td>78afa995795e4d85b5d9ceeca43f5fef</td>\n",
       "      <td>20170509</td>\n",
       "      <td>100000.0</td>\n",
       "    </tr>\n",
       "    <tr>\n",
       "      <th>4</th>\n",
       "      <td>None</td>\n",
       "      <td>118</td>\n",
       "      <td>a03223e636434f42ac4c3df47e8bac43</td>\n",
       "      <td>20170804</td>\n",
       "      <td>NaN</td>\n",
       "    </tr>\n",
       "    <tr>\n",
       "      <th>5</th>\n",
       "      <td>M</td>\n",
       "      <td>68</td>\n",
       "      <td>e2127556f4f64592b11af22de27a7932</td>\n",
       "      <td>20180426</td>\n",
       "      <td>70000.0</td>\n",
       "    </tr>\n",
       "    <tr>\n",
       "      <th>6</th>\n",
       "      <td>None</td>\n",
       "      <td>118</td>\n",
       "      <td>8ec6ce2a7e7949b1bf142def7d0e0586</td>\n",
       "      <td>20170925</td>\n",
       "      <td>NaN</td>\n",
       "    </tr>\n",
       "    <tr>\n",
       "      <th>7</th>\n",
       "      <td>None</td>\n",
       "      <td>118</td>\n",
       "      <td>68617ca6246f4fbc85e91a2a49552598</td>\n",
       "      <td>20171002</td>\n",
       "      <td>NaN</td>\n",
       "    </tr>\n",
       "    <tr>\n",
       "      <th>8</th>\n",
       "      <td>M</td>\n",
       "      <td>65</td>\n",
       "      <td>389bc3fa690240e798340f5a15918d5c</td>\n",
       "      <td>20180209</td>\n",
       "      <td>53000.0</td>\n",
       "    </tr>\n",
       "    <tr>\n",
       "      <th>9</th>\n",
       "      <td>None</td>\n",
       "      <td>118</td>\n",
       "      <td>8974fc5686fe429db53ddde067b88302</td>\n",
       "      <td>20161122</td>\n",
       "      <td>NaN</td>\n",
       "    </tr>\n",
       "  </tbody>\n",
       "</table>\n",
       "</div>"
      ],
      "text/plain": [
       "  gender  age                                id  became_member_on    income\n",
       "0   None  118  68be06ca386d4c31939f3a4f0e3dd783          20170212       NaN\n",
       "1      F   55  0610b486422d4921ae7d2bf64640c50b          20170715  112000.0\n",
       "2   None  118  38fe809add3b4fcf9315a9694bb96ff5          20180712       NaN\n",
       "3      F   75  78afa995795e4d85b5d9ceeca43f5fef          20170509  100000.0\n",
       "4   None  118  a03223e636434f42ac4c3df47e8bac43          20170804       NaN\n",
       "5      M   68  e2127556f4f64592b11af22de27a7932          20180426   70000.0\n",
       "6   None  118  8ec6ce2a7e7949b1bf142def7d0e0586          20170925       NaN\n",
       "7   None  118  68617ca6246f4fbc85e91a2a49552598          20171002       NaN\n",
       "8      M   65  389bc3fa690240e798340f5a15918d5c          20180209   53000.0\n",
       "9   None  118  8974fc5686fe429db53ddde067b88302          20161122       NaN"
      ]
     },
     "execution_count": 803,
     "metadata": {},
     "output_type": "execute_result"
    }
   ],
   "source": [
    "profile.head(10)"
   ]
  },
  {
   "cell_type": "code",
   "execution_count": 804,
   "metadata": {},
   "outputs": [
    {
     "data": {
      "text/plain": [
       "(17000, 5)"
      ]
     },
     "execution_count": 804,
     "metadata": {},
     "output_type": "execute_result"
    }
   ],
   "source": [
    "profile.shape"
   ]
  },
  {
   "cell_type": "code",
   "execution_count": 805,
   "metadata": {},
   "outputs": [
    {
     "data": {
      "text/html": [
       "<div>\n",
       "<style scoped>\n",
       "    .dataframe tbody tr th:only-of-type {\n",
       "        vertical-align: middle;\n",
       "    }\n",
       "\n",
       "    .dataframe tbody tr th {\n",
       "        vertical-align: top;\n",
       "    }\n",
       "\n",
       "    .dataframe thead th {\n",
       "        text-align: right;\n",
       "    }\n",
       "</style>\n",
       "<table border=\"1\" class=\"dataframe\">\n",
       "  <thead>\n",
       "    <tr style=\"text-align: right;\">\n",
       "      <th></th>\n",
       "      <th>age</th>\n",
       "      <th>became_member_on</th>\n",
       "      <th>income</th>\n",
       "    </tr>\n",
       "  </thead>\n",
       "  <tbody>\n",
       "    <tr>\n",
       "      <th>count</th>\n",
       "      <td>17000.000000</td>\n",
       "      <td>1.700000e+04</td>\n",
       "      <td>14825.000000</td>\n",
       "    </tr>\n",
       "    <tr>\n",
       "      <th>mean</th>\n",
       "      <td>62.531412</td>\n",
       "      <td>2.016703e+07</td>\n",
       "      <td>65404.991568</td>\n",
       "    </tr>\n",
       "    <tr>\n",
       "      <th>std</th>\n",
       "      <td>26.738580</td>\n",
       "      <td>1.167750e+04</td>\n",
       "      <td>21598.299410</td>\n",
       "    </tr>\n",
       "    <tr>\n",
       "      <th>min</th>\n",
       "      <td>18.000000</td>\n",
       "      <td>2.013073e+07</td>\n",
       "      <td>30000.000000</td>\n",
       "    </tr>\n",
       "    <tr>\n",
       "      <th>25%</th>\n",
       "      <td>45.000000</td>\n",
       "      <td>2.016053e+07</td>\n",
       "      <td>49000.000000</td>\n",
       "    </tr>\n",
       "    <tr>\n",
       "      <th>50%</th>\n",
       "      <td>58.000000</td>\n",
       "      <td>2.017080e+07</td>\n",
       "      <td>64000.000000</td>\n",
       "    </tr>\n",
       "    <tr>\n",
       "      <th>75%</th>\n",
       "      <td>73.000000</td>\n",
       "      <td>2.017123e+07</td>\n",
       "      <td>80000.000000</td>\n",
       "    </tr>\n",
       "    <tr>\n",
       "      <th>max</th>\n",
       "      <td>118.000000</td>\n",
       "      <td>2.018073e+07</td>\n",
       "      <td>120000.000000</td>\n",
       "    </tr>\n",
       "  </tbody>\n",
       "</table>\n",
       "</div>"
      ],
      "text/plain": [
       "                age  became_member_on         income\n",
       "count  17000.000000      1.700000e+04   14825.000000\n",
       "mean      62.531412      2.016703e+07   65404.991568\n",
       "std       26.738580      1.167750e+04   21598.299410\n",
       "min       18.000000      2.013073e+07   30000.000000\n",
       "25%       45.000000      2.016053e+07   49000.000000\n",
       "50%       58.000000      2.017080e+07   64000.000000\n",
       "75%       73.000000      2.017123e+07   80000.000000\n",
       "max      118.000000      2.018073e+07  120000.000000"
      ]
     },
     "execution_count": 805,
     "metadata": {},
     "output_type": "execute_result"
    }
   ],
   "source": [
    "profile.describe()"
   ]
  },
  {
   "cell_type": "code",
   "execution_count": 806,
   "metadata": {},
   "outputs": [
    {
     "data": {
      "text/plain": [
       "2175"
      ]
     },
     "execution_count": 806,
     "metadata": {},
     "output_type": "execute_result"
    }
   ],
   "source": [
    "sum(profile.age == 118)"
   ]
  },
  {
   "cell_type": "code",
   "execution_count": 807,
   "metadata": {},
   "outputs": [
    {
     "data": {
      "image/png": "[encoded data removed]",
      "text/plain": [
       "<Figure size 720x360 with 1 Axes>"
      ]
     },
     "metadata": {},
     "output_type": "display_data"
    }
   ],
   "source": [
    "profile.age.hist();"
   ]
  },
  {
   "cell_type": "code",
   "execution_count": 808,
   "metadata": {},
   "outputs": [
    {
     "data": {
      "text/plain": [
       "<matplotlib.axes._subplots.AxesSubplot at 0x1a1df405c0>"
      ]
     },
     "execution_count": 808,
     "metadata": {},
     "output_type": "execute_result"
    },
    {
     "data": {
      "image/png": "[encoded data removed]",
      "text/plain": [
       "<Figure size 720x360 with 1 Axes>"
      ]
     },
     "metadata": {},
     "output_type": "display_data"
    }
   ],
   "source": [
    "profile.income.plot(kind=\"hist\",title=\"Distribution of income among members\")"
   ]
  },
  {
   "cell_type": "code",
   "execution_count": 809,
   "metadata": {},
   "outputs": [
    {
     "data": {
      "text/plain": [
       "Text(0.5, 1.0, 'Distribution of age among members')"
      ]
     },
     "execution_count": 809,
     "metadata": {},
     "output_type": "execute_result"
    },
    {
     "data": {
      "image/png": "[encoded data removed]",
      "text/plain": [
       "<Figure size 720x360 with 1 Axes>"
      ]
     },
     "metadata": {},
     "output_type": "display_data"
    }
   ],
   "source": [
    "sns.set(rc={'figure.figsize':(10,5)})\n",
    "sns.countplot(x='gender', data=profile).set_title(\"Distribution of age among members\")"
   ]
  },
  {
   "cell_type": "code",
   "execution_count": 810,
   "metadata": {},
   "outputs": [],
   "source": [
    "def clean_profile(profile):\n",
    "    '''\n",
    "    data cleaning the profile dataframe\n",
    "    \n",
    "    INPUT:\n",
    "    profile - the profile dataframe to be cleaned\n",
    "    \n",
    "    OUTPUT:\n",
    "    profile - the cleaned profile dataframe\n",
    "    \n",
    "    '''\n",
    "    # age: (numeric) missing value encoded as 118\n",
    "    profile['age'] = profile['age'].apply(lambda x: np.nan if x == 118 else x)\n",
    "    \n",
    "    # drop all missing values\n",
    "    profile.dropna(inplace=True)\n",
    "    \n",
    "    # the number of days since the user is a memeber of starbucks\n",
    "    profile['memberdays'] = pd.datetime.datetime.today().date() - pd.to_datetime(profile['became_member_on'], format='%Y%m%d').dt.date\n",
    "    profile['memberdays'] = profile['memberdays'].dt.days\n",
    "    \n",
    "    \n",
    "    return profile"
   ]
  },
  {
   "cell_type": "code",
   "execution_count": 811,
   "metadata": {},
   "outputs": [
    {
     "data": {
      "text/html": [
       "<div>\n",
       "<style scoped>\n",
       "    .dataframe tbody tr th:only-of-type {\n",
       "        vertical-align: middle;\n",
       "    }\n",
       "\n",
       "    .dataframe tbody tr th {\n",
       "        vertical-align: top;\n",
       "    }\n",
       "\n",
       "    .dataframe thead th {\n",
       "        text-align: right;\n",
       "    }\n",
       "</style>\n",
       "<table border=\"1\" class=\"dataframe\">\n",
       "  <thead>\n",
       "    <tr style=\"text-align: right;\">\n",
       "      <th></th>\n",
       "      <th>gender</th>\n",
       "      <th>age</th>\n",
       "      <th>id</th>\n",
       "      <th>became_member_on</th>\n",
       "      <th>income</th>\n",
       "      <th>memberdays</th>\n",
       "    </tr>\n",
       "  </thead>\n",
       "  <tbody>\n",
       "    <tr>\n",
       "      <th>1</th>\n",
       "      <td>F</td>\n",
       "      <td>55.0</td>\n",
       "      <td>0610b486422d4921ae7d2bf64640c50b</td>\n",
       "      <td>20170715</td>\n",
       "      <td>112000.0</td>\n",
       "      <td>1025</td>\n",
       "    </tr>\n",
       "    <tr>\n",
       "      <th>3</th>\n",
       "      <td>F</td>\n",
       "      <td>75.0</td>\n",
       "      <td>78afa995795e4d85b5d9ceeca43f5fef</td>\n",
       "      <td>20170509</td>\n",
       "      <td>100000.0</td>\n",
       "      <td>1092</td>\n",
       "    </tr>\n",
       "    <tr>\n",
       "      <th>5</th>\n",
       "      <td>M</td>\n",
       "      <td>68.0</td>\n",
       "      <td>e2127556f4f64592b11af22de27a7932</td>\n",
       "      <td>20180426</td>\n",
       "      <td>70000.0</td>\n",
       "      <td>740</td>\n",
       "    </tr>\n",
       "    <tr>\n",
       "      <th>8</th>\n",
       "      <td>M</td>\n",
       "      <td>65.0</td>\n",
       "      <td>389bc3fa690240e798340f5a15918d5c</td>\n",
       "      <td>20180209</td>\n",
       "      <td>53000.0</td>\n",
       "      <td>816</td>\n",
       "    </tr>\n",
       "    <tr>\n",
       "      <th>12</th>\n",
       "      <td>M</td>\n",
       "      <td>58.0</td>\n",
       "      <td>2eeac8d8feae4a8cad5a6af0499a211d</td>\n",
       "      <td>20171111</td>\n",
       "      <td>51000.0</td>\n",
       "      <td>906</td>\n",
       "    </tr>\n",
       "  </tbody>\n",
       "</table>\n",
       "</div>"
      ],
      "text/plain": [
       "   gender   age                                id  became_member_on    income  \\\n",
       "1       F  55.0  0610b486422d4921ae7d2bf64640c50b          20170715  112000.0   \n",
       "3       F  75.0  78afa995795e4d85b5d9ceeca43f5fef          20170509  100000.0   \n",
       "5       M  68.0  e2127556f4f64592b11af22de27a7932          20180426   70000.0   \n",
       "8       M  65.0  389bc3fa690240e798340f5a15918d5c          20180209   53000.0   \n",
       "12      M  58.0  2eeac8d8feae4a8cad5a6af0499a211d          20171111   51000.0   \n",
       "\n",
       "    memberdays  \n",
       "1         1025  \n",
       "3         1092  \n",
       "5          740  \n",
       "8          816  \n",
       "12         906  "
      ]
     },
     "execution_count": 811,
     "metadata": {},
     "output_type": "execute_result"
    }
   ],
   "source": [
    "cleaned_profile = clean_profile(profile)\n",
    "cleaned_profile.head()"
   ]
  },
  {
   "cell_type": "markdown",
   "metadata": {},
   "source": [
    "### 3. Transcript table"
   ]
  },
  {
   "cell_type": "code",
   "execution_count": 812,
   "metadata": {},
   "outputs": [
    {
     "data": {
      "text/html": [
       "<div>\n",
       "<style scoped>\n",
       "    .dataframe tbody tr th:only-of-type {\n",
       "        vertical-align: middle;\n",
       "    }\n",
       "\n",
       "    .dataframe tbody tr th {\n",
       "        vertical-align: top;\n",
       "    }\n",
       "\n",
       "    .dataframe thead th {\n",
       "        text-align: right;\n",
       "    }\n",
       "</style>\n",
       "<table border=\"1\" class=\"dataframe\">\n",
       "  <thead>\n",
       "    <tr style=\"text-align: right;\">\n",
       "      <th></th>\n",
       "      <th>person</th>\n",
       "      <th>event</th>\n",
       "      <th>value</th>\n",
       "      <th>time</th>\n",
       "    </tr>\n",
       "  </thead>\n",
       "  <tbody>\n",
       "    <tr>\n",
       "      <th>0</th>\n",
       "      <td>78afa995795e4d85b5d9ceeca43f5fef</td>\n",
       "      <td>offer received</td>\n",
       "      <td>{'offer id': '9b98b8c7a33c4b65b9aebfe6a799e6d9'}</td>\n",
       "      <td>0</td>\n",
       "    </tr>\n",
       "    <tr>\n",
       "      <th>15561</th>\n",
       "      <td>78afa995795e4d85b5d9ceeca43f5fef</td>\n",
       "      <td>offer viewed</td>\n",
       "      <td>{'offer id': '9b98b8c7a33c4b65b9aebfe6a799e6d9'}</td>\n",
       "      <td>6</td>\n",
       "    </tr>\n",
       "    <tr>\n",
       "      <th>47582</th>\n",
       "      <td>78afa995795e4d85b5d9ceeca43f5fef</td>\n",
       "      <td>transaction</td>\n",
       "      <td>{'amount': 19.89}</td>\n",
       "      <td>132</td>\n",
       "    </tr>\n",
       "    <tr>\n",
       "      <th>47583</th>\n",
       "      <td>78afa995795e4d85b5d9ceeca43f5fef</td>\n",
       "      <td>offer completed</td>\n",
       "      <td>{'offer_id': '9b98b8c7a33c4b65b9aebfe6a799e6d9...</td>\n",
       "      <td>132</td>\n",
       "    </tr>\n",
       "    <tr>\n",
       "      <th>49502</th>\n",
       "      <td>78afa995795e4d85b5d9ceeca43f5fef</td>\n",
       "      <td>transaction</td>\n",
       "      <td>{'amount': 17.78}</td>\n",
       "      <td>144</td>\n",
       "    </tr>\n",
       "    <tr>\n",
       "      <th>53176</th>\n",
       "      <td>78afa995795e4d85b5d9ceeca43f5fef</td>\n",
       "      <td>offer received</td>\n",
       "      <td>{'offer id': '5a8bc65990b245e5a138643cd4eb9837'}</td>\n",
       "      <td>168</td>\n",
       "    </tr>\n",
       "    <tr>\n",
       "      <th>85291</th>\n",
       "      <td>78afa995795e4d85b5d9ceeca43f5fef</td>\n",
       "      <td>offer viewed</td>\n",
       "      <td>{'offer id': '5a8bc65990b245e5a138643cd4eb9837'}</td>\n",
       "      <td>216</td>\n",
       "    </tr>\n",
       "    <tr>\n",
       "      <th>87134</th>\n",
       "      <td>78afa995795e4d85b5d9ceeca43f5fef</td>\n",
       "      <td>transaction</td>\n",
       "      <td>{'amount': 19.67}</td>\n",
       "      <td>222</td>\n",
       "    </tr>\n",
       "    <tr>\n",
       "      <th>92104</th>\n",
       "      <td>78afa995795e4d85b5d9ceeca43f5fef</td>\n",
       "      <td>transaction</td>\n",
       "      <td>{'amount': 29.72}</td>\n",
       "      <td>240</td>\n",
       "    </tr>\n",
       "    <tr>\n",
       "      <th>141566</th>\n",
       "      <td>78afa995795e4d85b5d9ceeca43f5fef</td>\n",
       "      <td>transaction</td>\n",
       "      <td>{'amount': 23.93}</td>\n",
       "      <td>378</td>\n",
       "    </tr>\n",
       "  </tbody>\n",
       "</table>\n",
       "</div>"
      ],
      "text/plain": [
       "                                  person            event  \\\n",
       "0       78afa995795e4d85b5d9ceeca43f5fef   offer received   \n",
       "15561   78afa995795e4d85b5d9ceeca43f5fef     offer viewed   \n",
       "47582   78afa995795e4d85b5d9ceeca43f5fef      transaction   \n",
       "47583   78afa995795e4d85b5d9ceeca43f5fef  offer completed   \n",
       "49502   78afa995795e4d85b5d9ceeca43f5fef      transaction   \n",
       "53176   78afa995795e4d85b5d9ceeca43f5fef   offer received   \n",
       "85291   78afa995795e4d85b5d9ceeca43f5fef     offer viewed   \n",
       "87134   78afa995795e4d85b5d9ceeca43f5fef      transaction   \n",
       "92104   78afa995795e4d85b5d9ceeca43f5fef      transaction   \n",
       "141566  78afa995795e4d85b5d9ceeca43f5fef      transaction   \n",
       "\n",
       "                                                    value  time  \n",
       "0        {'offer id': '9b98b8c7a33c4b65b9aebfe6a799e6d9'}     0  \n",
       "15561    {'offer id': '9b98b8c7a33c4b65b9aebfe6a799e6d9'}     6  \n",
       "47582                                   {'amount': 19.89}   132  \n",
       "47583   {'offer_id': '9b98b8c7a33c4b65b9aebfe6a799e6d9...   132  \n",
       "49502                                   {'amount': 17.78}   144  \n",
       "53176    {'offer id': '5a8bc65990b245e5a138643cd4eb9837'}   168  \n",
       "85291    {'offer id': '5a8bc65990b245e5a138643cd4eb9837'}   216  \n",
       "87134                                   {'amount': 19.67}   222  \n",
       "92104                                   {'amount': 29.72}   240  \n",
       "141566                                  {'amount': 23.93}   378  "
      ]
     },
     "execution_count": 812,
     "metadata": {},
     "output_type": "execute_result"
    }
   ],
   "source": [
    "transcript[transcript.person==\"78afa995795e4d85b5d9ceeca43f5fef\"].head(10)"
   ]
  },
  {
   "cell_type": "code",
   "execution_count": 813,
   "metadata": {},
   "outputs": [
    {
     "data": {
      "text/plain": [
       "Text(0.5, 1.0, 'Distribution of the different type of events')"
      ]
     },
     "execution_count": 813,
     "metadata": {},
     "output_type": "execute_result"
    },
    {
     "data": {
      "image/png": "[encoded data removed]",
      "text/plain": [
       "<Figure size 720x360 with 1 Axes>"
      ]
     },
     "metadata": {},
     "output_type": "display_data"
    }
   ],
   "source": [
    "# Distribution of events\n",
    "sns.countplot(x=\"event\",data=transcript).set_title(\"Distribution of the different type of events\")"
   ]
  },
  {
   "cell_type": "code",
   "execution_count": 814,
   "metadata": {},
   "outputs": [
    {
     "data": {
      "text/html": [
       "<div>\n",
       "<style scoped>\n",
       "    .dataframe tbody tr th:only-of-type {\n",
       "        vertical-align: middle;\n",
       "    }\n",
       "\n",
       "    .dataframe tbody tr th {\n",
       "        vertical-align: top;\n",
       "    }\n",
       "\n",
       "    .dataframe thead th {\n",
       "        text-align: right;\n",
       "    }\n",
       "</style>\n",
       "<table border=\"1\" class=\"dataframe\">\n",
       "  <thead>\n",
       "    <tr style=\"text-align: right;\">\n",
       "      <th></th>\n",
       "      <th>person</th>\n",
       "      <th>event</th>\n",
       "      <th>value</th>\n",
       "      <th>time</th>\n",
       "      <th>offer_id</th>\n",
       "      <th>amount_spent</th>\n",
       "    </tr>\n",
       "  </thead>\n",
       "  <tbody>\n",
       "    <tr>\n",
       "      <th>0</th>\n",
       "      <td>78afa995795e4d85b5d9ceeca43f5fef</td>\n",
       "      <td>offer received</td>\n",
       "      <td>{'offer id': '9b98b8c7a33c4b65b9aebfe6a799e6d9'}</td>\n",
       "      <td>0</td>\n",
       "      <td>9b98b8c7a33c4b65b9aebfe6a799e6d9</td>\n",
       "      <td>NaN</td>\n",
       "    </tr>\n",
       "    <tr>\n",
       "      <th>1</th>\n",
       "      <td>a03223e636434f42ac4c3df47e8bac43</td>\n",
       "      <td>offer received</td>\n",
       "      <td>{'offer id': '0b1e1539f2cc45b7b9fa7c272da2e1d7'}</td>\n",
       "      <td>0</td>\n",
       "      <td>0b1e1539f2cc45b7b9fa7c272da2e1d7</td>\n",
       "      <td>NaN</td>\n",
       "    </tr>\n",
       "    <tr>\n",
       "      <th>2</th>\n",
       "      <td>e2127556f4f64592b11af22de27a7932</td>\n",
       "      <td>offer received</td>\n",
       "      <td>{'offer id': '2906b810c7d4411798c6938adc9daaa5'}</td>\n",
       "      <td>0</td>\n",
       "      <td>2906b810c7d4411798c6938adc9daaa5</td>\n",
       "      <td>NaN</td>\n",
       "    </tr>\n",
       "    <tr>\n",
       "      <th>3</th>\n",
       "      <td>8ec6ce2a7e7949b1bf142def7d0e0586</td>\n",
       "      <td>offer received</td>\n",
       "      <td>{'offer id': 'fafdcd668e3743c1bb461111dcafc2a4'}</td>\n",
       "      <td>0</td>\n",
       "      <td>fafdcd668e3743c1bb461111dcafc2a4</td>\n",
       "      <td>NaN</td>\n",
       "    </tr>\n",
       "    <tr>\n",
       "      <th>4</th>\n",
       "      <td>68617ca6246f4fbc85e91a2a49552598</td>\n",
       "      <td>offer received</td>\n",
       "      <td>{'offer id': '4d5c57ea9a6940dd891ad53e9dbe8da0'}</td>\n",
       "      <td>0</td>\n",
       "      <td>4d5c57ea9a6940dd891ad53e9dbe8da0</td>\n",
       "      <td>NaN</td>\n",
       "    </tr>\n",
       "  </tbody>\n",
       "</table>\n",
       "</div>"
      ],
      "text/plain": [
       "                             person           event  \\\n",
       "0  78afa995795e4d85b5d9ceeca43f5fef  offer received   \n",
       "1  a03223e636434f42ac4c3df47e8bac43  offer received   \n",
       "2  e2127556f4f64592b11af22de27a7932  offer received   \n",
       "3  8ec6ce2a7e7949b1bf142def7d0e0586  offer received   \n",
       "4  68617ca6246f4fbc85e91a2a49552598  offer received   \n",
       "\n",
       "                                              value  time  \\\n",
       "0  {'offer id': '9b98b8c7a33c4b65b9aebfe6a799e6d9'}     0   \n",
       "1  {'offer id': '0b1e1539f2cc45b7b9fa7c272da2e1d7'}     0   \n",
       "2  {'offer id': '2906b810c7d4411798c6938adc9daaa5'}     0   \n",
       "3  {'offer id': 'fafdcd668e3743c1bb461111dcafc2a4'}     0   \n",
       "4  {'offer id': '4d5c57ea9a6940dd891ad53e9dbe8da0'}     0   \n",
       "\n",
       "                           offer_id  amount_spent  \n",
       "0  9b98b8c7a33c4b65b9aebfe6a799e6d9           NaN  \n",
       "1  0b1e1539f2cc45b7b9fa7c272da2e1d7           NaN  \n",
       "2  2906b810c7d4411798c6938adc9daaa5           NaN  \n",
       "3  fafdcd668e3743c1bb461111dcafc2a4           NaN  \n",
       "4  4d5c57ea9a6940dd891ad53e9dbe8da0           NaN  "
      ]
     },
     "execution_count": 814,
     "metadata": {},
     "output_type": "execute_result"
    }
   ],
   "source": [
    "# Feature Engineering of the value colum\n",
    "def feature_column_offer_id(x):\n",
    "    value = 0\n",
    "    if \"offer id\" in x:\n",
    "        value = x[\"offer id\"]\n",
    "    if \"offer_id\" in x:\n",
    "        value = x[\"offer_id\"]\n",
    "    return value\n",
    "\n",
    "def feature_column_amount(x):\n",
    "    value = np.nan\n",
    "    if \"amount\" in x:\n",
    "        value = x[\"amount\"]\n",
    "    return value\n",
    "\n",
    "transcript[\"offer_id\"] = transcript[\"value\"].apply(lambda x: feature_column_offer_id(x))\n",
    "transcript[\"amount_spent\"] = transcript[\"value\"].apply(lambda x: feature_column_amount(x))\n",
    "\n",
    "#transcript.drop(labels =[\"value\"],axis=1)\n",
    "transcript.head()"
   ]
  },
  {
   "cell_type": "code",
   "execution_count": 815,
   "metadata": {},
   "outputs": [
    {
     "name": "stdout",
     "output_type": "stream",
     "text": [
      "The share of offer viewed amnong the offer recieved is of 76.0 %\n",
      "The share of offer completed amnong the offer recieved is of 44.0 %\n"
     ]
    }
   ],
   "source": [
    "# Analysis of the offer\n",
    "transcript.event.value_counts().index\n",
    "offer_analysis = dict(zip(transcript.event.value_counts().index.tolist(),transcript.event.value_counts().values.tolist()))\n",
    "\n",
    "transaction_viewed_pct = round(offer_analysis[\"offer viewed\"]/offer_analysis[\"offer received\"],2)\n",
    "print(\"The share of offer viewed amnong the offer recieved is of {} %\".format(transaction_viewed_pct*100))\n",
    "\n",
    "transaction_completed_pct = round(offer_analysis[\"offer completed\"]/offer_analysis[\"offer received\"],2)\n",
    "print(\"The share of offer completed amnong the offer recieved is of {} %\".format(transaction_completed_pct*100))"
   ]
  },
  {
   "cell_type": "code",
   "execution_count": 816,
   "metadata": {},
   "outputs": [
    {
     "data": {
      "text/plain": [
       "<matplotlib.axes._subplots.AxesSubplot at 0x1a1dfba048>"
      ]
     },
     "execution_count": 816,
     "metadata": {},
     "output_type": "execute_result"
    },
    {
     "data": {
      "image/png": "[encoded data removed]",
      "text/plain": [
       "<Figure size 720x360 with 1 Axes>"
      ]
     },
     "metadata": {},
     "output_type": "display_data"
    }
   ],
   "source": [
    "# Amount spent below 20 (since a maximum value above 1,000)\n",
    "transcript[\"amount_spent\"].loc[transcript.amount_spent<20].hist() "
   ]
  },
  {
   "cell_type": "markdown",
   "metadata": {},
   "source": [
    "# <a class=\"anchor\" id=\"Feature-Engineering-promotion-lifecycle\">Part II : Feature Engineering to understand the different promotion lifecyle and how they are related to existing transactions</a>"
   ]
  },
  {
   "cell_type": "markdown",
   "metadata": {},
   "source": [
    "## 1. Test on some user_id"
   ]
  },
  {
   "cell_type": "code",
   "execution_count": 817,
   "metadata": {},
   "outputs": [
    {
     "data": {
      "text/plain": [
       "17000"
      ]
     },
     "execution_count": 817,
     "metadata": {},
     "output_type": "execute_result"
    }
   ],
   "source": [
    "transcript.person.nunique()"
   ]
  },
  {
   "cell_type": "code",
   "execution_count": 818,
   "metadata": {},
   "outputs": [
    {
     "data": {
      "text/plain": [
       "person\n",
       "94de646f7b6041228ca7dec82adb97d2    51\n",
       "8dbfa485249f409aa223a2130f40634a    49\n",
       "79d9d4f86aca4bed9290350fb43817c2    48\n",
       "d0a80415b84c4df4908b8403b19765e3    48\n",
       "5e60c6aa3b834e44b822ea43a3efea26    48\n",
       "                                    ..\n",
       "22617705eec442e0b7b43e5c5f56fb17     2\n",
       "df9fc9a86ca84ef5aedde8925d5838ba     2\n",
       "3a4e53046c544134bb1e7782248631d1     2\n",
       "e63e42480aae4ede9f07cac49c8c3f78     2\n",
       "da7a7c0dcfcb41a8acc7864a53cf60fb     1\n",
       "Name: event, Length: 17000, dtype: int64"
      ]
     },
     "execution_count": 818,
     "metadata": {},
     "output_type": "execute_result"
    }
   ],
   "source": [
    "transcript.groupby('person').count()[\"event\"].sort_values(ascending=False)"
   ]
  },
  {
   "cell_type": "code",
   "execution_count": 822,
   "metadata": {},
   "outputs": [],
   "source": [
    "user_id = \"78afa995795e4d85b5d9ceeca43f5fef\""
   ]
  },
  {
   "cell_type": "code",
   "execution_count": 823,
   "metadata": {},
   "outputs": [],
   "source": [
    "import utils as rf"
   ]
  },
  {
   "cell_type": "code",
   "execution_count": 824,
   "metadata": {},
   "outputs": [
    {
     "data": {
      "text/html": [
       "<div>\n",
       "<style scoped>\n",
       "    .dataframe tbody tr th:only-of-type {\n",
       "        vertical-align: middle;\n",
       "    }\n",
       "\n",
       "    .dataframe tbody tr th {\n",
       "        vertical-align: top;\n",
       "    }\n",
       "\n",
       "    .dataframe thead th {\n",
       "        text-align: right;\n",
       "    }\n",
       "</style>\n",
       "<table border=\"1\" class=\"dataframe\">\n",
       "  <thead>\n",
       "    <tr style=\"text-align: right;\">\n",
       "      <th></th>\n",
       "      <th>offer_id</th>\n",
       "      <th>creation_time</th>\n",
       "      <th>expiration_time</th>\n",
       "      <th>is_viewed</th>\n",
       "      <th>is_completed</th>\n",
       "    </tr>\n",
       "  </thead>\n",
       "  <tbody>\n",
       "    <tr>\n",
       "      <th>0</th>\n",
       "      <td>9b98b8c7a33c4b65b9aebfe6a799e6d9</td>\n",
       "      <td>0.0</td>\n",
       "      <td>168.0</td>\n",
       "      <td>1</td>\n",
       "      <td>1.0</td>\n",
       "    </tr>\n",
       "    <tr>\n",
       "      <th>1</th>\n",
       "      <td>5a8bc65990b245e5a138643cd4eb9837</td>\n",
       "      <td>168.0</td>\n",
       "      <td>240.0</td>\n",
       "      <td>1</td>\n",
       "      <td>NaN</td>\n",
       "    </tr>\n",
       "    <tr>\n",
       "      <th>2</th>\n",
       "      <td>ae264e3637204a6fb9bb56bc8210ddfd</td>\n",
       "      <td>408.0</td>\n",
       "      <td>576.0</td>\n",
       "      <td>1</td>\n",
       "      <td>1.0</td>\n",
       "    </tr>\n",
       "    <tr>\n",
       "      <th>3</th>\n",
       "      <td>f19421c1d4aa40978ebb69ca19b0e20d</td>\n",
       "      <td>504.0</td>\n",
       "      <td>624.0</td>\n",
       "      <td>1</td>\n",
       "      <td>1.0</td>\n",
       "    </tr>\n",
       "  </tbody>\n",
       "</table>\n",
       "</div>"
      ],
      "text/plain": [
       "                           offer_id  creation_time  expiration_time  \\\n",
       "0  9b98b8c7a33c4b65b9aebfe6a799e6d9            0.0            168.0   \n",
       "1  5a8bc65990b245e5a138643cd4eb9837          168.0            240.0   \n",
       "2  ae264e3637204a6fb9bb56bc8210ddfd          408.0            576.0   \n",
       "3  f19421c1d4aa40978ebb69ca19b0e20d          504.0            624.0   \n",
       "\n",
       "   is_viewed  is_completed  \n",
       "0          1           1.0  \n",
       "1          1           NaN  \n",
       "2          1           1.0  \n",
       "3          1           1.0  "
      ]
     },
     "execution_count": 824,
     "metadata": {},
     "output_type": "execute_result"
    }
   ],
   "source": [
    "offer_life_cycle_final,transaction_id_full = rf.extract_promo_information_and_related_transactions(transcript,user_id,portfolio)\n",
    "offer_life_cycle_final.head(10)"
   ]
  },
  {
   "cell_type": "code",
   "execution_count": 825,
   "metadata": {},
   "outputs": [
    {
     "data": {
      "text/html": [
       "<div>\n",
       "<style scoped>\n",
       "    .dataframe tbody tr th:only-of-type {\n",
       "        vertical-align: middle;\n",
       "    }\n",
       "\n",
       "    .dataframe tbody tr th {\n",
       "        vertical-align: top;\n",
       "    }\n",
       "\n",
       "    .dataframe thead th {\n",
       "        text-align: right;\n",
       "    }\n",
       "</style>\n",
       "<table border=\"1\" class=\"dataframe\">\n",
       "  <thead>\n",
       "    <tr style=\"text-align: right;\">\n",
       "      <th></th>\n",
       "      <th>offer_id</th>\n",
       "      <th>creation_time</th>\n",
       "      <th>expiration_time</th>\n",
       "      <th>is_viewed</th>\n",
       "      <th>is_completed</th>\n",
       "      <th>mean_amount_spent</th>\n",
       "      <th>total_amount_spent</th>\n",
       "    </tr>\n",
       "  </thead>\n",
       "  <tbody>\n",
       "    <tr>\n",
       "      <th>0</th>\n",
       "      <td>9b98b8c7a33c4b65b9aebfe6a799e6d9</td>\n",
       "      <td>0.0</td>\n",
       "      <td>168.0</td>\n",
       "      <td>1.0</td>\n",
       "      <td>1.0</td>\n",
       "      <td>19.890000</td>\n",
       "      <td>19.89</td>\n",
       "    </tr>\n",
       "    <tr>\n",
       "      <th>1</th>\n",
       "      <td>5a8bc65990b245e5a138643cd4eb9837</td>\n",
       "      <td>168.0</td>\n",
       "      <td>240.0</td>\n",
       "      <td>1.0</td>\n",
       "      <td>NaN</td>\n",
       "      <td>24.695000</td>\n",
       "      <td>49.39</td>\n",
       "    </tr>\n",
       "    <tr>\n",
       "      <th>2</th>\n",
       "      <td>ae264e3637204a6fb9bb56bc8210ddfd</td>\n",
       "      <td>408.0</td>\n",
       "      <td>576.0</td>\n",
       "      <td>1.0</td>\n",
       "      <td>1.0</td>\n",
       "      <td>21.720000</td>\n",
       "      <td>21.72</td>\n",
       "    </tr>\n",
       "    <tr>\n",
       "      <th>3</th>\n",
       "      <td>f19421c1d4aa40978ebb69ca19b0e20d</td>\n",
       "      <td>504.0</td>\n",
       "      <td>624.0</td>\n",
       "      <td>1.0</td>\n",
       "      <td>1.0</td>\n",
       "      <td>NaN</td>\n",
       "      <td>NaN</td>\n",
       "    </tr>\n",
       "    <tr>\n",
       "      <th>4</th>\n",
       "      <td>0</td>\n",
       "      <td>0.0</td>\n",
       "      <td>0.0</td>\n",
       "      <td>NaN</td>\n",
       "      <td>NaN</td>\n",
       "      <td>22.756667</td>\n",
       "      <td>68.27</td>\n",
       "    </tr>\n",
       "  </tbody>\n",
       "</table>\n",
       "</div>"
      ],
      "text/plain": [
       "                           offer_id  creation_time  expiration_time  \\\n",
       "0  9b98b8c7a33c4b65b9aebfe6a799e6d9            0.0            168.0   \n",
       "1  5a8bc65990b245e5a138643cd4eb9837          168.0            240.0   \n",
       "2  ae264e3637204a6fb9bb56bc8210ddfd          408.0            576.0   \n",
       "3  f19421c1d4aa40978ebb69ca19b0e20d          504.0            624.0   \n",
       "4                                 0            0.0              0.0   \n",
       "\n",
       "   is_viewed  is_completed  mean_amount_spent  total_amount_spent  \n",
       "0        1.0           1.0          19.890000               19.89  \n",
       "1        1.0           NaN          24.695000               49.39  \n",
       "2        1.0           1.0          21.720000               21.72  \n",
       "3        1.0           1.0                NaN                 NaN  \n",
       "4        NaN           NaN          22.756667               68.27  "
      ]
     },
     "execution_count": 825,
     "metadata": {},
     "output_type": "execute_result"
    }
   ],
   "source": [
    "rf.final_promotion_lifecycle(offer_life_cycle_final,transaction_id_full,user_id)"
   ]
  },
  {
   "cell_type": "markdown",
   "metadata": {},
   "source": [
    "## 2. Loops on the overall transcript tables"
   ]
  },
  {
   "cell_type": "code",
   "execution_count": 24,
   "metadata": {},
   "outputs": [],
   "source": [
    "# Initialization\n",
    "import utils as rf\n",
    "user_id_init = \"94de646f7b6041228ca7dec82adb97d2\"\n",
    "offer_life_cycle_final,transaction_id_full = rf.extract_promo_information_and_related_transactions(transcript,user_id_init,portfolio)\n",
    "offer_life_cycle_final_all = rf.final_promotion_lifecycle(offer_life_cycle_final,transaction_id_full,user_id_init)\n",
    "user_promotion_cycle = offer_life_cycle_final_all"
   ]
  },
  {
   "cell_type": "code",
   "execution_count": 25,
   "metadata": {},
   "outputs": [
    {
     "data": {
      "text/html": [
       "<div>\n",
       "<style scoped>\n",
       "    .dataframe tbody tr th:only-of-type {\n",
       "        vertical-align: middle;\n",
       "    }\n",
       "\n",
       "    .dataframe tbody tr th {\n",
       "        vertical-align: top;\n",
       "    }\n",
       "\n",
       "    .dataframe thead th {\n",
       "        text-align: right;\n",
       "    }\n",
       "</style>\n",
       "<table border=\"1\" class=\"dataframe\">\n",
       "  <thead>\n",
       "    <tr style=\"text-align: right;\">\n",
       "      <th></th>\n",
       "      <th>offer_id</th>\n",
       "      <th>creation_time</th>\n",
       "      <th>expiration_time</th>\n",
       "      <th>is_viewed</th>\n",
       "      <th>is_completed</th>\n",
       "      <th>mean_amount_spent</th>\n",
       "      <th>total_amount_spent</th>\n",
       "    </tr>\n",
       "  </thead>\n",
       "  <tbody>\n",
       "    <tr>\n",
       "      <th>0</th>\n",
       "      <td>f19421c1d4aa40978ebb69ca19b0e20d</td>\n",
       "      <td>0.0</td>\n",
       "      <td>120.0</td>\n",
       "      <td>1.0</td>\n",
       "      <td>1.0</td>\n",
       "      <td>7.410000</td>\n",
       "      <td>7.41</td>\n",
       "    </tr>\n",
       "    <tr>\n",
       "      <th>1</th>\n",
       "      <td>9b98b8c7a33c4b65b9aebfe6a799e6d9</td>\n",
       "      <td>168.0</td>\n",
       "      <td>336.0</td>\n",
       "      <td>1.0</td>\n",
       "      <td>1.0</td>\n",
       "      <td>2.795000</td>\n",
       "      <td>16.77</td>\n",
       "    </tr>\n",
       "    <tr>\n",
       "      <th>2</th>\n",
       "      <td>0b1e1539f2cc45b7b9fa7c272da2e1d7</td>\n",
       "      <td>336.0</td>\n",
       "      <td>576.0</td>\n",
       "      <td>NaN</td>\n",
       "      <td>1.0</td>\n",
       "      <td>NaN</td>\n",
       "      <td>NaN</td>\n",
       "    </tr>\n",
       "    <tr>\n",
       "      <th>3</th>\n",
       "      <td>fafdcd668e3743c1bb461111dcafc2a4</td>\n",
       "      <td>408.0</td>\n",
       "      <td>648.0</td>\n",
       "      <td>1.0</td>\n",
       "      <td>1.0</td>\n",
       "      <td>5.505000</td>\n",
       "      <td>11.01</td>\n",
       "    </tr>\n",
       "    <tr>\n",
       "      <th>4</th>\n",
       "      <td>9b98b8c7a33c4b65b9aebfe6a799e6d9</td>\n",
       "      <td>504.0</td>\n",
       "      <td>672.0</td>\n",
       "      <td>1.0</td>\n",
       "      <td>1.0</td>\n",
       "      <td>2.345000</td>\n",
       "      <td>14.07</td>\n",
       "    </tr>\n",
       "    <tr>\n",
       "      <th>5</th>\n",
       "      <td>4d5c57ea9a6940dd891ad53e9dbe8da0</td>\n",
       "      <td>576.0</td>\n",
       "      <td>696.0</td>\n",
       "      <td>1.0</td>\n",
       "      <td>NaN</td>\n",
       "      <td>2.413333</td>\n",
       "      <td>14.48</td>\n",
       "    </tr>\n",
       "    <tr>\n",
       "      <th>6</th>\n",
       "      <td>0</td>\n",
       "      <td>0.0</td>\n",
       "      <td>0.0</td>\n",
       "      <td>NaN</td>\n",
       "      <td>NaN</td>\n",
       "      <td>1.892143</td>\n",
       "      <td>26.49</td>\n",
       "    </tr>\n",
       "  </tbody>\n",
       "</table>\n",
       "</div>"
      ],
      "text/plain": [
       "                           offer_id  creation_time  expiration_time  \\\n",
       "0  f19421c1d4aa40978ebb69ca19b0e20d            0.0            120.0   \n",
       "1  9b98b8c7a33c4b65b9aebfe6a799e6d9          168.0            336.0   \n",
       "2  0b1e1539f2cc45b7b9fa7c272da2e1d7          336.0            576.0   \n",
       "3  fafdcd668e3743c1bb461111dcafc2a4          408.0            648.0   \n",
       "4  9b98b8c7a33c4b65b9aebfe6a799e6d9          504.0            672.0   \n",
       "5  4d5c57ea9a6940dd891ad53e9dbe8da0          576.0            696.0   \n",
       "6                                 0            0.0              0.0   \n",
       "\n",
       "   is_viewed  is_completed  mean_amount_spent  total_amount_spent  \n",
       "0        1.0           1.0           7.410000                7.41  \n",
       "1        1.0           1.0           2.795000               16.77  \n",
       "2        NaN           1.0                NaN                 NaN  \n",
       "3        1.0           1.0           5.505000               11.01  \n",
       "4        1.0           1.0           2.345000               14.07  \n",
       "5        1.0           NaN           2.413333               14.48  \n",
       "6        NaN           NaN           1.892143               26.49  "
      ]
     },
     "execution_count": 25,
     "metadata": {},
     "output_type": "execute_result"
    }
   ],
   "source": [
    "user_promotion_cycle.head(10)"
   ]
  },
  {
   "cell_type": "code",
   "execution_count": 26,
   "metadata": {},
   "outputs": [
    {
     "name": "stdout",
     "output_type": "stream",
     "text": [
      "It takes 0.2858314832051595 mins to make 100 batch of iterations\n",
      "It takes 0.5766298015912373 mins to make 200 batch of iterations\n",
      "It takes 0.8748680671056112 mins to make 300 batch of iterations\n"
     ]
    }
   ],
   "source": [
    "user_promotion_cycle,non_working_user_id = rf.building_user_promotion_cycle(transcript,portfolio,user_id_init,300)"
   ]
  },
  {
   "cell_type": "code",
   "execution_count": 27,
   "metadata": {},
   "outputs": [
    {
     "data": {
      "text/html": [
       "<div>\n",
       "<style scoped>\n",
       "    .dataframe tbody tr th:only-of-type {\n",
       "        vertical-align: middle;\n",
       "    }\n",
       "\n",
       "    .dataframe tbody tr th {\n",
       "        vertical-align: top;\n",
       "    }\n",
       "\n",
       "    .dataframe thead th {\n",
       "        text-align: right;\n",
       "    }\n",
       "</style>\n",
       "<table border=\"1\" class=\"dataframe\">\n",
       "  <thead>\n",
       "    <tr style=\"text-align: right;\">\n",
       "      <th></th>\n",
       "      <th>offer_id</th>\n",
       "      <th>creation_time</th>\n",
       "      <th>expiration_time</th>\n",
       "      <th>is_viewed</th>\n",
       "      <th>is_completed</th>\n",
       "      <th>mean_amount_spent</th>\n",
       "      <th>total_amount_spent</th>\n",
       "      <th>user_id</th>\n",
       "    </tr>\n",
       "  </thead>\n",
       "  <tbody>\n",
       "    <tr>\n",
       "      <th>0</th>\n",
       "      <td>ae264e3637204a6fb9bb56bc8210ddfd</td>\n",
       "      <td>0.0</td>\n",
       "      <td>168.0</td>\n",
       "      <td>1.0</td>\n",
       "      <td>1.0</td>\n",
       "      <td>20.56</td>\n",
       "      <td>20.56</td>\n",
       "      <td>2f888cf4ae2f40429917e7c7c41fff40</td>\n",
       "    </tr>\n",
       "    <tr>\n",
       "      <th>1</th>\n",
       "      <td>2298d6c36e964ae4a3e7e9706d1fb8c2</td>\n",
       "      <td>336.0</td>\n",
       "      <td>504.0</td>\n",
       "      <td>1.0</td>\n",
       "      <td>1.0</td>\n",
       "      <td>10.20</td>\n",
       "      <td>10.20</td>\n",
       "      <td>2f888cf4ae2f40429917e7c7c41fff40</td>\n",
       "    </tr>\n",
       "    <tr>\n",
       "      <th>2</th>\n",
       "      <td>9b98b8c7a33c4b65b9aebfe6a799e6d9</td>\n",
       "      <td>408.0</td>\n",
       "      <td>576.0</td>\n",
       "      <td>1.0</td>\n",
       "      <td>1.0</td>\n",
       "      <td>23.02</td>\n",
       "      <td>23.02</td>\n",
       "      <td>2f888cf4ae2f40429917e7c7c41fff40</td>\n",
       "    </tr>\n",
       "    <tr>\n",
       "      <th>3</th>\n",
       "      <td>2906b810c7d4411798c6938adc9daaa5</td>\n",
       "      <td>504.0</td>\n",
       "      <td>672.0</td>\n",
       "      <td>1.0</td>\n",
       "      <td>1.0</td>\n",
       "      <td>15.13</td>\n",
       "      <td>15.13</td>\n",
       "      <td>2f888cf4ae2f40429917e7c7c41fff40</td>\n",
       "    </tr>\n",
       "    <tr>\n",
       "      <th>4</th>\n",
       "      <td>f19421c1d4aa40978ebb69ca19b0e20d</td>\n",
       "      <td>576.0</td>\n",
       "      <td>696.0</td>\n",
       "      <td>1.0</td>\n",
       "      <td>1.0</td>\n",
       "      <td>26.09</td>\n",
       "      <td>26.09</td>\n",
       "      <td>2f888cf4ae2f40429917e7c7c41fff40</td>\n",
       "    </tr>\n",
       "  </tbody>\n",
       "</table>\n",
       "</div>"
      ],
      "text/plain": [
       "                           offer_id  creation_time  expiration_time  \\\n",
       "0  ae264e3637204a6fb9bb56bc8210ddfd            0.0            168.0   \n",
       "1  2298d6c36e964ae4a3e7e9706d1fb8c2          336.0            504.0   \n",
       "2  9b98b8c7a33c4b65b9aebfe6a799e6d9          408.0            576.0   \n",
       "3  2906b810c7d4411798c6938adc9daaa5          504.0            672.0   \n",
       "4  f19421c1d4aa40978ebb69ca19b0e20d          576.0            696.0   \n",
       "\n",
       "   is_viewed  is_completed  mean_amount_spent  total_amount_spent  \\\n",
       "0        1.0           1.0              20.56               20.56   \n",
       "1        1.0           1.0              10.20               10.20   \n",
       "2        1.0           1.0              23.02               23.02   \n",
       "3        1.0           1.0              15.13               15.13   \n",
       "4        1.0           1.0              26.09               26.09   \n",
       "\n",
       "                            user_id  \n",
       "0  2f888cf4ae2f40429917e7c7c41fff40  \n",
       "1  2f888cf4ae2f40429917e7c7c41fff40  \n",
       "2  2f888cf4ae2f40429917e7c7c41fff40  \n",
       "3  2f888cf4ae2f40429917e7c7c41fff40  \n",
       "4  2f888cf4ae2f40429917e7c7c41fff40  "
      ]
     },
     "execution_count": 27,
     "metadata": {},
     "output_type": "execute_result"
    }
   ],
   "source": [
    "user_promotion_cycle.head()"
   ]
  },
  {
   "cell_type": "markdown",
   "metadata": {},
   "source": [
    "## 3. Save the final table: it took more than 80 minutes to loop on the overall transcript table"
   ]
  },
  {
   "cell_type": "markdown",
   "metadata": {},
   "source": [
    "import pickle\n",
    "user_promotion_cycle.to_pickle(\"data/user_promotion_cycle_version_withoutexpection.pkl\")"
   ]
  },
  {
   "cell_type": "markdown",
   "metadata": {},
   "source": [
    "user_promotion_cycle.user_id.nunique()/user_promotion_cycle.person.nunique() #73% of person_id, errors for the remaining ones"
   ]
  },
  {
   "cell_type": "markdown",
   "metadata": {},
   "source": [
    "## 4. Reproduce the loops by distinguishing training and tests data"
   ]
  },
  {
   "cell_type": "code",
   "execution_count": 595,
   "metadata": {},
   "outputs": [
    {
     "name": "stdout",
     "output_type": "stream",
     "text": [
      "(214573, 6)\n",
      "(91960, 6)\n"
     ]
    }
   ],
   "source": [
    "# Approximate split between train and test: \n",
    "train_size = int(transcript.shape[0]*0.7)\n",
    "transcript_train = transcript.iloc[:train_size]\n",
    "print(transcript_train.shape)\n",
    "transcript_test = transcript.iloc[train_size+1:]\n",
    "print(transcript_test.shape)"
   ]
  },
  {
   "cell_type": "code",
   "execution_count": 596,
   "metadata": {},
   "outputs": [
    {
     "name": "stdout",
     "output_type": "stream",
     "text": [
      "the last time in the training set is 504\n"
     ]
    }
   ],
   "source": [
    "last_time_training = transcript_train.time.iloc[-1]\n",
    "print(\"the last time in the training set is {}\".format(last_time_training))"
   ]
  },
  {
   "cell_type": "code",
   "execution_count": 597,
   "metadata": {},
   "outputs": [
    {
     "data": {
      "image/png": "[encoded data removed]",
      "text/plain": [
       "<Figure size 432x288 with 1 Axes>"
      ]
     },
     "metadata": {
      "needs_background": "light"
     },
     "output_type": "display_data"
    }
   ],
   "source": [
    "transcript_train[\"time\"].hist();"
   ]
  },
  {
   "cell_type": "code",
   "execution_count": 598,
   "metadata": {},
   "outputs": [
    {
     "name": "stdout",
     "output_type": "stream",
     "text": [
      "the real split between train and test is of 0.7124560407654615 %\n"
     ]
    }
   ],
   "source": [
    "# Adjusting train and test split (according to the last time in the training set)\n",
    "transcript_train_true = transcript[transcript.time<=last_time_training]\n",
    "transcript_test_true = transcript[transcript.time>last_time_training]\n",
    "\n",
    "print(\"the real split between train and test is of {} %\".format(transcript_train_true.shape[0]/transcript.shape[0]))"
   ]
  },
  {
   "cell_type": "code",
   "execution_count": 599,
   "metadata": {},
   "outputs": [
    {
     "data": {
      "text/html": [
       "<div>\n",
       "<style scoped>\n",
       "    .dataframe tbody tr th:only-of-type {\n",
       "        vertical-align: middle;\n",
       "    }\n",
       "\n",
       "    .dataframe tbody tr th {\n",
       "        vertical-align: top;\n",
       "    }\n",
       "\n",
       "    .dataframe thead th {\n",
       "        text-align: right;\n",
       "    }\n",
       "</style>\n",
       "<table border=\"1\" class=\"dataframe\">\n",
       "  <thead>\n",
       "    <tr style=\"text-align: right;\">\n",
       "      <th></th>\n",
       "      <th>index</th>\n",
       "      <th>offer_id</th>\n",
       "      <th>creation_time</th>\n",
       "      <th>expiration_time</th>\n",
       "      <th>is_viewed</th>\n",
       "      <th>is_completed</th>\n",
       "      <th>mean_amount_spent</th>\n",
       "      <th>total_amount_spent</th>\n",
       "      <th>user_id</th>\n",
       "    </tr>\n",
       "  </thead>\n",
       "  <tbody>\n",
       "    <tr>\n",
       "      <th>0</th>\n",
       "      <td>0</td>\n",
       "      <td>ae264e3637204a6fb9bb56bc8210ddfd</td>\n",
       "      <td>0.0</td>\n",
       "      <td>168.0</td>\n",
       "      <td>1.0</td>\n",
       "      <td>NaN</td>\n",
       "      <td>2.293333</td>\n",
       "      <td>6.88</td>\n",
       "      <td>1e41c43e184e46759f01317e69f5cfcd</td>\n",
       "    </tr>\n",
       "    <tr>\n",
       "      <th>1</th>\n",
       "      <td>1</td>\n",
       "      <td>3f207df678b143eea3cee63160fa8bed</td>\n",
       "      <td>168.0</td>\n",
       "      <td>264.0</td>\n",
       "      <td>NaN</td>\n",
       "      <td>NaN</td>\n",
       "      <td>NaN</td>\n",
       "      <td>NaN</td>\n",
       "      <td>1e41c43e184e46759f01317e69f5cfcd</td>\n",
       "    </tr>\n",
       "    <tr>\n",
       "      <th>2</th>\n",
       "      <td>2</td>\n",
       "      <td>2906b810c7d4411798c6938adc9daaa5</td>\n",
       "      <td>336.0</td>\n",
       "      <td>504.0</td>\n",
       "      <td>NaN</td>\n",
       "      <td>NaN</td>\n",
       "      <td>NaN</td>\n",
       "      <td>NaN</td>\n",
       "      <td>1e41c43e184e46759f01317e69f5cfcd</td>\n",
       "    </tr>\n",
       "    <tr>\n",
       "      <th>3</th>\n",
       "      <td>3</td>\n",
       "      <td>f19421c1d4aa40978ebb69ca19b0e20d</td>\n",
       "      <td>504.0</td>\n",
       "      <td>624.0</td>\n",
       "      <td>1.0</td>\n",
       "      <td>1.0</td>\n",
       "      <td>8.350000</td>\n",
       "      <td>8.35</td>\n",
       "      <td>1e41c43e184e46759f01317e69f5cfcd</td>\n",
       "    </tr>\n",
       "    <tr>\n",
       "      <th>4</th>\n",
       "      <td>4</td>\n",
       "      <td>3f207df678b143eea3cee63160fa8bed</td>\n",
       "      <td>576.0</td>\n",
       "      <td>672.0</td>\n",
       "      <td>NaN</td>\n",
       "      <td>NaN</td>\n",
       "      <td>NaN</td>\n",
       "      <td>NaN</td>\n",
       "      <td>1e41c43e184e46759f01317e69f5cfcd</td>\n",
       "    </tr>\n",
       "    <tr>\n",
       "      <th>5</th>\n",
       "      <td>5</td>\n",
       "      <td>0</td>\n",
       "      <td>0.0</td>\n",
       "      <td>0.0</td>\n",
       "      <td>NaN</td>\n",
       "      <td>NaN</td>\n",
       "      <td>7.420000</td>\n",
       "      <td>14.84</td>\n",
       "      <td>1e41c43e184e46759f01317e69f5cfcd</td>\n",
       "    </tr>\n",
       "    <tr>\n",
       "      <th>6</th>\n",
       "      <td>0</td>\n",
       "      <td>4d5c57ea9a6940dd891ad53e9dbe8da0</td>\n",
       "      <td>0.0</td>\n",
       "      <td>120.0</td>\n",
       "      <td>1.0</td>\n",
       "      <td>NaN</td>\n",
       "      <td>NaN</td>\n",
       "      <td>NaN</td>\n",
       "      <td>c7c576f3711d48c6856abe45f952a8f5</td>\n",
       "    </tr>\n",
       "    <tr>\n",
       "      <th>7</th>\n",
       "      <td>1</td>\n",
       "      <td>3f207df678b143eea3cee63160fa8bed</td>\n",
       "      <td>168.0</td>\n",
       "      <td>264.0</td>\n",
       "      <td>NaN</td>\n",
       "      <td>NaN</td>\n",
       "      <td>NaN</td>\n",
       "      <td>NaN</td>\n",
       "      <td>c7c576f3711d48c6856abe45f952a8f5</td>\n",
       "    </tr>\n",
       "    <tr>\n",
       "      <th>8</th>\n",
       "      <td>2</td>\n",
       "      <td>0b1e1539f2cc45b7b9fa7c272da2e1d7</td>\n",
       "      <td>336.0</td>\n",
       "      <td>576.0</td>\n",
       "      <td>1.0</td>\n",
       "      <td>1.0</td>\n",
       "      <td>32.990000</td>\n",
       "      <td>32.99</td>\n",
       "      <td>c7c576f3711d48c6856abe45f952a8f5</td>\n",
       "    </tr>\n",
       "    <tr>\n",
       "      <th>9</th>\n",
       "      <td>3</td>\n",
       "      <td>3f207df678b143eea3cee63160fa8bed</td>\n",
       "      <td>408.0</td>\n",
       "      <td>504.0</td>\n",
       "      <td>NaN</td>\n",
       "      <td>NaN</td>\n",
       "      <td>NaN</td>\n",
       "      <td>NaN</td>\n",
       "      <td>c7c576f3711d48c6856abe45f952a8f5</td>\n",
       "    </tr>\n",
       "  </tbody>\n",
       "</table>\n",
       "</div>"
      ],
      "text/plain": [
       "   index                          offer_id  creation_time  expiration_time  \\\n",
       "0      0  ae264e3637204a6fb9bb56bc8210ddfd            0.0            168.0   \n",
       "1      1  3f207df678b143eea3cee63160fa8bed          168.0            264.0   \n",
       "2      2  2906b810c7d4411798c6938adc9daaa5          336.0            504.0   \n",
       "3      3  f19421c1d4aa40978ebb69ca19b0e20d          504.0            624.0   \n",
       "4      4  3f207df678b143eea3cee63160fa8bed          576.0            672.0   \n",
       "5      5                                 0            0.0              0.0   \n",
       "6      0  4d5c57ea9a6940dd891ad53e9dbe8da0            0.0            120.0   \n",
       "7      1  3f207df678b143eea3cee63160fa8bed          168.0            264.0   \n",
       "8      2  0b1e1539f2cc45b7b9fa7c272da2e1d7          336.0            576.0   \n",
       "9      3  3f207df678b143eea3cee63160fa8bed          408.0            504.0   \n",
       "\n",
       "   is_viewed  is_completed  mean_amount_spent  total_amount_spent  \\\n",
       "0        1.0           NaN           2.293333                6.88   \n",
       "1        NaN           NaN                NaN                 NaN   \n",
       "2        NaN           NaN                NaN                 NaN   \n",
       "3        1.0           1.0           8.350000                8.35   \n",
       "4        NaN           NaN                NaN                 NaN   \n",
       "5        NaN           NaN           7.420000               14.84   \n",
       "6        1.0           NaN                NaN                 NaN   \n",
       "7        NaN           NaN                NaN                 NaN   \n",
       "8        1.0           1.0          32.990000               32.99   \n",
       "9        NaN           NaN                NaN                 NaN   \n",
       "\n",
       "                            user_id  \n",
       "0  1e41c43e184e46759f01317e69f5cfcd  \n",
       "1  1e41c43e184e46759f01317e69f5cfcd  \n",
       "2  1e41c43e184e46759f01317e69f5cfcd  \n",
       "3  1e41c43e184e46759f01317e69f5cfcd  \n",
       "4  1e41c43e184e46759f01317e69f5cfcd  \n",
       "5  1e41c43e184e46759f01317e69f5cfcd  \n",
       "6  c7c576f3711d48c6856abe45f952a8f5  \n",
       "7  c7c576f3711d48c6856abe45f952a8f5  \n",
       "8  c7c576f3711d48c6856abe45f952a8f5  \n",
       "9  c7c576f3711d48c6856abe45f952a8f5  "
      ]
     },
     "execution_count": 599,
     "metadata": {},
     "output_type": "execute_result"
    }
   ],
   "source": [
    "# Load in the overall user_promotion_cycle dataframe\n",
    "df_user_promotion_cycle = pd.read_pickle(\"data/user_promotion_cycle_version_withoutexpection.pkl\").reset_index()\n",
    "df_user_promotion_cycle.head(10)"
   ]
  },
  {
   "cell_type": "code",
   "execution_count": 600,
   "metadata": {},
   "outputs": [],
   "source": [
    "# Split according to the last_time_training\n",
    "user_promotion_cycle_training = df_user_promotion_cycle[df_user_promotion_cycle.creation_time<=last_time_training]\n",
    "user_promotion_cycle_test = df_user_promotion_cycle[df_user_promotion_cycle.creation_time>last_time_training]"
   ]
  },
  {
   "cell_type": "code",
   "execution_count": 601,
   "metadata": {},
   "outputs": [
    {
     "data": {
      "text/plain": [
       "(59694, 9)"
      ]
     },
     "execution_count": 601,
     "metadata": {},
     "output_type": "execute_result"
    }
   ],
   "source": [
    "user_promotion_cycle_training.shape"
   ]
  },
  {
   "cell_type": "code",
   "execution_count": 602,
   "metadata": {},
   "outputs": [
    {
     "data": {
      "text/plain": [
       "(9611, 9)"
      ]
     },
     "execution_count": 602,
     "metadata": {},
     "output_type": "execute_result"
    }
   ],
   "source": [
    "user_promotion_cycle_test.shape"
   ]
  },
  {
   "cell_type": "code",
   "execution_count": 603,
   "metadata": {},
   "outputs": [
    {
     "name": "stdout",
     "output_type": "stream",
     "text": [
      "0\n"
     ]
    }
   ],
   "source": [
    "# Identify the user that are in the test set while not being part of the training set\n",
    "train_idx = set(user_promotion_cycle_training.user_id)\n",
    "test_idx = set(user_item_test.index)\n",
    "match_idx = list(test_idx.intersection(train_idx))\n",
    "cold_start_idx = np.setdiff1d(match_idx, list(test_idx), assume_unique=True)\n",
    "print(len(cold_start_idx))"
   ]
  },
  {
   "cell_type": "markdown",
   "metadata": {},
   "source": [
    "# <a class=\"anchor\" id=\"Dataviz\">Part III : Data Vizualisation of response to promotions per demographics or channel of communication</a>"
   ]
  },
  {
   "cell_type": "markdown",
   "metadata": {},
   "source": [
    "## O. Load the final overall table"
   ]
  },
  {
   "cell_type": "code",
   "execution_count": 657,
   "metadata": {},
   "outputs": [
    {
     "data": {
      "text/html": [
       "<div>\n",
       "<style scoped>\n",
       "    .dataframe tbody tr th:only-of-type {\n",
       "        vertical-align: middle;\n",
       "    }\n",
       "\n",
       "    .dataframe tbody tr th {\n",
       "        vertical-align: top;\n",
       "    }\n",
       "\n",
       "    .dataframe thead th {\n",
       "        text-align: right;\n",
       "    }\n",
       "</style>\n",
       "<table border=\"1\" class=\"dataframe\">\n",
       "  <thead>\n",
       "    <tr style=\"text-align: right;\">\n",
       "      <th></th>\n",
       "      <th>offer_id</th>\n",
       "      <th>is_viewed</th>\n",
       "      <th>is_completed</th>\n",
       "      <th>mean_amount_spent</th>\n",
       "      <th>total_amount_spent</th>\n",
       "      <th>user_id</th>\n",
       "    </tr>\n",
       "  </thead>\n",
       "  <tbody>\n",
       "    <tr>\n",
       "      <th>0</th>\n",
       "      <td>ae264e3637204a6fb9bb56bc8210ddfd</td>\n",
       "      <td>1.0</td>\n",
       "      <td>NaN</td>\n",
       "      <td>2.293333</td>\n",
       "      <td>6.88</td>\n",
       "      <td>1e41c43e184e46759f01317e69f5cfcd</td>\n",
       "    </tr>\n",
       "    <tr>\n",
       "      <th>1</th>\n",
       "      <td>3f207df678b143eea3cee63160fa8bed</td>\n",
       "      <td>NaN</td>\n",
       "      <td>NaN</td>\n",
       "      <td>NaN</td>\n",
       "      <td>NaN</td>\n",
       "      <td>1e41c43e184e46759f01317e69f5cfcd</td>\n",
       "    </tr>\n",
       "    <tr>\n",
       "      <th>2</th>\n",
       "      <td>2906b810c7d4411798c6938adc9daaa5</td>\n",
       "      <td>NaN</td>\n",
       "      <td>NaN</td>\n",
       "      <td>NaN</td>\n",
       "      <td>NaN</td>\n",
       "      <td>1e41c43e184e46759f01317e69f5cfcd</td>\n",
       "    </tr>\n",
       "    <tr>\n",
       "      <th>3</th>\n",
       "      <td>f19421c1d4aa40978ebb69ca19b0e20d</td>\n",
       "      <td>1.0</td>\n",
       "      <td>1.0</td>\n",
       "      <td>8.350000</td>\n",
       "      <td>8.35</td>\n",
       "      <td>1e41c43e184e46759f01317e69f5cfcd</td>\n",
       "    </tr>\n",
       "    <tr>\n",
       "      <th>4</th>\n",
       "      <td>3f207df678b143eea3cee63160fa8bed</td>\n",
       "      <td>NaN</td>\n",
       "      <td>NaN</td>\n",
       "      <td>NaN</td>\n",
       "      <td>NaN</td>\n",
       "      <td>1e41c43e184e46759f01317e69f5cfcd</td>\n",
       "    </tr>\n",
       "  </tbody>\n",
       "</table>\n",
       "</div>"
      ],
      "text/plain": [
       "                           offer_id  is_viewed  is_completed  \\\n",
       "0  ae264e3637204a6fb9bb56bc8210ddfd        1.0           NaN   \n",
       "1  3f207df678b143eea3cee63160fa8bed        NaN           NaN   \n",
       "2  2906b810c7d4411798c6938adc9daaa5        NaN           NaN   \n",
       "3  f19421c1d4aa40978ebb69ca19b0e20d        1.0           1.0   \n",
       "4  3f207df678b143eea3cee63160fa8bed        NaN           NaN   \n",
       "\n",
       "   mean_amount_spent  total_amount_spent                           user_id  \n",
       "0           2.293333                6.88  1e41c43e184e46759f01317e69f5cfcd  \n",
       "1                NaN                 NaN  1e41c43e184e46759f01317e69f5cfcd  \n",
       "2                NaN                 NaN  1e41c43e184e46759f01317e69f5cfcd  \n",
       "3           8.350000                8.35  1e41c43e184e46759f01317e69f5cfcd  \n",
       "4                NaN                 NaN  1e41c43e184e46759f01317e69f5cfcd  "
      ]
     },
     "execution_count": 657,
     "metadata": {},
     "output_type": "execute_result"
    }
   ],
   "source": [
    "labels_to_drop = [\"creation_time\",\"expiration_time\"]\n",
    "df_user_promotion_cycle = pd.read_pickle(\"data/user_promotion_cycle_version_withoutexpection.pkl\").drop(labels=labels_to_drop,axis=1)\n",
    "df_user_promotion_cycle.head()"
   ]
  },
  {
   "cell_type": "code",
   "execution_count": 658,
   "metadata": {},
   "outputs": [
    {
     "data": {
      "text/plain": [
       "0.727764705882353"
      ]
     },
     "execution_count": 658,
     "metadata": {},
     "output_type": "execute_result"
    }
   ],
   "source": [
    "df_user_promotion_cycle.user_id.nunique()/transcript.person.nunique()"
   ]
  },
  {
   "cell_type": "markdown",
   "metadata": {},
   "source": [
    "## 1. Enriched df_user_promotion_cycle table with user and promotion information"
   ]
  },
  {
   "cell_type": "code",
   "execution_count": 659,
   "metadata": {},
   "outputs": [
    {
     "data": {
      "text/html": [
       "<div>\n",
       "<style scoped>\n",
       "    .dataframe tbody tr th:only-of-type {\n",
       "        vertical-align: middle;\n",
       "    }\n",
       "\n",
       "    .dataframe tbody tr th {\n",
       "        vertical-align: top;\n",
       "    }\n",
       "\n",
       "    .dataframe thead th {\n",
       "        text-align: right;\n",
       "    }\n",
       "</style>\n",
       "<table border=\"1\" class=\"dataframe\">\n",
       "  <thead>\n",
       "    <tr style=\"text-align: right;\">\n",
       "      <th></th>\n",
       "      <th>reward</th>\n",
       "      <th>difficulty</th>\n",
       "      <th>duration</th>\n",
       "      <th>offer_type</th>\n",
       "      <th>id</th>\n",
       "      <th>web</th>\n",
       "      <th>email</th>\n",
       "      <th>mobile</th>\n",
       "      <th>social</th>\n",
       "      <th>bogo</th>\n",
       "      <th>discount</th>\n",
       "      <th>informational</th>\n",
       "    </tr>\n",
       "  </thead>\n",
       "  <tbody>\n",
       "    <tr>\n",
       "      <th>0</th>\n",
       "      <td>10</td>\n",
       "      <td>10</td>\n",
       "      <td>168</td>\n",
       "      <td>bogo</td>\n",
       "      <td>ae264e3637204a6fb9bb56bc8210ddfd</td>\n",
       "      <td>0</td>\n",
       "      <td>1</td>\n",
       "      <td>1</td>\n",
       "      <td>1</td>\n",
       "      <td>1</td>\n",
       "      <td>0</td>\n",
       "      <td>0</td>\n",
       "    </tr>\n",
       "    <tr>\n",
       "      <th>1</th>\n",
       "      <td>10</td>\n",
       "      <td>10</td>\n",
       "      <td>120</td>\n",
       "      <td>bogo</td>\n",
       "      <td>4d5c57ea9a6940dd891ad53e9dbe8da0</td>\n",
       "      <td>1</td>\n",
       "      <td>1</td>\n",
       "      <td>1</td>\n",
       "      <td>1</td>\n",
       "      <td>1</td>\n",
       "      <td>0</td>\n",
       "      <td>0</td>\n",
       "    </tr>\n",
       "    <tr>\n",
       "      <th>2</th>\n",
       "      <td>0</td>\n",
       "      <td>0</td>\n",
       "      <td>96</td>\n",
       "      <td>informational</td>\n",
       "      <td>3f207df678b143eea3cee63160fa8bed</td>\n",
       "      <td>1</td>\n",
       "      <td>1</td>\n",
       "      <td>1</td>\n",
       "      <td>0</td>\n",
       "      <td>0</td>\n",
       "      <td>0</td>\n",
       "      <td>1</td>\n",
       "    </tr>\n",
       "    <tr>\n",
       "      <th>3</th>\n",
       "      <td>5</td>\n",
       "      <td>5</td>\n",
       "      <td>168</td>\n",
       "      <td>bogo</td>\n",
       "      <td>9b98b8c7a33c4b65b9aebfe6a799e6d9</td>\n",
       "      <td>1</td>\n",
       "      <td>1</td>\n",
       "      <td>1</td>\n",
       "      <td>0</td>\n",
       "      <td>1</td>\n",
       "      <td>0</td>\n",
       "      <td>0</td>\n",
       "    </tr>\n",
       "    <tr>\n",
       "      <th>4</th>\n",
       "      <td>5</td>\n",
       "      <td>20</td>\n",
       "      <td>240</td>\n",
       "      <td>discount</td>\n",
       "      <td>0b1e1539f2cc45b7b9fa7c272da2e1d7</td>\n",
       "      <td>1</td>\n",
       "      <td>1</td>\n",
       "      <td>0</td>\n",
       "      <td>0</td>\n",
       "      <td>0</td>\n",
       "      <td>1</td>\n",
       "      <td>0</td>\n",
       "    </tr>\n",
       "  </tbody>\n",
       "</table>\n",
       "</div>"
      ],
      "text/plain": [
       "   reward  difficulty  duration     offer_type  \\\n",
       "0      10          10       168           bogo   \n",
       "1      10          10       120           bogo   \n",
       "2       0           0        96  informational   \n",
       "3       5           5       168           bogo   \n",
       "4       5          20       240       discount   \n",
       "\n",
       "                                 id  web  email  mobile  social  bogo  \\\n",
       "0  ae264e3637204a6fb9bb56bc8210ddfd    0      1       1       1     1   \n",
       "1  4d5c57ea9a6940dd891ad53e9dbe8da0    1      1       1       1     1   \n",
       "2  3f207df678b143eea3cee63160fa8bed    1      1       1       0     0   \n",
       "3  9b98b8c7a33c4b65b9aebfe6a799e6d9    1      1       1       0     1   \n",
       "4  0b1e1539f2cc45b7b9fa7c272da2e1d7    1      1       0       0     0   \n",
       "\n",
       "   discount  informational  \n",
       "0         0              0  \n",
       "1         0              0  \n",
       "2         0              1  \n",
       "3         0              0  \n",
       "4         1              0  "
      ]
     },
     "execution_count": 659,
     "metadata": {},
     "output_type": "execute_result"
    }
   ],
   "source": [
    "cleaned_portfolio.head()"
   ]
  },
  {
   "cell_type": "code",
   "execution_count": 752,
   "metadata": {},
   "outputs": [
    {
     "data": {
      "text/html": [
       "<div>\n",
       "<style scoped>\n",
       "    .dataframe tbody tr th:only-of-type {\n",
       "        vertical-align: middle;\n",
       "    }\n",
       "\n",
       "    .dataframe tbody tr th {\n",
       "        vertical-align: top;\n",
       "    }\n",
       "\n",
       "    .dataframe thead th {\n",
       "        text-align: right;\n",
       "    }\n",
       "</style>\n",
       "<table border=\"1\" class=\"dataframe\">\n",
       "  <thead>\n",
       "    <tr style=\"text-align: right;\">\n",
       "      <th></th>\n",
       "      <th>offer_id</th>\n",
       "      <th>is_viewed</th>\n",
       "      <th>is_completed</th>\n",
       "      <th>mean_amount_spent</th>\n",
       "      <th>total_amount_spent</th>\n",
       "      <th>user_id</th>\n",
       "      <th>reward</th>\n",
       "      <th>difficulty</th>\n",
       "      <th>offer_type</th>\n",
       "      <th>web</th>\n",
       "      <th>email</th>\n",
       "      <th>mobile</th>\n",
       "      <th>social</th>\n",
       "      <th>bogo</th>\n",
       "      <th>discount</th>\n",
       "      <th>informational</th>\n",
       "    </tr>\n",
       "  </thead>\n",
       "  <tbody>\n",
       "    <tr>\n",
       "      <th>0</th>\n",
       "      <td>ae264e3637204a6fb9bb56bc8210ddfd</td>\n",
       "      <td>1.0</td>\n",
       "      <td>NaN</td>\n",
       "      <td>2.293333</td>\n",
       "      <td>6.88</td>\n",
       "      <td>1e41c43e184e46759f01317e69f5cfcd</td>\n",
       "      <td>10.0</td>\n",
       "      <td>10.0</td>\n",
       "      <td>bogo</td>\n",
       "      <td>0.0</td>\n",
       "      <td>1.0</td>\n",
       "      <td>1.0</td>\n",
       "      <td>1.0</td>\n",
       "      <td>1.0</td>\n",
       "      <td>0.0</td>\n",
       "      <td>0.0</td>\n",
       "    </tr>\n",
       "    <tr>\n",
       "      <th>1</th>\n",
       "      <td>3f207df678b143eea3cee63160fa8bed</td>\n",
       "      <td>NaN</td>\n",
       "      <td>NaN</td>\n",
       "      <td>NaN</td>\n",
       "      <td>NaN</td>\n",
       "      <td>1e41c43e184e46759f01317e69f5cfcd</td>\n",
       "      <td>0.0</td>\n",
       "      <td>0.0</td>\n",
       "      <td>informational</td>\n",
       "      <td>1.0</td>\n",
       "      <td>1.0</td>\n",
       "      <td>1.0</td>\n",
       "      <td>0.0</td>\n",
       "      <td>0.0</td>\n",
       "      <td>0.0</td>\n",
       "      <td>1.0</td>\n",
       "    </tr>\n",
       "    <tr>\n",
       "      <th>2</th>\n",
       "      <td>2906b810c7d4411798c6938adc9daaa5</td>\n",
       "      <td>NaN</td>\n",
       "      <td>NaN</td>\n",
       "      <td>NaN</td>\n",
       "      <td>NaN</td>\n",
       "      <td>1e41c43e184e46759f01317e69f5cfcd</td>\n",
       "      <td>2.0</td>\n",
       "      <td>10.0</td>\n",
       "      <td>discount</td>\n",
       "      <td>1.0</td>\n",
       "      <td>1.0</td>\n",
       "      <td>1.0</td>\n",
       "      <td>0.0</td>\n",
       "      <td>0.0</td>\n",
       "      <td>1.0</td>\n",
       "      <td>0.0</td>\n",
       "    </tr>\n",
       "    <tr>\n",
       "      <th>3</th>\n",
       "      <td>f19421c1d4aa40978ebb69ca19b0e20d</td>\n",
       "      <td>1.0</td>\n",
       "      <td>1.0</td>\n",
       "      <td>8.350000</td>\n",
       "      <td>8.35</td>\n",
       "      <td>1e41c43e184e46759f01317e69f5cfcd</td>\n",
       "      <td>5.0</td>\n",
       "      <td>5.0</td>\n",
       "      <td>bogo</td>\n",
       "      <td>1.0</td>\n",
       "      <td>1.0</td>\n",
       "      <td>1.0</td>\n",
       "      <td>1.0</td>\n",
       "      <td>1.0</td>\n",
       "      <td>0.0</td>\n",
       "      <td>0.0</td>\n",
       "    </tr>\n",
       "    <tr>\n",
       "      <th>4</th>\n",
       "      <td>3f207df678b143eea3cee63160fa8bed</td>\n",
       "      <td>NaN</td>\n",
       "      <td>NaN</td>\n",
       "      <td>NaN</td>\n",
       "      <td>NaN</td>\n",
       "      <td>1e41c43e184e46759f01317e69f5cfcd</td>\n",
       "      <td>0.0</td>\n",
       "      <td>0.0</td>\n",
       "      <td>informational</td>\n",
       "      <td>1.0</td>\n",
       "      <td>1.0</td>\n",
       "      <td>1.0</td>\n",
       "      <td>0.0</td>\n",
       "      <td>0.0</td>\n",
       "      <td>0.0</td>\n",
       "      <td>1.0</td>\n",
       "    </tr>\n",
       "  </tbody>\n",
       "</table>\n",
       "</div>"
      ],
      "text/plain": [
       "                           offer_id  is_viewed  is_completed  \\\n",
       "0  ae264e3637204a6fb9bb56bc8210ddfd        1.0           NaN   \n",
       "1  3f207df678b143eea3cee63160fa8bed        NaN           NaN   \n",
       "2  2906b810c7d4411798c6938adc9daaa5        NaN           NaN   \n",
       "3  f19421c1d4aa40978ebb69ca19b0e20d        1.0           1.0   \n",
       "4  3f207df678b143eea3cee63160fa8bed        NaN           NaN   \n",
       "\n",
       "   mean_amount_spent  total_amount_spent                           user_id  \\\n",
       "0           2.293333                6.88  1e41c43e184e46759f01317e69f5cfcd   \n",
       "1                NaN                 NaN  1e41c43e184e46759f01317e69f5cfcd   \n",
       "2                NaN                 NaN  1e41c43e184e46759f01317e69f5cfcd   \n",
       "3           8.350000                8.35  1e41c43e184e46759f01317e69f5cfcd   \n",
       "4                NaN                 NaN  1e41c43e184e46759f01317e69f5cfcd   \n",
       "\n",
       "   reward  difficulty     offer_type  web  email  mobile  social  bogo  \\\n",
       "0    10.0        10.0           bogo  0.0    1.0     1.0     1.0   1.0   \n",
       "1     0.0         0.0  informational  1.0    1.0     1.0     0.0   0.0   \n",
       "2     2.0        10.0       discount  1.0    1.0     1.0     0.0   0.0   \n",
       "3     5.0         5.0           bogo  1.0    1.0     1.0     1.0   1.0   \n",
       "4     0.0         0.0  informational  1.0    1.0     1.0     0.0   0.0   \n",
       "\n",
       "   discount  informational  \n",
       "0       0.0            0.0  \n",
       "1       0.0            1.0  \n",
       "2       1.0            0.0  \n",
       "3       0.0            0.0  \n",
       "4       0.0            1.0  "
      ]
     },
     "execution_count": 752,
     "metadata": {},
     "output_type": "execute_result"
    }
   ],
   "source": [
    "# Join with portfolio data\n",
    "labels_to_drop = [\"duration\",\"id\"]\n",
    "df_user_promotion_cycle_enriched = pd.merge(df_user_promotion_cycle,cleaned_portfolio,left_on = \"offer_id\",right_on=\"id\",how=\"left\").drop(labels=labels_to_drop,axis=1)\n",
    "df_user_promotion_cycle_enriched.head()"
   ]
  },
  {
   "cell_type": "code",
   "execution_count": 753,
   "metadata": {},
   "outputs": [
    {
     "data": {
      "text/plain": [
       "discount         23511\n",
       "bogo             22765\n",
       "informational    10657\n",
       "Name: offer_type, dtype: int64"
      ]
     },
     "execution_count": 753,
     "metadata": {},
     "output_type": "execute_result"
    }
   ],
   "source": [
    "df_user_promotion_cycle_enriched[\"offer_type\"].value_counts()"
   ]
  },
  {
   "cell_type": "code",
   "execution_count": 754,
   "metadata": {},
   "outputs": [
    {
     "data": {
      "text/html": [
       "<div>\n",
       "<style scoped>\n",
       "    .dataframe tbody tr th:only-of-type {\n",
       "        vertical-align: middle;\n",
       "    }\n",
       "\n",
       "    .dataframe tbody tr th {\n",
       "        vertical-align: top;\n",
       "    }\n",
       "\n",
       "    .dataframe thead th {\n",
       "        text-align: right;\n",
       "    }\n",
       "</style>\n",
       "<table border=\"1\" class=\"dataframe\">\n",
       "  <thead>\n",
       "    <tr style=\"text-align: right;\">\n",
       "      <th></th>\n",
       "      <th>offer_id</th>\n",
       "      <th>is_viewed</th>\n",
       "      <th>is_completed</th>\n",
       "      <th>mean_amount_spent</th>\n",
       "      <th>total_amount_spent</th>\n",
       "      <th>user_id</th>\n",
       "      <th>reward</th>\n",
       "      <th>difficulty</th>\n",
       "      <th>offer_type</th>\n",
       "      <th>web</th>\n",
       "      <th>...</th>\n",
       "      <th>social</th>\n",
       "      <th>bogo</th>\n",
       "      <th>discount</th>\n",
       "      <th>informational</th>\n",
       "      <th>gender</th>\n",
       "      <th>age</th>\n",
       "      <th>id</th>\n",
       "      <th>became_member_on</th>\n",
       "      <th>income</th>\n",
       "      <th>memberdays</th>\n",
       "    </tr>\n",
       "  </thead>\n",
       "  <tbody>\n",
       "    <tr>\n",
       "      <th>0</th>\n",
       "      <td>ae264e3637204a6fb9bb56bc8210ddfd</td>\n",
       "      <td>1.0</td>\n",
       "      <td>NaN</td>\n",
       "      <td>2.293333</td>\n",
       "      <td>6.88</td>\n",
       "      <td>1e41c43e184e46759f01317e69f5cfcd</td>\n",
       "      <td>10.0</td>\n",
       "      <td>10.0</td>\n",
       "      <td>bogo</td>\n",
       "      <td>0.0</td>\n",
       "      <td>...</td>\n",
       "      <td>1.0</td>\n",
       "      <td>1.0</td>\n",
       "      <td>0.0</td>\n",
       "      <td>0.0</td>\n",
       "      <td>M</td>\n",
       "      <td>57.0</td>\n",
       "      <td>1e41c43e184e46759f01317e69f5cfcd</td>\n",
       "      <td>20180305.0</td>\n",
       "      <td>46000.0</td>\n",
       "      <td>791.0</td>\n",
       "    </tr>\n",
       "    <tr>\n",
       "      <th>1</th>\n",
       "      <td>3f207df678b143eea3cee63160fa8bed</td>\n",
       "      <td>NaN</td>\n",
       "      <td>NaN</td>\n",
       "      <td>NaN</td>\n",
       "      <td>NaN</td>\n",
       "      <td>1e41c43e184e46759f01317e69f5cfcd</td>\n",
       "      <td>0.0</td>\n",
       "      <td>0.0</td>\n",
       "      <td>informational</td>\n",
       "      <td>1.0</td>\n",
       "      <td>...</td>\n",
       "      <td>0.0</td>\n",
       "      <td>0.0</td>\n",
       "      <td>0.0</td>\n",
       "      <td>1.0</td>\n",
       "      <td>M</td>\n",
       "      <td>57.0</td>\n",
       "      <td>1e41c43e184e46759f01317e69f5cfcd</td>\n",
       "      <td>20180305.0</td>\n",
       "      <td>46000.0</td>\n",
       "      <td>791.0</td>\n",
       "    </tr>\n",
       "    <tr>\n",
       "      <th>2</th>\n",
       "      <td>2906b810c7d4411798c6938adc9daaa5</td>\n",
       "      <td>NaN</td>\n",
       "      <td>NaN</td>\n",
       "      <td>NaN</td>\n",
       "      <td>NaN</td>\n",
       "      <td>1e41c43e184e46759f01317e69f5cfcd</td>\n",
       "      <td>2.0</td>\n",
       "      <td>10.0</td>\n",
       "      <td>discount</td>\n",
       "      <td>1.0</td>\n",
       "      <td>...</td>\n",
       "      <td>0.0</td>\n",
       "      <td>0.0</td>\n",
       "      <td>1.0</td>\n",
       "      <td>0.0</td>\n",
       "      <td>M</td>\n",
       "      <td>57.0</td>\n",
       "      <td>1e41c43e184e46759f01317e69f5cfcd</td>\n",
       "      <td>20180305.0</td>\n",
       "      <td>46000.0</td>\n",
       "      <td>791.0</td>\n",
       "    </tr>\n",
       "    <tr>\n",
       "      <th>3</th>\n",
       "      <td>f19421c1d4aa40978ebb69ca19b0e20d</td>\n",
       "      <td>1.0</td>\n",
       "      <td>1.0</td>\n",
       "      <td>8.350000</td>\n",
       "      <td>8.35</td>\n",
       "      <td>1e41c43e184e46759f01317e69f5cfcd</td>\n",
       "      <td>5.0</td>\n",
       "      <td>5.0</td>\n",
       "      <td>bogo</td>\n",
       "      <td>1.0</td>\n",
       "      <td>...</td>\n",
       "      <td>1.0</td>\n",
       "      <td>1.0</td>\n",
       "      <td>0.0</td>\n",
       "      <td>0.0</td>\n",
       "      <td>M</td>\n",
       "      <td>57.0</td>\n",
       "      <td>1e41c43e184e46759f01317e69f5cfcd</td>\n",
       "      <td>20180305.0</td>\n",
       "      <td>46000.0</td>\n",
       "      <td>791.0</td>\n",
       "    </tr>\n",
       "    <tr>\n",
       "      <th>4</th>\n",
       "      <td>3f207df678b143eea3cee63160fa8bed</td>\n",
       "      <td>NaN</td>\n",
       "      <td>NaN</td>\n",
       "      <td>NaN</td>\n",
       "      <td>NaN</td>\n",
       "      <td>1e41c43e184e46759f01317e69f5cfcd</td>\n",
       "      <td>0.0</td>\n",
       "      <td>0.0</td>\n",
       "      <td>informational</td>\n",
       "      <td>1.0</td>\n",
       "      <td>...</td>\n",
       "      <td>0.0</td>\n",
       "      <td>0.0</td>\n",
       "      <td>0.0</td>\n",
       "      <td>1.0</td>\n",
       "      <td>M</td>\n",
       "      <td>57.0</td>\n",
       "      <td>1e41c43e184e46759f01317e69f5cfcd</td>\n",
       "      <td>20180305.0</td>\n",
       "      <td>46000.0</td>\n",
       "      <td>791.0</td>\n",
       "    </tr>\n",
       "  </tbody>\n",
       "</table>\n",
       "<p>5 rows × 22 columns</p>\n",
       "</div>"
      ],
      "text/plain": [
       "                           offer_id  is_viewed  is_completed  \\\n",
       "0  ae264e3637204a6fb9bb56bc8210ddfd        1.0           NaN   \n",
       "1  3f207df678b143eea3cee63160fa8bed        NaN           NaN   \n",
       "2  2906b810c7d4411798c6938adc9daaa5        NaN           NaN   \n",
       "3  f19421c1d4aa40978ebb69ca19b0e20d        1.0           1.0   \n",
       "4  3f207df678b143eea3cee63160fa8bed        NaN           NaN   \n",
       "\n",
       "   mean_amount_spent  total_amount_spent                           user_id  \\\n",
       "0           2.293333                6.88  1e41c43e184e46759f01317e69f5cfcd   \n",
       "1                NaN                 NaN  1e41c43e184e46759f01317e69f5cfcd   \n",
       "2                NaN                 NaN  1e41c43e184e46759f01317e69f5cfcd   \n",
       "3           8.350000                8.35  1e41c43e184e46759f01317e69f5cfcd   \n",
       "4                NaN                 NaN  1e41c43e184e46759f01317e69f5cfcd   \n",
       "\n",
       "   reward  difficulty     offer_type  web  ...  social  bogo  discount  \\\n",
       "0    10.0        10.0           bogo  0.0  ...     1.0   1.0       0.0   \n",
       "1     0.0         0.0  informational  1.0  ...     0.0   0.0       0.0   \n",
       "2     2.0        10.0       discount  1.0  ...     0.0   0.0       1.0   \n",
       "3     5.0         5.0           bogo  1.0  ...     1.0   1.0       0.0   \n",
       "4     0.0         0.0  informational  1.0  ...     0.0   0.0       0.0   \n",
       "\n",
       "   informational  gender   age                                id  \\\n",
       "0            0.0       M  57.0  1e41c43e184e46759f01317e69f5cfcd   \n",
       "1            1.0       M  57.0  1e41c43e184e46759f01317e69f5cfcd   \n",
       "2            0.0       M  57.0  1e41c43e184e46759f01317e69f5cfcd   \n",
       "3            0.0       M  57.0  1e41c43e184e46759f01317e69f5cfcd   \n",
       "4            1.0       M  57.0  1e41c43e184e46759f01317e69f5cfcd   \n",
       "\n",
       "   became_member_on   income  memberdays  \n",
       "0        20180305.0  46000.0       791.0  \n",
       "1        20180305.0  46000.0       791.0  \n",
       "2        20180305.0  46000.0       791.0  \n",
       "3        20180305.0  46000.0       791.0  \n",
       "4        20180305.0  46000.0       791.0  \n",
       "\n",
       "[5 rows x 22 columns]"
      ]
     },
     "execution_count": 754,
     "metadata": {},
     "output_type": "execute_result"
    }
   ],
   "source": [
    "# Join with profile data\n",
    "df_user_promotion_cycle_enriched_final = pd.merge(df_user_promotion_cycle_enriched,cleaned_profile,left_on = \"user_id\",right_on=\"id\",how=\"left\")\n",
    "df_user_promotion_cycle_enriched_final.head(5)"
   ]
  },
  {
   "cell_type": "code",
   "execution_count": 764,
   "metadata": {},
   "outputs": [],
   "source": [
    "dict_new_name = {}\n",
    "for i,v in cleaned_portfolio.iterrows():\n",
    "    dict_new_name[v[\"id\"]]=str(v[\"offer_type\"])+\"_\"+str(v[\"reward\"])+\"_\"+str(v[\"difficulty\"])+\"_\"+str(v[\"duration\"])"
   ]
  },
  {
   "cell_type": "code",
   "execution_count": 765,
   "metadata": {},
   "outputs": [
    {
     "data": {
      "text/plain": [
       "{'ae264e3637204a6fb9bb56bc8210ddfd': 'bogo_10_10_168',\n",
       " '4d5c57ea9a6940dd891ad53e9dbe8da0': 'bogo_10_10_120',\n",
       " '3f207df678b143eea3cee63160fa8bed': 'informational_0_0_96',\n",
       " '9b98b8c7a33c4b65b9aebfe6a799e6d9': 'bogo_5_5_168',\n",
       " '0b1e1539f2cc45b7b9fa7c272da2e1d7': 'discount_5_20_240',\n",
       " '2298d6c36e964ae4a3e7e9706d1fb8c2': 'discount_3_7_168',\n",
       " 'fafdcd668e3743c1bb461111dcafc2a4': 'discount_2_10_240',\n",
       " '5a8bc65990b245e5a138643cd4eb9837': 'informational_0_0_72',\n",
       " 'f19421c1d4aa40978ebb69ca19b0e20d': 'bogo_5_5_120',\n",
       " '2906b810c7d4411798c6938adc9daaa5': 'discount_2_10_168'}"
      ]
     },
     "execution_count": 765,
     "metadata": {},
     "output_type": "execute_result"
    }
   ],
   "source": [
    "dict_new_name"
   ]
  },
  {
   "cell_type": "code",
   "execution_count": 766,
   "metadata": {},
   "outputs": [
    {
     "data": {
      "text/html": [
       "<div>\n",
       "<style scoped>\n",
       "    .dataframe tbody tr th:only-of-type {\n",
       "        vertical-align: middle;\n",
       "    }\n",
       "\n",
       "    .dataframe tbody tr th {\n",
       "        vertical-align: top;\n",
       "    }\n",
       "\n",
       "    .dataframe thead th {\n",
       "        text-align: right;\n",
       "    }\n",
       "</style>\n",
       "<table border=\"1\" class=\"dataframe\">\n",
       "  <thead>\n",
       "    <tr style=\"text-align: right;\">\n",
       "      <th></th>\n",
       "      <th>offer_id</th>\n",
       "      <th>is_viewed</th>\n",
       "      <th>is_completed</th>\n",
       "      <th>mean_amount_spent</th>\n",
       "      <th>total_amount_spent</th>\n",
       "      <th>user_id</th>\n",
       "      <th>reward</th>\n",
       "      <th>difficulty</th>\n",
       "      <th>offer_type</th>\n",
       "      <th>web</th>\n",
       "      <th>...</th>\n",
       "      <th>bogo</th>\n",
       "      <th>discount</th>\n",
       "      <th>informational</th>\n",
       "      <th>gender</th>\n",
       "      <th>age</th>\n",
       "      <th>id</th>\n",
       "      <th>became_member_on</th>\n",
       "      <th>income</th>\n",
       "      <th>memberdays</th>\n",
       "      <th>offer_id_name</th>\n",
       "    </tr>\n",
       "  </thead>\n",
       "  <tbody>\n",
       "    <tr>\n",
       "      <th>0</th>\n",
       "      <td>ae264e3637204a6fb9bb56bc8210ddfd</td>\n",
       "      <td>1.0</td>\n",
       "      <td>NaN</td>\n",
       "      <td>2.293333</td>\n",
       "      <td>6.88</td>\n",
       "      <td>1e41c43e184e46759f01317e69f5cfcd</td>\n",
       "      <td>10.0</td>\n",
       "      <td>10.0</td>\n",
       "      <td>bogo</td>\n",
       "      <td>0.0</td>\n",
       "      <td>...</td>\n",
       "      <td>1.0</td>\n",
       "      <td>0.0</td>\n",
       "      <td>0.0</td>\n",
       "      <td>M</td>\n",
       "      <td>57.0</td>\n",
       "      <td>1e41c43e184e46759f01317e69f5cfcd</td>\n",
       "      <td>20180305.0</td>\n",
       "      <td>46000.0</td>\n",
       "      <td>791.0</td>\n",
       "      <td>bogo_10_10_168</td>\n",
       "    </tr>\n",
       "    <tr>\n",
       "      <th>1</th>\n",
       "      <td>3f207df678b143eea3cee63160fa8bed</td>\n",
       "      <td>NaN</td>\n",
       "      <td>NaN</td>\n",
       "      <td>NaN</td>\n",
       "      <td>NaN</td>\n",
       "      <td>1e41c43e184e46759f01317e69f5cfcd</td>\n",
       "      <td>0.0</td>\n",
       "      <td>0.0</td>\n",
       "      <td>informational</td>\n",
       "      <td>1.0</td>\n",
       "      <td>...</td>\n",
       "      <td>0.0</td>\n",
       "      <td>0.0</td>\n",
       "      <td>1.0</td>\n",
       "      <td>M</td>\n",
       "      <td>57.0</td>\n",
       "      <td>1e41c43e184e46759f01317e69f5cfcd</td>\n",
       "      <td>20180305.0</td>\n",
       "      <td>46000.0</td>\n",
       "      <td>791.0</td>\n",
       "      <td>informational_0_0_96</td>\n",
       "    </tr>\n",
       "    <tr>\n",
       "      <th>2</th>\n",
       "      <td>2906b810c7d4411798c6938adc9daaa5</td>\n",
       "      <td>NaN</td>\n",
       "      <td>NaN</td>\n",
       "      <td>NaN</td>\n",
       "      <td>NaN</td>\n",
       "      <td>1e41c43e184e46759f01317e69f5cfcd</td>\n",
       "      <td>2.0</td>\n",
       "      <td>10.0</td>\n",
       "      <td>discount</td>\n",
       "      <td>1.0</td>\n",
       "      <td>...</td>\n",
       "      <td>0.0</td>\n",
       "      <td>1.0</td>\n",
       "      <td>0.0</td>\n",
       "      <td>M</td>\n",
       "      <td>57.0</td>\n",
       "      <td>1e41c43e184e46759f01317e69f5cfcd</td>\n",
       "      <td>20180305.0</td>\n",
       "      <td>46000.0</td>\n",
       "      <td>791.0</td>\n",
       "      <td>discount_2_10_168</td>\n",
       "    </tr>\n",
       "    <tr>\n",
       "      <th>3</th>\n",
       "      <td>f19421c1d4aa40978ebb69ca19b0e20d</td>\n",
       "      <td>1.0</td>\n",
       "      <td>1.0</td>\n",
       "      <td>8.350000</td>\n",
       "      <td>8.35</td>\n",
       "      <td>1e41c43e184e46759f01317e69f5cfcd</td>\n",
       "      <td>5.0</td>\n",
       "      <td>5.0</td>\n",
       "      <td>bogo</td>\n",
       "      <td>1.0</td>\n",
       "      <td>...</td>\n",
       "      <td>1.0</td>\n",
       "      <td>0.0</td>\n",
       "      <td>0.0</td>\n",
       "      <td>M</td>\n",
       "      <td>57.0</td>\n",
       "      <td>1e41c43e184e46759f01317e69f5cfcd</td>\n",
       "      <td>20180305.0</td>\n",
       "      <td>46000.0</td>\n",
       "      <td>791.0</td>\n",
       "      <td>bogo_5_5_120</td>\n",
       "    </tr>\n",
       "    <tr>\n",
       "      <th>4</th>\n",
       "      <td>3f207df678b143eea3cee63160fa8bed</td>\n",
       "      <td>NaN</td>\n",
       "      <td>NaN</td>\n",
       "      <td>NaN</td>\n",
       "      <td>NaN</td>\n",
       "      <td>1e41c43e184e46759f01317e69f5cfcd</td>\n",
       "      <td>0.0</td>\n",
       "      <td>0.0</td>\n",
       "      <td>informational</td>\n",
       "      <td>1.0</td>\n",
       "      <td>...</td>\n",
       "      <td>0.0</td>\n",
       "      <td>0.0</td>\n",
       "      <td>1.0</td>\n",
       "      <td>M</td>\n",
       "      <td>57.0</td>\n",
       "      <td>1e41c43e184e46759f01317e69f5cfcd</td>\n",
       "      <td>20180305.0</td>\n",
       "      <td>46000.0</td>\n",
       "      <td>791.0</td>\n",
       "      <td>informational_0_0_96</td>\n",
       "    </tr>\n",
       "  </tbody>\n",
       "</table>\n",
       "<p>5 rows × 23 columns</p>\n",
       "</div>"
      ],
      "text/plain": [
       "                           offer_id  is_viewed  is_completed  \\\n",
       "0  ae264e3637204a6fb9bb56bc8210ddfd        1.0           NaN   \n",
       "1  3f207df678b143eea3cee63160fa8bed        NaN           NaN   \n",
       "2  2906b810c7d4411798c6938adc9daaa5        NaN           NaN   \n",
       "3  f19421c1d4aa40978ebb69ca19b0e20d        1.0           1.0   \n",
       "4  3f207df678b143eea3cee63160fa8bed        NaN           NaN   \n",
       "\n",
       "   mean_amount_spent  total_amount_spent                           user_id  \\\n",
       "0           2.293333                6.88  1e41c43e184e46759f01317e69f5cfcd   \n",
       "1                NaN                 NaN  1e41c43e184e46759f01317e69f5cfcd   \n",
       "2                NaN                 NaN  1e41c43e184e46759f01317e69f5cfcd   \n",
       "3           8.350000                8.35  1e41c43e184e46759f01317e69f5cfcd   \n",
       "4                NaN                 NaN  1e41c43e184e46759f01317e69f5cfcd   \n",
       "\n",
       "   reward  difficulty     offer_type  web  ...  bogo  discount  informational  \\\n",
       "0    10.0        10.0           bogo  0.0  ...   1.0       0.0            0.0   \n",
       "1     0.0         0.0  informational  1.0  ...   0.0       0.0            1.0   \n",
       "2     2.0        10.0       discount  1.0  ...   0.0       1.0            0.0   \n",
       "3     5.0         5.0           bogo  1.0  ...   1.0       0.0            0.0   \n",
       "4     0.0         0.0  informational  1.0  ...   0.0       0.0            1.0   \n",
       "\n",
       "   gender   age                                id became_member_on   income  \\\n",
       "0       M  57.0  1e41c43e184e46759f01317e69f5cfcd       20180305.0  46000.0   \n",
       "1       M  57.0  1e41c43e184e46759f01317e69f5cfcd       20180305.0  46000.0   \n",
       "2       M  57.0  1e41c43e184e46759f01317e69f5cfcd       20180305.0  46000.0   \n",
       "3       M  57.0  1e41c43e184e46759f01317e69f5cfcd       20180305.0  46000.0   \n",
       "4       M  57.0  1e41c43e184e46759f01317e69f5cfcd       20180305.0  46000.0   \n",
       "\n",
       "  memberdays         offer_id_name  \n",
       "0      791.0        bogo_10_10_168  \n",
       "1      791.0  informational_0_0_96  \n",
       "2      791.0     discount_2_10_168  \n",
       "3      791.0          bogo_5_5_120  \n",
       "4      791.0  informational_0_0_96  \n",
       "\n",
       "[5 rows x 23 columns]"
      ]
     },
     "execution_count": 766,
     "metadata": {},
     "output_type": "execute_result"
    }
   ],
   "source": [
    "df_user_promotion_cycle_enriched_final[\"offer_id_name\"] = df_user_promotion_cycle_enriched_final[\"offer_id\"].map(dict_new_name)\n",
    "df_user_promotion_cycle_enriched_final.head()"
   ]
  },
  {
   "cell_type": "code",
   "execution_count": 909,
   "metadata": {},
   "outputs": [
    {
     "data": {
      "text/html": [
       "<div>\n",
       "<style scoped>\n",
       "    .dataframe tbody tr th:only-of-type {\n",
       "        vertical-align: middle;\n",
       "    }\n",
       "\n",
       "    .dataframe tbody tr th {\n",
       "        vertical-align: top;\n",
       "    }\n",
       "\n",
       "    .dataframe thead th {\n",
       "        text-align: right;\n",
       "    }\n",
       "</style>\n",
       "<table border=\"1\" class=\"dataframe\">\n",
       "  <thead>\n",
       "    <tr style=\"text-align: right;\">\n",
       "      <th></th>\n",
       "      <th>offer_id</th>\n",
       "      <th>is_viewed</th>\n",
       "      <th>is_completed</th>\n",
       "      <th>mean_amount_spent</th>\n",
       "      <th>total_amount_spent</th>\n",
       "      <th>user_id</th>\n",
       "      <th>reward</th>\n",
       "      <th>difficulty</th>\n",
       "      <th>offer_type</th>\n",
       "      <th>web</th>\n",
       "      <th>...</th>\n",
       "      <th>bogo</th>\n",
       "      <th>discount</th>\n",
       "      <th>informational</th>\n",
       "      <th>gender</th>\n",
       "      <th>age</th>\n",
       "      <th>id</th>\n",
       "      <th>became_member_on</th>\n",
       "      <th>income</th>\n",
       "      <th>memberdays</th>\n",
       "      <th>offer_id_name</th>\n",
       "    </tr>\n",
       "  </thead>\n",
       "  <tbody>\n",
       "    <tr>\n",
       "      <th>0</th>\n",
       "      <td>ae264e3637204a6fb9bb56bc8210ddfd</td>\n",
       "      <td>1.0</td>\n",
       "      <td>NaN</td>\n",
       "      <td>2.293333</td>\n",
       "      <td>6.88</td>\n",
       "      <td>1e41c43e184e46759f01317e69f5cfcd</td>\n",
       "      <td>10.0</td>\n",
       "      <td>10.0</td>\n",
       "      <td>bogo</td>\n",
       "      <td>0.0</td>\n",
       "      <td>...</td>\n",
       "      <td>1.0</td>\n",
       "      <td>0.0</td>\n",
       "      <td>0.0</td>\n",
       "      <td>M</td>\n",
       "      <td>57.0</td>\n",
       "      <td>1e41c43e184e46759f01317e69f5cfcd</td>\n",
       "      <td>20180305.0</td>\n",
       "      <td>46000.0</td>\n",
       "      <td>791.0</td>\n",
       "      <td>bogo_10_10_168</td>\n",
       "    </tr>\n",
       "    <tr>\n",
       "      <th>1</th>\n",
       "      <td>3f207df678b143eea3cee63160fa8bed</td>\n",
       "      <td>NaN</td>\n",
       "      <td>NaN</td>\n",
       "      <td>NaN</td>\n",
       "      <td>NaN</td>\n",
       "      <td>1e41c43e184e46759f01317e69f5cfcd</td>\n",
       "      <td>0.0</td>\n",
       "      <td>0.0</td>\n",
       "      <td>informational</td>\n",
       "      <td>1.0</td>\n",
       "      <td>...</td>\n",
       "      <td>0.0</td>\n",
       "      <td>0.0</td>\n",
       "      <td>1.0</td>\n",
       "      <td>M</td>\n",
       "      <td>57.0</td>\n",
       "      <td>1e41c43e184e46759f01317e69f5cfcd</td>\n",
       "      <td>20180305.0</td>\n",
       "      <td>46000.0</td>\n",
       "      <td>791.0</td>\n",
       "      <td>informational_0_0_96</td>\n",
       "    </tr>\n",
       "    <tr>\n",
       "      <th>2</th>\n",
       "      <td>2906b810c7d4411798c6938adc9daaa5</td>\n",
       "      <td>NaN</td>\n",
       "      <td>NaN</td>\n",
       "      <td>NaN</td>\n",
       "      <td>NaN</td>\n",
       "      <td>1e41c43e184e46759f01317e69f5cfcd</td>\n",
       "      <td>2.0</td>\n",
       "      <td>10.0</td>\n",
       "      <td>discount</td>\n",
       "      <td>1.0</td>\n",
       "      <td>...</td>\n",
       "      <td>0.0</td>\n",
       "      <td>1.0</td>\n",
       "      <td>0.0</td>\n",
       "      <td>M</td>\n",
       "      <td>57.0</td>\n",
       "      <td>1e41c43e184e46759f01317e69f5cfcd</td>\n",
       "      <td>20180305.0</td>\n",
       "      <td>46000.0</td>\n",
       "      <td>791.0</td>\n",
       "      <td>discount_2_10_168</td>\n",
       "    </tr>\n",
       "    <tr>\n",
       "      <th>3</th>\n",
       "      <td>f19421c1d4aa40978ebb69ca19b0e20d</td>\n",
       "      <td>1.0</td>\n",
       "      <td>1.0</td>\n",
       "      <td>8.350000</td>\n",
       "      <td>8.35</td>\n",
       "      <td>1e41c43e184e46759f01317e69f5cfcd</td>\n",
       "      <td>5.0</td>\n",
       "      <td>5.0</td>\n",
       "      <td>bogo</td>\n",
       "      <td>1.0</td>\n",
       "      <td>...</td>\n",
       "      <td>1.0</td>\n",
       "      <td>0.0</td>\n",
       "      <td>0.0</td>\n",
       "      <td>M</td>\n",
       "      <td>57.0</td>\n",
       "      <td>1e41c43e184e46759f01317e69f5cfcd</td>\n",
       "      <td>20180305.0</td>\n",
       "      <td>46000.0</td>\n",
       "      <td>791.0</td>\n",
       "      <td>bogo_5_5_120</td>\n",
       "    </tr>\n",
       "    <tr>\n",
       "      <th>4</th>\n",
       "      <td>3f207df678b143eea3cee63160fa8bed</td>\n",
       "      <td>NaN</td>\n",
       "      <td>NaN</td>\n",
       "      <td>NaN</td>\n",
       "      <td>NaN</td>\n",
       "      <td>1e41c43e184e46759f01317e69f5cfcd</td>\n",
       "      <td>0.0</td>\n",
       "      <td>0.0</td>\n",
       "      <td>informational</td>\n",
       "      <td>1.0</td>\n",
       "      <td>...</td>\n",
       "      <td>0.0</td>\n",
       "      <td>0.0</td>\n",
       "      <td>1.0</td>\n",
       "      <td>M</td>\n",
       "      <td>57.0</td>\n",
       "      <td>1e41c43e184e46759f01317e69f5cfcd</td>\n",
       "      <td>20180305.0</td>\n",
       "      <td>46000.0</td>\n",
       "      <td>791.0</td>\n",
       "      <td>informational_0_0_96</td>\n",
       "    </tr>\n",
       "  </tbody>\n",
       "</table>\n",
       "<p>5 rows × 23 columns</p>\n",
       "</div>"
      ],
      "text/plain": [
       "                           offer_id  is_viewed  is_completed  \\\n",
       "0  ae264e3637204a6fb9bb56bc8210ddfd        1.0           NaN   \n",
       "1  3f207df678b143eea3cee63160fa8bed        NaN           NaN   \n",
       "2  2906b810c7d4411798c6938adc9daaa5        NaN           NaN   \n",
       "3  f19421c1d4aa40978ebb69ca19b0e20d        1.0           1.0   \n",
       "4  3f207df678b143eea3cee63160fa8bed        NaN           NaN   \n",
       "\n",
       "   mean_amount_spent  total_amount_spent                           user_id  \\\n",
       "0           2.293333                6.88  1e41c43e184e46759f01317e69f5cfcd   \n",
       "1                NaN                 NaN  1e41c43e184e46759f01317e69f5cfcd   \n",
       "2                NaN                 NaN  1e41c43e184e46759f01317e69f5cfcd   \n",
       "3           8.350000                8.35  1e41c43e184e46759f01317e69f5cfcd   \n",
       "4                NaN                 NaN  1e41c43e184e46759f01317e69f5cfcd   \n",
       "\n",
       "   reward  difficulty     offer_type  web  ...  bogo  discount  informational  \\\n",
       "0    10.0        10.0           bogo  0.0  ...   1.0       0.0            0.0   \n",
       "1     0.0         0.0  informational  1.0  ...   0.0       0.0            1.0   \n",
       "2     2.0        10.0       discount  1.0  ...   0.0       1.0            0.0   \n",
       "3     5.0         5.0           bogo  1.0  ...   1.0       0.0            0.0   \n",
       "4     0.0         0.0  informational  1.0  ...   0.0       0.0            1.0   \n",
       "\n",
       "   gender   age                                id became_member_on   income  \\\n",
       "0       M  57.0  1e41c43e184e46759f01317e69f5cfcd       20180305.0  46000.0   \n",
       "1       M  57.0  1e41c43e184e46759f01317e69f5cfcd       20180305.0  46000.0   \n",
       "2       M  57.0  1e41c43e184e46759f01317e69f5cfcd       20180305.0  46000.0   \n",
       "3       M  57.0  1e41c43e184e46759f01317e69f5cfcd       20180305.0  46000.0   \n",
       "4       M  57.0  1e41c43e184e46759f01317e69f5cfcd       20180305.0  46000.0   \n",
       "\n",
       "  memberdays         offer_id_name  \n",
       "0      791.0        bogo_10_10_168  \n",
       "1      791.0  informational_0_0_96  \n",
       "2      791.0     discount_2_10_168  \n",
       "3      791.0          bogo_5_5_120  \n",
       "4      791.0  informational_0_0_96  \n",
       "\n",
       "[5 rows x 23 columns]"
      ]
     },
     "execution_count": 909,
     "metadata": {},
     "output_type": "execute_result"
    }
   ],
   "source": [
    "# Replace the Nan offer type by the transaction \n",
    "df_user_promotion_cycle_enriched_final.loc[df_user_promotion_cycle_enriched_final.offer_type.isnull()==True,\"offer_type\"] = \"transaction\"\n",
    "df_user_promotion_cycle_enriched_final.head()"
   ]
  },
  {
   "cell_type": "code",
   "execution_count": 910,
   "metadata": {},
   "outputs": [
    {
     "data": {
      "text/plain": [
       "discount         23511\n",
       "bogo             22765\n",
       "transaction      12372\n",
       "informational    10657\n",
       "Name: offer_type, dtype: int64"
      ]
     },
     "execution_count": 910,
     "metadata": {},
     "output_type": "execute_result"
    }
   ],
   "source": [
    "df_user_promotion_cycle_enriched_final.offer_type.value_counts()"
   ]
  },
  {
   "cell_type": "markdown",
   "metadata": {},
   "source": [
    "df_user_promotion_cycle_enriched_final[\"offer_id_name\"] = np.nan\n",
    "df_user_promotion_cycle_enriched_final[\"viewed_amount_spent\"] = np.nan\n",
    "\n",
    "for i,v in df_user_promotion_cycle_enriched_final.iterrows():\n",
    "    df_user_promotion_cycle_enriched_final.loc[i,\"offer_id_name\"]= rename_offer(v)\n",
    "    df_user_promotion_cycle_enriched_final.loc[\"viewed_amount_spent\"]= ((v[\"is_viewed\"]>0)&(v[\"total_amount_spent\"]>0))"
   ]
  },
  {
   "cell_type": "markdown",
   "metadata": {},
   "source": [
    "## 2. Data Viz to analyse the impact of offers on cash inflows, and the influence of social demographics and promotion channels towards promotion efficiency"
   ]
  },
  {
   "cell_type": "code",
   "execution_count": 922,
   "metadata": {},
   "outputs": [
    {
     "data": {
      "text/plain": [
       "Text(0.5, 1.0, 'Distribution of Cash inflows')"
      ]
     },
     "execution_count": 922,
     "metadata": {},
     "output_type": "execute_result"
    },
    {
     "data": {
      "image/png": "[encoded data removed]",
      "text/plain": [
       "<Figure size 720x360 with 1 Axes>"
      ]
     },
     "metadata": {},
     "output_type": "display_data"
    }
   ],
   "source": [
    "# Plot the percentage of cash inflows\n",
    "df_plot0 = pd.DataFrame(df_user_promotion_cycle_enriched_final.groupby(\"offer_type\")[\"total_amount_spent\"].sum()).reset_index()\n",
    "df_plot0[\"pct_amount_spent\"] = df_plot0[\"total_amount_spent\"]/df_plot0.total_amount_spent.sum()\n",
    "sns.set(rc={'figure.figsize':(10,5)})\n",
    "sns.barplot(x=\"offer_type\", y=\"pct_amount_spent\", data=df_plot0).set_title(\"Distribution of Cash inflows\")"
   ]
  },
  {
   "cell_type": "code",
   "execution_count": 921,
   "metadata": {},
   "outputs": [
    {
     "data": {
      "text/html": [
       "<div>\n",
       "<style scoped>\n",
       "    .dataframe tbody tr th:only-of-type {\n",
       "        vertical-align: middle;\n",
       "    }\n",
       "\n",
       "    .dataframe tbody tr th {\n",
       "        vertical-align: top;\n",
       "    }\n",
       "\n",
       "    .dataframe thead th {\n",
       "        text-align: right;\n",
       "    }\n",
       "</style>\n",
       "<table border=\"1\" class=\"dataframe\">\n",
       "  <thead>\n",
       "    <tr style=\"text-align: right;\">\n",
       "      <th></th>\n",
       "      <th>offer_type</th>\n",
       "      <th>total_amount_spent</th>\n",
       "      <th>pct_amount_spent</th>\n",
       "    </tr>\n",
       "  </thead>\n",
       "  <tbody>\n",
       "    <tr>\n",
       "      <th>0</th>\n",
       "      <td>bogo</td>\n",
       "      <td>319719.78</td>\n",
       "      <td>0.190707</td>\n",
       "    </tr>\n",
       "    <tr>\n",
       "      <th>1</th>\n",
       "      <td>discount</td>\n",
       "      <td>325619.64</td>\n",
       "      <td>0.194226</td>\n",
       "    </tr>\n",
       "    <tr>\n",
       "      <th>2</th>\n",
       "      <td>informational</td>\n",
       "      <td>121174.11</td>\n",
       "      <td>0.072278</td>\n",
       "    </tr>\n",
       "    <tr>\n",
       "      <th>3</th>\n",
       "      <td>transaction</td>\n",
       "      <td>909986.87</td>\n",
       "      <td>0.542790</td>\n",
       "    </tr>\n",
       "  </tbody>\n",
       "</table>\n",
       "</div>"
      ],
      "text/plain": [
       "      offer_type  total_amount_spent  pct_amount_spent\n",
       "0           bogo           319719.78          0.190707\n",
       "1       discount           325619.64          0.194226\n",
       "2  informational           121174.11          0.072278\n",
       "3    transaction           909986.87          0.542790"
      ]
     },
     "execution_count": 921,
     "metadata": {},
     "output_type": "execute_result"
    }
   ],
   "source": [
    "df_plot0"
   ]
  },
  {
   "cell_type": "code",
   "execution_count": 893,
   "metadata": {},
   "outputs": [
    {
     "data": {
      "text/plain": [
       "<matplotlib.axes._subplots.AxesSubplot at 0x1a1e1b7198>"
      ]
     },
     "execution_count": 893,
     "metadata": {},
     "output_type": "execute_result"
    },
    {
     "data": {
      "image/png": "[encoded data removed]",
      "text/plain": [
       "<Figure size 1440x360 with 1 Axes>"
      ]
     },
     "metadata": {},
     "output_type": "display_data"
    }
   ],
   "source": [
    "# Plot the distribution of the overall spent per offer\n",
    "df_plot1 = pd.DataFrame(df_user_promotion_cycle_enriched_final.groupby([\"offer_id_name\"])[\"total_amount_spent\"].sum()).reset_index()\n",
    "#df_plot1[\"pct_amount_spent\"] =df_agg1[\"total_amount_spent\"]/df_agg1.total_amount_spent.sum()\n",
    "sns.set(rc={'figure.figsize':(20,5)})\n",
    "sns.barplot(x=\"offer_id_name\", y=\"total_amount_spent\", data=df_plot1)"
   ]
  },
  {
   "cell_type": "code",
   "execution_count": 894,
   "metadata": {},
   "outputs": [
    {
     "data": {
      "text/html": [
       "<div>\n",
       "<style scoped>\n",
       "    .dataframe tbody tr th:only-of-type {\n",
       "        vertical-align: middle;\n",
       "    }\n",
       "\n",
       "    .dataframe tbody tr th {\n",
       "        vertical-align: top;\n",
       "    }\n",
       "\n",
       "    .dataframe thead th {\n",
       "        text-align: right;\n",
       "    }\n",
       "</style>\n",
       "<table border=\"1\" class=\"dataframe\">\n",
       "  <thead>\n",
       "    <tr style=\"text-align: right;\">\n",
       "      <th></th>\n",
       "      <th>offer_type</th>\n",
       "      <th>gender</th>\n",
       "      <th>total_amount_spent</th>\n",
       "    </tr>\n",
       "  </thead>\n",
       "  <tbody>\n",
       "    <tr>\n",
       "      <th>0</th>\n",
       "      <td>bogo</td>\n",
       "      <td>F</td>\n",
       "      <td>153365.96</td>\n",
       "    </tr>\n",
       "    <tr>\n",
       "      <th>1</th>\n",
       "      <td>bogo</td>\n",
       "      <td>M</td>\n",
       "      <td>153893.88</td>\n",
       "    </tr>\n",
       "    <tr>\n",
       "      <th>2</th>\n",
       "      <td>bogo</td>\n",
       "      <td>O</td>\n",
       "      <td>4649.87</td>\n",
       "    </tr>\n",
       "    <tr>\n",
       "      <th>3</th>\n",
       "      <td>discount</td>\n",
       "      <td>F</td>\n",
       "      <td>153132.60</td>\n",
       "    </tr>\n",
       "    <tr>\n",
       "      <th>4</th>\n",
       "      <td>discount</td>\n",
       "      <td>M</td>\n",
       "      <td>156698.45</td>\n",
       "    </tr>\n",
       "  </tbody>\n",
       "</table>\n",
       "</div>"
      ],
      "text/plain": [
       "  offer_type gender  total_amount_spent\n",
       "0       bogo      F           153365.96\n",
       "1       bogo      M           153893.88\n",
       "2       bogo      O             4649.87\n",
       "3   discount      F           153132.60\n",
       "4   discount      M           156698.45"
      ]
     },
     "execution_count": 894,
     "metadata": {},
     "output_type": "execute_result"
    }
   ],
   "source": [
    "# Plot the distribution of the overall spent per type of offer and per gender\n",
    "df_plot1 = pd.DataFrame(df_user_promotion_cycle_enriched_final.groupby([\"offer_type\",\"gender\"])[\"total_amount_spent\"].sum()).reset_index()\n",
    "#df_plot1[\"pct_amount_spent\"] =df_agg1[\"total_amount_spent\"]/df_agg1.total_amount_spent.sum()\n",
    "df_plot1.head()"
   ]
  },
  {
   "cell_type": "code",
   "execution_count": 923,
   "metadata": {},
   "outputs": [
    {
     "data": {
      "text/plain": [
       "Text(0.5, 1.0, 'Distribution of spent amount per offer and gender')"
      ]
     },
     "execution_count": 923,
     "metadata": {},
     "output_type": "execute_result"
    },
    {
     "data": {
      "image/png": "[encoded data removed]",
      "text/plain": [
       "<Figure size 720x360 with 1 Axes>"
      ]
     },
     "metadata": {},
     "output_type": "display_data"
    }
   ],
   "source": [
    "sns.barplot(x=\"offer_type\", y=\"total_amount_spent\", hue=\"gender\", data=df_plot1).set_title(\"Distribution of spent amount per offer and gender\")"
   ]
  },
  {
   "cell_type": "code",
   "execution_count": 924,
   "metadata": {},
   "outputs": [
    {
     "data": {
      "text/plain": [
       "Text(0.5, 1.0, 'Distribution of offer per channel and per gender')"
      ]
     },
     "execution_count": 924,
     "metadata": {},
     "output_type": "execute_result"
    },
    {
     "data": {
      "image/png": "[encoded data removed]",
      "text/plain": [
       "<Figure size 720x360 with 1 Axes>"
      ]
     },
     "metadata": {},
     "output_type": "display_data"
    }
   ],
   "source": [
    "# Plot the distribution of the viewed offer per channel and per gender\n",
    "\n",
    "channel_distribution = pd.DataFrame(df_user_promotion_cycle_enriched_final[df_user_promotion_cycle_enriched_final[\"web\"] ==1].groupby([\"gender\"])[\"is_viewed\"].count()).reset_index()\n",
    "channel_distribution[\"channel\"]=\"web\"\n",
    "\n",
    "\n",
    "for channel_type in ['email', 'mobile', 'social']:\n",
    "    df_channel = pd.DataFrame()\n",
    "    df_channel = pd.DataFrame(df_user_promotion_cycle_enriched_final[df_user_promotion_cycle_enriched_final[channel_type] ==1].groupby([\"gender\"])[\"is_viewed\"].count()).reset_index()\n",
    "    df_channel[\"channel\"]=channel_type\n",
    "    channel_distribution = pd.concat([channel_distribution,df_channel])\n",
    "#channel_distribution[\"is_viewed\"] =channel_distribution[\"is_viewed\"]/channel_distribution.is_viewed.sum()\n",
    "sns.barplot(x=\"gender\", y=\"is_viewed\", hue=\"channel\", data=channel_distribution).set_title(\"Distribution of offer per channel and per gender\")\n"
   ]
  },
  {
   "cell_type": "code",
   "execution_count": 716,
   "metadata": {},
   "outputs": [
    {
     "data": {
      "text/plain": [
       "<matplotlib.axes._subplots.AxesSubplot at 0x1a1da6f080>"
      ]
     },
     "execution_count": 716,
     "metadata": {},
     "output_type": "execute_result"
    },
    {
     "data": {
      "image/png": "[encoded data removed]",
      "text/plain": [
       "<Figure size 432x288 with 1 Axes>"
      ]
     },
     "metadata": {
      "needs_background": "light"
     },
     "output_type": "display_data"
    }
   ],
   "source": [
    "# Plot the distribution of the spent amount per channel and per gender for received and viewed offer\n",
    "\n",
    "channel_distribution = pd.DataFrame(df_user_promotion_cycle_enriched_final[df_user_promotion_cycle_enriched_final[\"web\"] ==1].groupby([\"gender\"])[\"total_amount_spent\"].sum()).reset_index()\n",
    "channel_distribution[\"channel\"]=\"web\"\n",
    "\n",
    "\n",
    "for channel_type in ['email', 'mobile', 'social']:\n",
    "    df_channel = pd.DataFrame()\n",
    "    df_channel = pd.DataFrame(df_user_promotion_cycle_enriched_final[df_user_promotion_cycle_enriched_final[channel_type] ==1].groupby([\"gender\"])[\"total_amount_spent\"].sum()).reset_index()\n",
    "    df_channel[\"channel\"]=channel_type\n",
    "    channel_distribution = pd.concat([channel_distribution,df_channel])\n",
    "channel_distribution[\"pct_amount_spent\"] =channel_distribution[\"total_amount_spent\"]/channel_distribution.total_amount_spent.sum()\n",
    "sns.barplot(x=\"gender\", y=\"pct_amount_spent\", hue=\"channel\", data=channel_distribution)\n"
   ]
  },
  {
   "cell_type": "code",
   "execution_count": null,
   "metadata": {},
   "outputs": [],
   "source": [
    "# Plot the percentage of customer response (viewed and completed, or viewed and spent amount) to BOGO and discount offer\n",
    "df_plot1 = "
   ]
  },
  {
   "cell_type": "code",
   "execution_count": null,
   "metadata": {},
   "outputs": [],
   "source": [
    "# Plot the percentage of customer response (viewed and completed, or viewed and spent amount) to BOGO and discount offer for every promotion channel\n"
   ]
  },
  {
   "cell_type": "code",
   "execution_count": null,
   "metadata": {},
   "outputs": [],
   "source": [
    "# Plot total spent distribution across received and seen promotions"
   ]
  },
  {
   "cell_type": "code",
   "execution_count": null,
   "metadata": {},
   "outputs": [],
   "source": []
  },
  {
   "cell_type": "markdown",
   "metadata": {},
   "source": [
    "# <a class=\"anchor\" id=\"User-item\">Part IV : User-Item recommendation leveraging on Funk SVD </a>"
   ]
  },
  {
   "cell_type": "markdown",
   "metadata": {},
   "source": [
    "## 1. Build the user-item matrix"
   ]
  },
  {
   "cell_type": "markdown",
   "metadata": {},
   "source": [
    "### Option 1 : Build the user-item matrix by searching for the record pattern: offer received, offer viewed, offer completed"
   ]
  },
  {
   "cell_type": "code",
   "execution_count": 604,
   "metadata": {},
   "outputs": [],
   "source": [
    "def pattern_received_viewed_completed(row):\n",
    "    '''\n",
    "    INPUT : row (Series): row of the df_user_promotion_cycle_final dataframe\n",
    "    OUTPUT : pattern (int): value of the recorded pattern (offer received, offer viewed, offer completed): 1: if the record pattern is matched, 0 else\n",
    "    '''\n",
    "    pattern = 0\n",
    "    if ( (row.is_viewed>0) & (row.is_completed>0) )==True:\n",
    "        pattern =1\n",
    "   \n",
    "    return pattern"
   ]
  },
  {
   "cell_type": "markdown",
   "metadata": {},
   "source": [
    "### Option 2 : Build the user-item matrix by searching for more advanced record pattern: \n",
    "- If viewed and completed: 2\n",
    "- If not viewed and completed : 0\n",
    "- If viewed and not completed : -1\n",
    "- If viewed and no transaction: -2"
   ]
  },
  {
   "cell_type": "code",
   "execution_count": 605,
   "metadata": {},
   "outputs": [],
   "source": [
    "def pattern_advanced(row,spent_treshold):\n",
    "    '''\n",
    "    INPUT : row (Series): row of the df_user_promotion_cycle_final dataframe\n",
    "    OUTPUT : pattern (int): value of the recorded pattern (offer received, offer viewed, \n",
    "    offer completed)\n",
    "    '''\n",
    "    pattern = np.nan\n",
    "    if row.is_viewed >0:\n",
    "        if row.is_completed >0:\n",
    "            pattern = 2\n",
    "        else :\n",
    "            if row.total_amount_spent>spent_treshold:\n",
    "                pattern = -1\n",
    "            else :\n",
    "                pattern = -2\n",
    "                \n",
    "    if (row.is_viewed==0) & (row.is_completed>0): \n",
    "        pattern =0   \n",
    "    \n",
    "    return pattern"
   ]
  },
  {
   "cell_type": "markdown",
   "metadata": {},
   "source": [
    "### User-item matrix"
   ]
  },
  {
   "cell_type": "code",
   "execution_count": 606,
   "metadata": {},
   "outputs": [],
   "source": [
    "def user_item_matrix(user_promotion_cycle,option=\"option1\"):\n",
    "    '''\n",
    "    Build the user item matrix depending on the chosen option\n",
    "    INPUT:\n",
    "    - user_promotion_cycle_final (dataframe): promotion lifecycle for each user\n",
    "    - Option (string): option chosen to build the user-item matrix (cf. above for more details), can take two values: \"option1\" or \"option2\"\n",
    "    '''\n",
    "    df_user_promotion_cycle_final = user_promotion_cycle.copy()\n",
    "      \n",
    "    if option == \"option1\":\n",
    "        df_user_promotion_cycle_final.loc[:,\"viewed_and_completed\"] = [0]*df_user_promotion_cycle_final.shape[0]\n",
    "        for i,v in df_user_promotion_cycle_final.iterrows():\n",
    "            df_user_promotion_cycle_final.loc[i,\"viewed_and_completed\"] = pattern_received_viewed_completed(v)\n",
    "        \n",
    "        # Build the user-item matrix and drop column corresponding to no offer\n",
    "        # For every pair (user, offer) take the maximum value \n",
    "        user_item = df_user_promotion_cycle_final.groupby([\"user_id\",\"offer_id\"])[\"viewed_and_completed\"].max().unstack()\n",
    "        \n",
    "        \n",
    "    if option ==\"option2\":\n",
    "        df_user_promotion_cycle_final[\"advanced_pattern\"] = [np.nan]*df_user_promotion_cycle_final.shape[0]\n",
    "        for i,v in df_user_promotion_cycle_final.iterrows():\n",
    "            df_user_promotion_cycle_final.loc[i,\"advanced_pattern\"] = pattern_advanced(v,1)\n",
    "         # For every pair (user, offer) take the maximum value \n",
    "        user_item = df_user_promotion_cycle_final.groupby([\"user_id\",\"offer_id\"])[\"advanced_pattern\"].max().unstack()\n",
    "\n",
    "    return user_item,df_user_promotion_cycle_final"
   ]
  },
  {
   "cell_type": "code",
   "execution_count": 608,
   "metadata": {},
   "outputs": [],
   "source": [
    "# Save training and test table for \"option1\"\n",
    "user_item_training_opt1,df_user_promotion_cycle_final_training = user_item_matrix(user_promotion_cycle_training,\"option1\")\n",
    "user_item_test_opt1,_ = user_item_matrix(user_promotion_cycle_test,option=\"option1\")\n",
    "\n",
    "import pickle\n",
    "user_item_training_opt1.to_pickle(\"data/user_item_training_opt1.pkl\")\n",
    "user_item_test_opt1.to_pickle(\"data/user_item_test_opt1.pkl\")"
   ]
  },
  {
   "cell_type": "code",
   "execution_count": 609,
   "metadata": {},
   "outputs": [],
   "source": [
    "# Save training and test table for \"option2\"\n",
    "user_item_training_opt2,df_user_promotion_cycle_final_training_2 = user_item_matrix(user_promotion_cycle_training,option=\"option2\")\n",
    "user_item_test_opt2,_ = user_item_matrix(user_promotion_cycle_test,option=\"option2\")\n",
    "\n",
    "import pickle\n",
    "user_item_training_opt2.to_pickle(\"data/user_item_training_opt2.pkl\")\n",
    "user_item_test_opt2.to_pickle(\"data/user_item_test_opt2.pkl\")"
   ]
  },
  {
   "cell_type": "code",
   "execution_count": 826,
   "metadata": {},
   "outputs": [
    {
     "data": {
      "text/html": [
       "<div>\n",
       "<style scoped>\n",
       "    .dataframe tbody tr th:only-of-type {\n",
       "        vertical-align: middle;\n",
       "    }\n",
       "\n",
       "    .dataframe tbody tr th {\n",
       "        vertical-align: top;\n",
       "    }\n",
       "\n",
       "    .dataframe thead th {\n",
       "        text-align: right;\n",
       "    }\n",
       "</style>\n",
       "<table border=\"1\" class=\"dataframe\">\n",
       "  <thead>\n",
       "    <tr style=\"text-align: right;\">\n",
       "      <th>offer_id</th>\n",
       "      <th>0b1e1539f2cc45b7b9fa7c272da2e1d7</th>\n",
       "      <th>2298d6c36e964ae4a3e7e9706d1fb8c2</th>\n",
       "      <th>2906b810c7d4411798c6938adc9daaa5</th>\n",
       "      <th>3f207df678b143eea3cee63160fa8bed</th>\n",
       "      <th>4d5c57ea9a6940dd891ad53e9dbe8da0</th>\n",
       "      <th>5a8bc65990b245e5a138643cd4eb9837</th>\n",
       "      <th>9b98b8c7a33c4b65b9aebfe6a799e6d9</th>\n",
       "      <th>ae264e3637204a6fb9bb56bc8210ddfd</th>\n",
       "      <th>f19421c1d4aa40978ebb69ca19b0e20d</th>\n",
       "      <th>fafdcd668e3743c1bb461111dcafc2a4</th>\n",
       "    </tr>\n",
       "    <tr>\n",
       "      <th>user_id</th>\n",
       "      <th></th>\n",
       "      <th></th>\n",
       "      <th></th>\n",
       "      <th></th>\n",
       "      <th></th>\n",
       "      <th></th>\n",
       "      <th></th>\n",
       "      <th></th>\n",
       "      <th></th>\n",
       "      <th></th>\n",
       "    </tr>\n",
       "  </thead>\n",
       "  <tbody>\n",
       "    <tr>\n",
       "      <th>0009655768c64bdeb2e877511632db8f</th>\n",
       "      <td>NaN</td>\n",
       "      <td>NaN</td>\n",
       "      <td>0.0</td>\n",
       "      <td>NaN</td>\n",
       "      <td>NaN</td>\n",
       "      <td>NaN</td>\n",
       "      <td>NaN</td>\n",
       "      <td>NaN</td>\n",
       "      <td>NaN</td>\n",
       "      <td>NaN</td>\n",
       "    </tr>\n",
       "    <tr>\n",
       "      <th>00426fe3ffde4c6b9cb9ad6d077a13ea</th>\n",
       "      <td>NaN</td>\n",
       "      <td>NaN</td>\n",
       "      <td>0.0</td>\n",
       "      <td>NaN</td>\n",
       "      <td>NaN</td>\n",
       "      <td>NaN</td>\n",
       "      <td>NaN</td>\n",
       "      <td>NaN</td>\n",
       "      <td>NaN</td>\n",
       "      <td>NaN</td>\n",
       "    </tr>\n",
       "    <tr>\n",
       "      <th>004b041fbfe44859945daa2c7f79ee64</th>\n",
       "      <td>NaN</td>\n",
       "      <td>NaN</td>\n",
       "      <td>NaN</td>\n",
       "      <td>NaN</td>\n",
       "      <td>NaN</td>\n",
       "      <td>NaN</td>\n",
       "      <td>NaN</td>\n",
       "      <td>NaN</td>\n",
       "      <td>NaN</td>\n",
       "      <td>1.0</td>\n",
       "    </tr>\n",
       "    <tr>\n",
       "      <th>004c5799adbf42868b9cff0396190900</th>\n",
       "      <td>NaN</td>\n",
       "      <td>NaN</td>\n",
       "      <td>NaN</td>\n",
       "      <td>NaN</td>\n",
       "      <td>NaN</td>\n",
       "      <td>NaN</td>\n",
       "      <td>NaN</td>\n",
       "      <td>NaN</td>\n",
       "      <td>NaN</td>\n",
       "      <td>1.0</td>\n",
       "    </tr>\n",
       "    <tr>\n",
       "      <th>005500a7188546ff8a767329a2f7c76a</th>\n",
       "      <td>NaN</td>\n",
       "      <td>NaN</td>\n",
       "      <td>NaN</td>\n",
       "      <td>NaN</td>\n",
       "      <td>NaN</td>\n",
       "      <td>NaN</td>\n",
       "      <td>NaN</td>\n",
       "      <td>0.0</td>\n",
       "      <td>NaN</td>\n",
       "      <td>NaN</td>\n",
       "    </tr>\n",
       "    <tr>\n",
       "      <th>0056df74b63b4298809f0b375a304cf4</th>\n",
       "      <td>NaN</td>\n",
       "      <td>1.0</td>\n",
       "      <td>NaN</td>\n",
       "      <td>NaN</td>\n",
       "      <td>NaN</td>\n",
       "      <td>NaN</td>\n",
       "      <td>NaN</td>\n",
       "      <td>NaN</td>\n",
       "      <td>NaN</td>\n",
       "      <td>NaN</td>\n",
       "    </tr>\n",
       "    <tr>\n",
       "      <th>0069a50874d846438e58acff5e594725</th>\n",
       "      <td>NaN</td>\n",
       "      <td>NaN</td>\n",
       "      <td>0.0</td>\n",
       "      <td>NaN</td>\n",
       "      <td>NaN</td>\n",
       "      <td>NaN</td>\n",
       "      <td>NaN</td>\n",
       "      <td>NaN</td>\n",
       "      <td>NaN</td>\n",
       "      <td>NaN</td>\n",
       "    </tr>\n",
       "    <tr>\n",
       "      <th>00715b6e55c3431cb56ff7307eb19675</th>\n",
       "      <td>0.0</td>\n",
       "      <td>NaN</td>\n",
       "      <td>NaN</td>\n",
       "      <td>NaN</td>\n",
       "      <td>NaN</td>\n",
       "      <td>NaN</td>\n",
       "      <td>NaN</td>\n",
       "      <td>NaN</td>\n",
       "      <td>NaN</td>\n",
       "      <td>NaN</td>\n",
       "    </tr>\n",
       "    <tr>\n",
       "      <th>00840a2ca5d2408e982d56544dc14ffd</th>\n",
       "      <td>0.0</td>\n",
       "      <td>NaN</td>\n",
       "      <td>NaN</td>\n",
       "      <td>NaN</td>\n",
       "      <td>NaN</td>\n",
       "      <td>NaN</td>\n",
       "      <td>NaN</td>\n",
       "      <td>NaN</td>\n",
       "      <td>NaN</td>\n",
       "      <td>NaN</td>\n",
       "    </tr>\n",
       "    <tr>\n",
       "      <th>0091d2b6a5ea4defaa8393e4e816db60</th>\n",
       "      <td>NaN</td>\n",
       "      <td>NaN</td>\n",
       "      <td>NaN</td>\n",
       "      <td>NaN</td>\n",
       "      <td>0.0</td>\n",
       "      <td>NaN</td>\n",
       "      <td>NaN</td>\n",
       "      <td>NaN</td>\n",
       "      <td>NaN</td>\n",
       "      <td>NaN</td>\n",
       "    </tr>\n",
       "  </tbody>\n",
       "</table>\n",
       "</div>"
      ],
      "text/plain": [
       "offer_id                          0b1e1539f2cc45b7b9fa7c272da2e1d7  \\\n",
       "user_id                                                              \n",
       "0009655768c64bdeb2e877511632db8f                               NaN   \n",
       "00426fe3ffde4c6b9cb9ad6d077a13ea                               NaN   \n",
       "004b041fbfe44859945daa2c7f79ee64                               NaN   \n",
       "004c5799adbf42868b9cff0396190900                               NaN   \n",
       "005500a7188546ff8a767329a2f7c76a                               NaN   \n",
       "0056df74b63b4298809f0b375a304cf4                               NaN   \n",
       "0069a50874d846438e58acff5e594725                               NaN   \n",
       "00715b6e55c3431cb56ff7307eb19675                               0.0   \n",
       "00840a2ca5d2408e982d56544dc14ffd                               0.0   \n",
       "0091d2b6a5ea4defaa8393e4e816db60                               NaN   \n",
       "\n",
       "offer_id                          2298d6c36e964ae4a3e7e9706d1fb8c2  \\\n",
       "user_id                                                              \n",
       "0009655768c64bdeb2e877511632db8f                               NaN   \n",
       "00426fe3ffde4c6b9cb9ad6d077a13ea                               NaN   \n",
       "004b041fbfe44859945daa2c7f79ee64                               NaN   \n",
       "004c5799adbf42868b9cff0396190900                               NaN   \n",
       "005500a7188546ff8a767329a2f7c76a                               NaN   \n",
       "0056df74b63b4298809f0b375a304cf4                               1.0   \n",
       "0069a50874d846438e58acff5e594725                               NaN   \n",
       "00715b6e55c3431cb56ff7307eb19675                               NaN   \n",
       "00840a2ca5d2408e982d56544dc14ffd                               NaN   \n",
       "0091d2b6a5ea4defaa8393e4e816db60                               NaN   \n",
       "\n",
       "offer_id                          2906b810c7d4411798c6938adc9daaa5  \\\n",
       "user_id                                                              \n",
       "0009655768c64bdeb2e877511632db8f                               0.0   \n",
       "00426fe3ffde4c6b9cb9ad6d077a13ea                               0.0   \n",
       "004b041fbfe44859945daa2c7f79ee64                               NaN   \n",
       "004c5799adbf42868b9cff0396190900                               NaN   \n",
       "005500a7188546ff8a767329a2f7c76a                               NaN   \n",
       "0056df74b63b4298809f0b375a304cf4                               NaN   \n",
       "0069a50874d846438e58acff5e594725                               0.0   \n",
       "00715b6e55c3431cb56ff7307eb19675                               NaN   \n",
       "00840a2ca5d2408e982d56544dc14ffd                               NaN   \n",
       "0091d2b6a5ea4defaa8393e4e816db60                               NaN   \n",
       "\n",
       "offer_id                          3f207df678b143eea3cee63160fa8bed  \\\n",
       "user_id                                                              \n",
       "0009655768c64bdeb2e877511632db8f                               NaN   \n",
       "00426fe3ffde4c6b9cb9ad6d077a13ea                               NaN   \n",
       "004b041fbfe44859945daa2c7f79ee64                               NaN   \n",
       "004c5799adbf42868b9cff0396190900                               NaN   \n",
       "005500a7188546ff8a767329a2f7c76a                               NaN   \n",
       "0056df74b63b4298809f0b375a304cf4                               NaN   \n",
       "0069a50874d846438e58acff5e594725                               NaN   \n",
       "00715b6e55c3431cb56ff7307eb19675                               NaN   \n",
       "00840a2ca5d2408e982d56544dc14ffd                               NaN   \n",
       "0091d2b6a5ea4defaa8393e4e816db60                               NaN   \n",
       "\n",
       "offer_id                          4d5c57ea9a6940dd891ad53e9dbe8da0  \\\n",
       "user_id                                                              \n",
       "0009655768c64bdeb2e877511632db8f                               NaN   \n",
       "00426fe3ffde4c6b9cb9ad6d077a13ea                               NaN   \n",
       "004b041fbfe44859945daa2c7f79ee64                               NaN   \n",
       "004c5799adbf42868b9cff0396190900                               NaN   \n",
       "005500a7188546ff8a767329a2f7c76a                               NaN   \n",
       "0056df74b63b4298809f0b375a304cf4                               NaN   \n",
       "0069a50874d846438e58acff5e594725                               NaN   \n",
       "00715b6e55c3431cb56ff7307eb19675                               NaN   \n",
       "00840a2ca5d2408e982d56544dc14ffd                               NaN   \n",
       "0091d2b6a5ea4defaa8393e4e816db60                               0.0   \n",
       "\n",
       "offer_id                          5a8bc65990b245e5a138643cd4eb9837  \\\n",
       "user_id                                                              \n",
       "0009655768c64bdeb2e877511632db8f                               NaN   \n",
       "00426fe3ffde4c6b9cb9ad6d077a13ea                               NaN   \n",
       "004b041fbfe44859945daa2c7f79ee64                               NaN   \n",
       "004c5799adbf42868b9cff0396190900                               NaN   \n",
       "005500a7188546ff8a767329a2f7c76a                               NaN   \n",
       "0056df74b63b4298809f0b375a304cf4                               NaN   \n",
       "0069a50874d846438e58acff5e594725                               NaN   \n",
       "00715b6e55c3431cb56ff7307eb19675                               NaN   \n",
       "00840a2ca5d2408e982d56544dc14ffd                               NaN   \n",
       "0091d2b6a5ea4defaa8393e4e816db60                               NaN   \n",
       "\n",
       "offer_id                          9b98b8c7a33c4b65b9aebfe6a799e6d9  \\\n",
       "user_id                                                              \n",
       "0009655768c64bdeb2e877511632db8f                               NaN   \n",
       "00426fe3ffde4c6b9cb9ad6d077a13ea                               NaN   \n",
       "004b041fbfe44859945daa2c7f79ee64                               NaN   \n",
       "004c5799adbf42868b9cff0396190900                               NaN   \n",
       "005500a7188546ff8a767329a2f7c76a                               NaN   \n",
       "0056df74b63b4298809f0b375a304cf4                               NaN   \n",
       "0069a50874d846438e58acff5e594725                               NaN   \n",
       "00715b6e55c3431cb56ff7307eb19675                               NaN   \n",
       "00840a2ca5d2408e982d56544dc14ffd                               NaN   \n",
       "0091d2b6a5ea4defaa8393e4e816db60                               NaN   \n",
       "\n",
       "offer_id                          ae264e3637204a6fb9bb56bc8210ddfd  \\\n",
       "user_id                                                              \n",
       "0009655768c64bdeb2e877511632db8f                               NaN   \n",
       "00426fe3ffde4c6b9cb9ad6d077a13ea                               NaN   \n",
       "004b041fbfe44859945daa2c7f79ee64                               NaN   \n",
       "004c5799adbf42868b9cff0396190900                               NaN   \n",
       "005500a7188546ff8a767329a2f7c76a                               0.0   \n",
       "0056df74b63b4298809f0b375a304cf4                               NaN   \n",
       "0069a50874d846438e58acff5e594725                               NaN   \n",
       "00715b6e55c3431cb56ff7307eb19675                               NaN   \n",
       "00840a2ca5d2408e982d56544dc14ffd                               NaN   \n",
       "0091d2b6a5ea4defaa8393e4e816db60                               NaN   \n",
       "\n",
       "offer_id                          f19421c1d4aa40978ebb69ca19b0e20d  \\\n",
       "user_id                                                              \n",
       "0009655768c64bdeb2e877511632db8f                               NaN   \n",
       "00426fe3ffde4c6b9cb9ad6d077a13ea                               NaN   \n",
       "004b041fbfe44859945daa2c7f79ee64                               NaN   \n",
       "004c5799adbf42868b9cff0396190900                               NaN   \n",
       "005500a7188546ff8a767329a2f7c76a                               NaN   \n",
       "0056df74b63b4298809f0b375a304cf4                               NaN   \n",
       "0069a50874d846438e58acff5e594725                               NaN   \n",
       "00715b6e55c3431cb56ff7307eb19675                               NaN   \n",
       "00840a2ca5d2408e982d56544dc14ffd                               NaN   \n",
       "0091d2b6a5ea4defaa8393e4e816db60                               NaN   \n",
       "\n",
       "offer_id                          fafdcd668e3743c1bb461111dcafc2a4  \n",
       "user_id                                                             \n",
       "0009655768c64bdeb2e877511632db8f                               NaN  \n",
       "00426fe3ffde4c6b9cb9ad6d077a13ea                               NaN  \n",
       "004b041fbfe44859945daa2c7f79ee64                               1.0  \n",
       "004c5799adbf42868b9cff0396190900                               1.0  \n",
       "005500a7188546ff8a767329a2f7c76a                               NaN  \n",
       "0056df74b63b4298809f0b375a304cf4                               NaN  \n",
       "0069a50874d846438e58acff5e594725                               NaN  \n",
       "00715b6e55c3431cb56ff7307eb19675                               NaN  \n",
       "00840a2ca5d2408e982d56544dc14ffd                               NaN  \n",
       "0091d2b6a5ea4defaa8393e4e816db60                               NaN  "
      ]
     },
     "execution_count": 826,
     "metadata": {},
     "output_type": "execute_result"
    }
   ],
   "source": [
    "# Check for data existence\n",
    "user_item_test_opt1.head(10)"
   ]
  },
  {
   "cell_type": "code",
   "execution_count": 611,
   "metadata": {},
   "outputs": [
    {
     "data": {
      "text/html": [
       "<div>\n",
       "<style scoped>\n",
       "    .dataframe tbody tr th:only-of-type {\n",
       "        vertical-align: middle;\n",
       "    }\n",
       "\n",
       "    .dataframe tbody tr th {\n",
       "        vertical-align: top;\n",
       "    }\n",
       "\n",
       "    .dataframe thead th {\n",
       "        text-align: right;\n",
       "    }\n",
       "</style>\n",
       "<table border=\"1\" class=\"dataframe\">\n",
       "  <thead>\n",
       "    <tr style=\"text-align: right;\">\n",
       "      <th>offer_id</th>\n",
       "      <th>0b1e1539f2cc45b7b9fa7c272da2e1d7</th>\n",
       "      <th>2298d6c36e964ae4a3e7e9706d1fb8c2</th>\n",
       "      <th>2906b810c7d4411798c6938adc9daaa5</th>\n",
       "      <th>3f207df678b143eea3cee63160fa8bed</th>\n",
       "      <th>4d5c57ea9a6940dd891ad53e9dbe8da0</th>\n",
       "      <th>5a8bc65990b245e5a138643cd4eb9837</th>\n",
       "      <th>9b98b8c7a33c4b65b9aebfe6a799e6d9</th>\n",
       "      <th>ae264e3637204a6fb9bb56bc8210ddfd</th>\n",
       "      <th>f19421c1d4aa40978ebb69ca19b0e20d</th>\n",
       "      <th>fafdcd668e3743c1bb461111dcafc2a4</th>\n",
       "    </tr>\n",
       "    <tr>\n",
       "      <th>user_id</th>\n",
       "      <th></th>\n",
       "      <th></th>\n",
       "      <th></th>\n",
       "      <th></th>\n",
       "      <th></th>\n",
       "      <th></th>\n",
       "      <th></th>\n",
       "      <th></th>\n",
       "      <th></th>\n",
       "      <th></th>\n",
       "    </tr>\n",
       "  </thead>\n",
       "  <tbody>\n",
       "    <tr>\n",
       "      <th>0009655768c64bdeb2e877511632db8f</th>\n",
       "      <td>NaN</td>\n",
       "      <td>NaN</td>\n",
       "      <td>NaN</td>\n",
       "      <td>NaN</td>\n",
       "      <td>NaN</td>\n",
       "      <td>NaN</td>\n",
       "      <td>NaN</td>\n",
       "      <td>NaN</td>\n",
       "      <td>NaN</td>\n",
       "      <td>NaN</td>\n",
       "    </tr>\n",
       "    <tr>\n",
       "      <th>00426fe3ffde4c6b9cb9ad6d077a13ea</th>\n",
       "      <td>NaN</td>\n",
       "      <td>NaN</td>\n",
       "      <td>NaN</td>\n",
       "      <td>NaN</td>\n",
       "      <td>NaN</td>\n",
       "      <td>NaN</td>\n",
       "      <td>NaN</td>\n",
       "      <td>NaN</td>\n",
       "      <td>NaN</td>\n",
       "      <td>NaN</td>\n",
       "    </tr>\n",
       "    <tr>\n",
       "      <th>004b041fbfe44859945daa2c7f79ee64</th>\n",
       "      <td>NaN</td>\n",
       "      <td>NaN</td>\n",
       "      <td>NaN</td>\n",
       "      <td>NaN</td>\n",
       "      <td>NaN</td>\n",
       "      <td>NaN</td>\n",
       "      <td>NaN</td>\n",
       "      <td>NaN</td>\n",
       "      <td>NaN</td>\n",
       "      <td>2.0</td>\n",
       "    </tr>\n",
       "    <tr>\n",
       "      <th>004c5799adbf42868b9cff0396190900</th>\n",
       "      <td>NaN</td>\n",
       "      <td>NaN</td>\n",
       "      <td>NaN</td>\n",
       "      <td>NaN</td>\n",
       "      <td>NaN</td>\n",
       "      <td>NaN</td>\n",
       "      <td>NaN</td>\n",
       "      <td>NaN</td>\n",
       "      <td>NaN</td>\n",
       "      <td>2.0</td>\n",
       "    </tr>\n",
       "    <tr>\n",
       "      <th>005500a7188546ff8a767329a2f7c76a</th>\n",
       "      <td>NaN</td>\n",
       "      <td>NaN</td>\n",
       "      <td>NaN</td>\n",
       "      <td>NaN</td>\n",
       "      <td>NaN</td>\n",
       "      <td>NaN</td>\n",
       "      <td>NaN</td>\n",
       "      <td>-1.0</td>\n",
       "      <td>NaN</td>\n",
       "      <td>NaN</td>\n",
       "    </tr>\n",
       "  </tbody>\n",
       "</table>\n",
       "</div>"
      ],
      "text/plain": [
       "offer_id                          0b1e1539f2cc45b7b9fa7c272da2e1d7  \\\n",
       "user_id                                                              \n",
       "0009655768c64bdeb2e877511632db8f                               NaN   \n",
       "00426fe3ffde4c6b9cb9ad6d077a13ea                               NaN   \n",
       "004b041fbfe44859945daa2c7f79ee64                               NaN   \n",
       "004c5799adbf42868b9cff0396190900                               NaN   \n",
       "005500a7188546ff8a767329a2f7c76a                               NaN   \n",
       "\n",
       "offer_id                          2298d6c36e964ae4a3e7e9706d1fb8c2  \\\n",
       "user_id                                                              \n",
       "0009655768c64bdeb2e877511632db8f                               NaN   \n",
       "00426fe3ffde4c6b9cb9ad6d077a13ea                               NaN   \n",
       "004b041fbfe44859945daa2c7f79ee64                               NaN   \n",
       "004c5799adbf42868b9cff0396190900                               NaN   \n",
       "005500a7188546ff8a767329a2f7c76a                               NaN   \n",
       "\n",
       "offer_id                          2906b810c7d4411798c6938adc9daaa5  \\\n",
       "user_id                                                              \n",
       "0009655768c64bdeb2e877511632db8f                               NaN   \n",
       "00426fe3ffde4c6b9cb9ad6d077a13ea                               NaN   \n",
       "004b041fbfe44859945daa2c7f79ee64                               NaN   \n",
       "004c5799adbf42868b9cff0396190900                               NaN   \n",
       "005500a7188546ff8a767329a2f7c76a                               NaN   \n",
       "\n",
       "offer_id                          3f207df678b143eea3cee63160fa8bed  \\\n",
       "user_id                                                              \n",
       "0009655768c64bdeb2e877511632db8f                               NaN   \n",
       "00426fe3ffde4c6b9cb9ad6d077a13ea                               NaN   \n",
       "004b041fbfe44859945daa2c7f79ee64                               NaN   \n",
       "004c5799adbf42868b9cff0396190900                               NaN   \n",
       "005500a7188546ff8a767329a2f7c76a                               NaN   \n",
       "\n",
       "offer_id                          4d5c57ea9a6940dd891ad53e9dbe8da0  \\\n",
       "user_id                                                              \n",
       "0009655768c64bdeb2e877511632db8f                               NaN   \n",
       "00426fe3ffde4c6b9cb9ad6d077a13ea                               NaN   \n",
       "004b041fbfe44859945daa2c7f79ee64                               NaN   \n",
       "004c5799adbf42868b9cff0396190900                               NaN   \n",
       "005500a7188546ff8a767329a2f7c76a                               NaN   \n",
       "\n",
       "offer_id                          5a8bc65990b245e5a138643cd4eb9837  \\\n",
       "user_id                                                              \n",
       "0009655768c64bdeb2e877511632db8f                               NaN   \n",
       "00426fe3ffde4c6b9cb9ad6d077a13ea                               NaN   \n",
       "004b041fbfe44859945daa2c7f79ee64                               NaN   \n",
       "004c5799adbf42868b9cff0396190900                               NaN   \n",
       "005500a7188546ff8a767329a2f7c76a                               NaN   \n",
       "\n",
       "offer_id                          9b98b8c7a33c4b65b9aebfe6a799e6d9  \\\n",
       "user_id                                                              \n",
       "0009655768c64bdeb2e877511632db8f                               NaN   \n",
       "00426fe3ffde4c6b9cb9ad6d077a13ea                               NaN   \n",
       "004b041fbfe44859945daa2c7f79ee64                               NaN   \n",
       "004c5799adbf42868b9cff0396190900                               NaN   \n",
       "005500a7188546ff8a767329a2f7c76a                               NaN   \n",
       "\n",
       "offer_id                          ae264e3637204a6fb9bb56bc8210ddfd  \\\n",
       "user_id                                                              \n",
       "0009655768c64bdeb2e877511632db8f                               NaN   \n",
       "00426fe3ffde4c6b9cb9ad6d077a13ea                               NaN   \n",
       "004b041fbfe44859945daa2c7f79ee64                               NaN   \n",
       "004c5799adbf42868b9cff0396190900                               NaN   \n",
       "005500a7188546ff8a767329a2f7c76a                              -1.0   \n",
       "\n",
       "offer_id                          f19421c1d4aa40978ebb69ca19b0e20d  \\\n",
       "user_id                                                              \n",
       "0009655768c64bdeb2e877511632db8f                               NaN   \n",
       "00426fe3ffde4c6b9cb9ad6d077a13ea                               NaN   \n",
       "004b041fbfe44859945daa2c7f79ee64                               NaN   \n",
       "004c5799adbf42868b9cff0396190900                               NaN   \n",
       "005500a7188546ff8a767329a2f7c76a                               NaN   \n",
       "\n",
       "offer_id                          fafdcd668e3743c1bb461111dcafc2a4  \n",
       "user_id                                                             \n",
       "0009655768c64bdeb2e877511632db8f                               NaN  \n",
       "00426fe3ffde4c6b9cb9ad6d077a13ea                               NaN  \n",
       "004b041fbfe44859945daa2c7f79ee64                               2.0  \n",
       "004c5799adbf42868b9cff0396190900                               2.0  \n",
       "005500a7188546ff8a767329a2f7c76a                               NaN  "
      ]
     },
     "execution_count": 611,
     "metadata": {},
     "output_type": "execute_result"
    }
   ],
   "source": [
    "# Check for data existence\n",
    "user_item_test_opt2.head()"
   ]
  },
  {
   "cell_type": "markdown",
   "metadata": {},
   "source": [
    "## 2. Implement Funk SVD and fit to the training set for option 1"
   ]
  },
  {
   "cell_type": "code",
   "execution_count": 857,
   "metadata": {},
   "outputs": [],
   "source": [
    "# Function taken from the recommendation Lesson in Udacity Term2\n",
    "def FunkSVD(ratings_mat,user_item_test,latent_features=4, learning_rate=0.0001, iters=100):\n",
    "    '''\n",
    "    This function performs matrix factorization using a basic form of FunkSVD with no regularization\n",
    "    \n",
    "    INPUT:\n",
    "    ratings_mat - (numpy array) a matrix with users as rows, promotions as columns, and matched pattern as values\n",
    "    user_item_test (dataframe) - user item test dataframe to evaluate the metrics\n",
    "    latent_features - (int) the number of latent features used\n",
    "    learning_rate - (float) the learning rate \n",
    "    iters - (int) the number of iterations\n",
    "    \n",
    "    OUTPUT:\n",
    "    user_mat - (numpy array) a user by latent feature matrix\n",
    "    movie_mat - (numpy array) a latent feature by movie matrix\n",
    "    mse (float): last iteration total mean squared error of the prediction vs. true value\n",
    "    '''\n",
    "    \n",
    "    # Set up useful values to be used through the rest of the function\n",
    "    n_users = ratings_mat.shape[0]\n",
    "    n_movies = ratings_mat.shape[1]\n",
    "    num_ratings = np.count_nonzero(~np.isnan(ratings_mat))\n",
    "    \n",
    "    # initialize the user and movie matrices with random values\n",
    "    user_mat = np.random.rand(n_users, latent_features)\n",
    "    movie_mat = np.random.rand(latent_features, n_movies)\n",
    "    \n",
    "    # initialize sse at 0 for first iteration\n",
    "    sse_accum = 0\n",
    "    mse_iter =[]\n",
    "    test_mse_iter =[]\n",
    "    \n",
    "    # keep track of iteration and MSE\n",
    "    print(\"Optimizaiton Statistics\")\n",
    "    print(\"Iterations | Mean Squared Error \")\n",
    "    \n",
    "    # for each iteration\n",
    "    for iteration in range(iters):\n",
    "\n",
    "        # update our sse\n",
    "        old_sse = sse_accum\n",
    "        sse_accum = 0\n",
    "        mse =0\n",
    "        \n",
    "        # For each user-movie pair\n",
    "        for i in range(n_users):\n",
    "            for j in range(n_movies):\n",
    "                \n",
    "                # if the rating exists\n",
    "                if ratings_mat[i, j] > 0:\n",
    "                    \n",
    "                    # compute the error as the actual minus the dot product of the user and movie latent features\n",
    "                    diff = ratings_mat[i, j] - np.dot(user_mat[i, :], movie_mat[:, j])\n",
    "                    \n",
    "                    # Keep track of the sum of squared errors for the matrix\n",
    "                    sse_accum += diff**2\n",
    "                    \n",
    "                    # update the values in each matrix in the direction of the gradient\n",
    "                    for k in range(latent_features):\n",
    "                        user_mat[i, k] += learning_rate * (2*diff*movie_mat[k, j])\n",
    "                        movie_mat[k, j] += learning_rate * (2*diff*user_mat[i, k])\n",
    "        \n",
    "       \n",
    "        \n",
    "        # print results\n",
    "        if iteration % 20 ==0 :\n",
    "            print(\"%d \\t\\t %f\" % (iteration+1, sse_accum / num_ratings))\n",
    "        \n",
    "        offer_mat = movie_mat\n",
    "        mse = sse_accum / num_ratings\n",
    "        mse_iter.append(mse)\n",
    "        test_mse_iter.append(validation_new(user_item_test, user_mat, movie_mat))\n",
    "               \n",
    "    return user_mat, offer_mat, mse_iter,test_mse_iter"
   ]
  },
  {
   "cell_type": "code",
   "execution_count": 830,
   "metadata": {},
   "outputs": [
    {
     "data": {
      "text/plain": [
       "0.6206838021338505"
      ]
     },
     "execution_count": 830,
     "metadata": {},
     "output_type": "execute_result"
    }
   ],
   "source": [
    "# Statistics on the user-item matrix\n",
    "1- np.count_nonzero(~np.isnan(user_item_train))/(user_item_train.shape[0]*user_item_train.shape[1])\n",
    "np.count_nonzero(np.where(user_item_train==1))\n",
    "np.count_nonzero(np.where(user_item_train==0))"
   ]
  },
  {
   "cell_type": "code",
   "execution_count": 846,
   "metadata": {},
   "outputs": [
    {
     "data": {
      "text/html": [
       "<div>\n",
       "<style scoped>\n",
       "    .dataframe tbody tr th:only-of-type {\n",
       "        vertical-align: middle;\n",
       "    }\n",
       "\n",
       "    .dataframe tbody tr th {\n",
       "        vertical-align: top;\n",
       "    }\n",
       "\n",
       "    .dataframe thead th {\n",
       "        text-align: right;\n",
       "    }\n",
       "</style>\n",
       "<table border=\"1\" class=\"dataframe\">\n",
       "  <thead>\n",
       "    <tr style=\"text-align: right;\">\n",
       "      <th>offer_id</th>\n",
       "      <th>0b1e1539f2cc45b7b9fa7c272da2e1d7</th>\n",
       "      <th>2298d6c36e964ae4a3e7e9706d1fb8c2</th>\n",
       "      <th>2906b810c7d4411798c6938adc9daaa5</th>\n",
       "      <th>3f207df678b143eea3cee63160fa8bed</th>\n",
       "      <th>4d5c57ea9a6940dd891ad53e9dbe8da0</th>\n",
       "      <th>5a8bc65990b245e5a138643cd4eb9837</th>\n",
       "      <th>9b98b8c7a33c4b65b9aebfe6a799e6d9</th>\n",
       "      <th>ae264e3637204a6fb9bb56bc8210ddfd</th>\n",
       "      <th>f19421c1d4aa40978ebb69ca19b0e20d</th>\n",
       "      <th>fafdcd668e3743c1bb461111dcafc2a4</th>\n",
       "    </tr>\n",
       "    <tr>\n",
       "      <th>user_id</th>\n",
       "      <th></th>\n",
       "      <th></th>\n",
       "      <th></th>\n",
       "      <th></th>\n",
       "      <th></th>\n",
       "      <th></th>\n",
       "      <th></th>\n",
       "      <th></th>\n",
       "      <th></th>\n",
       "      <th></th>\n",
       "    </tr>\n",
       "  </thead>\n",
       "  <tbody>\n",
       "    <tr>\n",
       "      <th>0009655768c64bdeb2e877511632db8f</th>\n",
       "      <td>NaN</td>\n",
       "      <td>NaN</td>\n",
       "      <td>NaN</td>\n",
       "      <td>0.0</td>\n",
       "      <td>NaN</td>\n",
       "      <td>0.0</td>\n",
       "      <td>NaN</td>\n",
       "      <td>NaN</td>\n",
       "      <td>1.0</td>\n",
       "      <td>1.0</td>\n",
       "    </tr>\n",
       "    <tr>\n",
       "      <th>0011e0d4e6b944f998e987f904e8c1e5</th>\n",
       "      <td>1.0</td>\n",
       "      <td>1.0</td>\n",
       "      <td>NaN</td>\n",
       "      <td>0.0</td>\n",
       "      <td>NaN</td>\n",
       "      <td>0.0</td>\n",
       "      <td>1.0</td>\n",
       "      <td>NaN</td>\n",
       "      <td>NaN</td>\n",
       "      <td>NaN</td>\n",
       "    </tr>\n",
       "    <tr>\n",
       "      <th>0020c2b971eb4e9188eac86d93036a77</th>\n",
       "      <td>NaN</td>\n",
       "      <td>NaN</td>\n",
       "      <td>NaN</td>\n",
       "      <td>NaN</td>\n",
       "      <td>1.0</td>\n",
       "      <td>0.0</td>\n",
       "      <td>NaN</td>\n",
       "      <td>0.0</td>\n",
       "      <td>NaN</td>\n",
       "      <td>1.0</td>\n",
       "    </tr>\n",
       "    <tr>\n",
       "      <th>0020ccbbb6d84e358d3414a3ff76cffd</th>\n",
       "      <td>NaN</td>\n",
       "      <td>1.0</td>\n",
       "      <td>NaN</td>\n",
       "      <td>NaN</td>\n",
       "      <td>NaN</td>\n",
       "      <td>0.0</td>\n",
       "      <td>1.0</td>\n",
       "      <td>NaN</td>\n",
       "      <td>1.0</td>\n",
       "      <td>NaN</td>\n",
       "    </tr>\n",
       "    <tr>\n",
       "      <th>003d66b6608740288d6cc97a6903f4f0</th>\n",
       "      <td>0.0</td>\n",
       "      <td>NaN</td>\n",
       "      <td>NaN</td>\n",
       "      <td>0.0</td>\n",
       "      <td>NaN</td>\n",
       "      <td>0.0</td>\n",
       "      <td>NaN</td>\n",
       "      <td>NaN</td>\n",
       "      <td>NaN</td>\n",
       "      <td>1.0</td>\n",
       "    </tr>\n",
       "  </tbody>\n",
       "</table>\n",
       "</div>"
      ],
      "text/plain": [
       "offer_id                          0b1e1539f2cc45b7b9fa7c272da2e1d7  \\\n",
       "user_id                                                              \n",
       "0009655768c64bdeb2e877511632db8f                               NaN   \n",
       "0011e0d4e6b944f998e987f904e8c1e5                               1.0   \n",
       "0020c2b971eb4e9188eac86d93036a77                               NaN   \n",
       "0020ccbbb6d84e358d3414a3ff76cffd                               NaN   \n",
       "003d66b6608740288d6cc97a6903f4f0                               0.0   \n",
       "\n",
       "offer_id                          2298d6c36e964ae4a3e7e9706d1fb8c2  \\\n",
       "user_id                                                              \n",
       "0009655768c64bdeb2e877511632db8f                               NaN   \n",
       "0011e0d4e6b944f998e987f904e8c1e5                               1.0   \n",
       "0020c2b971eb4e9188eac86d93036a77                               NaN   \n",
       "0020ccbbb6d84e358d3414a3ff76cffd                               1.0   \n",
       "003d66b6608740288d6cc97a6903f4f0                               NaN   \n",
       "\n",
       "offer_id                          2906b810c7d4411798c6938adc9daaa5  \\\n",
       "user_id                                                              \n",
       "0009655768c64bdeb2e877511632db8f                               NaN   \n",
       "0011e0d4e6b944f998e987f904e8c1e5                               NaN   \n",
       "0020c2b971eb4e9188eac86d93036a77                               NaN   \n",
       "0020ccbbb6d84e358d3414a3ff76cffd                               NaN   \n",
       "003d66b6608740288d6cc97a6903f4f0                               NaN   \n",
       "\n",
       "offer_id                          3f207df678b143eea3cee63160fa8bed  \\\n",
       "user_id                                                              \n",
       "0009655768c64bdeb2e877511632db8f                               0.0   \n",
       "0011e0d4e6b944f998e987f904e8c1e5                               0.0   \n",
       "0020c2b971eb4e9188eac86d93036a77                               NaN   \n",
       "0020ccbbb6d84e358d3414a3ff76cffd                               NaN   \n",
       "003d66b6608740288d6cc97a6903f4f0                               0.0   \n",
       "\n",
       "offer_id                          4d5c57ea9a6940dd891ad53e9dbe8da0  \\\n",
       "user_id                                                              \n",
       "0009655768c64bdeb2e877511632db8f                               NaN   \n",
       "0011e0d4e6b944f998e987f904e8c1e5                               NaN   \n",
       "0020c2b971eb4e9188eac86d93036a77                               1.0   \n",
       "0020ccbbb6d84e358d3414a3ff76cffd                               NaN   \n",
       "003d66b6608740288d6cc97a6903f4f0                               NaN   \n",
       "\n",
       "offer_id                          5a8bc65990b245e5a138643cd4eb9837  \\\n",
       "user_id                                                              \n",
       "0009655768c64bdeb2e877511632db8f                               0.0   \n",
       "0011e0d4e6b944f998e987f904e8c1e5                               0.0   \n",
       "0020c2b971eb4e9188eac86d93036a77                               0.0   \n",
       "0020ccbbb6d84e358d3414a3ff76cffd                               0.0   \n",
       "003d66b6608740288d6cc97a6903f4f0                               0.0   \n",
       "\n",
       "offer_id                          9b98b8c7a33c4b65b9aebfe6a799e6d9  \\\n",
       "user_id                                                              \n",
       "0009655768c64bdeb2e877511632db8f                               NaN   \n",
       "0011e0d4e6b944f998e987f904e8c1e5                               1.0   \n",
       "0020c2b971eb4e9188eac86d93036a77                               NaN   \n",
       "0020ccbbb6d84e358d3414a3ff76cffd                               1.0   \n",
       "003d66b6608740288d6cc97a6903f4f0                               NaN   \n",
       "\n",
       "offer_id                          ae264e3637204a6fb9bb56bc8210ddfd  \\\n",
       "user_id                                                              \n",
       "0009655768c64bdeb2e877511632db8f                               NaN   \n",
       "0011e0d4e6b944f998e987f904e8c1e5                               NaN   \n",
       "0020c2b971eb4e9188eac86d93036a77                               0.0   \n",
       "0020ccbbb6d84e358d3414a3ff76cffd                               NaN   \n",
       "003d66b6608740288d6cc97a6903f4f0                               NaN   \n",
       "\n",
       "offer_id                          f19421c1d4aa40978ebb69ca19b0e20d  \\\n",
       "user_id                                                              \n",
       "0009655768c64bdeb2e877511632db8f                               1.0   \n",
       "0011e0d4e6b944f998e987f904e8c1e5                               NaN   \n",
       "0020c2b971eb4e9188eac86d93036a77                               NaN   \n",
       "0020ccbbb6d84e358d3414a3ff76cffd                               1.0   \n",
       "003d66b6608740288d6cc97a6903f4f0                               NaN   \n",
       "\n",
       "offer_id                          fafdcd668e3743c1bb461111dcafc2a4  \n",
       "user_id                                                             \n",
       "0009655768c64bdeb2e877511632db8f                               1.0  \n",
       "0011e0d4e6b944f998e987f904e8c1e5                               NaN  \n",
       "0020c2b971eb4e9188eac86d93036a77                               1.0  \n",
       "0020ccbbb6d84e358d3414a3ff76cffd                               NaN  \n",
       "003d66b6608740288d6cc97a6903f4f0                               1.0  "
      ]
     },
     "execution_count": 846,
     "metadata": {},
     "output_type": "execute_result"
    }
   ],
   "source": [
    "# Load user_item build on the training set\n",
    "user_item_train = pd.read_pickle(\"data/user_item_training_opt1.pkl\").drop(labels=[0.0],axis=1)\n",
    "user_item_train.head()"
   ]
  },
  {
   "cell_type": "code",
   "execution_count": 865,
   "metadata": {},
   "outputs": [
    {
     "name": "stdout",
     "output_type": "stream",
     "text": [
      "Optimizaiton Statistics\n",
      "Iterations | Mean Squared Error \n",
      "1 \t\t 0.042230\n",
      "21 \t\t 0.008844\n",
      "41 \t\t 0.007128\n",
      "61 \t\t 0.005790\n",
      "81 \t\t 0.004739\n"
     ]
    }
   ],
   "source": [
    "train_data_np = np.array(user_item_train)\n",
    "\n",
    "# Fit FunkSVD with the specified hyper parameters to the training data\n",
    "user_mat, offer_mat,mse,test_mse = FunkSVD(train_data_np,user_item_test,latent_features=15, learning_rate=0.005, iters=100)"
   ]
  },
  {
   "cell_type": "code",
   "execution_count": 881,
   "metadata": {},
   "outputs": [
    {
     "data": {
      "image/png": "[encoded data removed]",
      "text/plain": [
       "<Figure size 720x360 with 1 Axes>"
      ]
     },
     "metadata": {},
     "output_type": "display_data"
    }
   ],
   "source": [
    "iters = 100\n",
    "plt.plot(range(iters),mse,label='Train');\n",
    "plt.plot(range(iters),test_mse,label='Test');\n",
    "\n",
    "plt.xlabel('Number of Iteractions');\n",
    "plt.ylabel('MSE');\n",
    "plt.title('MSE vs. Number of Iterations for 15 Latent features');\n",
    "plt.legend();"
   ]
  },
  {
   "cell_type": "code",
   "execution_count": 884,
   "metadata": {},
   "outputs": [
    {
     "data": {
      "text/plain": [
       "0.003913465228051029"
      ]
     },
     "execution_count": 884,
     "metadata": {},
     "output_type": "execute_result"
    }
   ],
   "source": [
    "# Check for coherence\n",
    "validation_new(user_item_train, user_mat, offer_mat)"
   ]
  },
  {
   "cell_type": "code",
   "execution_count": 889,
   "metadata": {},
   "outputs": [
    {
     "data": {
      "text/plain": [
       "0.005124532785834487"
      ]
     },
     "execution_count": 889,
     "metadata": {},
     "output_type": "execute_result"
    }
   ],
   "source": [
    "test_mse[-1]"
   ]
  },
  {
   "cell_type": "code",
   "execution_count": 876,
   "metadata": {},
   "outputs": [
    {
     "name": "stdout",
     "output_type": "stream",
     "text": [
      "Optimizaiton Statistics\n",
      "Iterations | Mean Squared Error \n",
      "1 \t\t 0.037632\n",
      "21 \t\t 0.011945\n",
      "41 \t\t 0.008802\n",
      "61 \t\t 0.006590\n",
      "81 \t\t 0.005010\n"
     ]
    }
   ],
   "source": [
    "# Test for the best number of latent feature. (with latent features 10)\n",
    "user_mat_10, offer_mat_10,mse_10,test_mse_10  = FunkSVD(train_data_np, user_item_test,latent_features=10, learning_rate=0.005, iters=100)"
   ]
  },
  {
   "cell_type": "code",
   "execution_count": 890,
   "metadata": {},
   "outputs": [
    {
     "data": {
      "text/plain": [
       "0.006065218712835692"
      ]
     },
     "execution_count": 890,
     "metadata": {},
     "output_type": "execute_result"
    }
   ],
   "source": [
    "test_mse_10[-1]"
   ]
  },
  {
   "cell_type": "code",
   "execution_count": 882,
   "metadata": {},
   "outputs": [
    {
     "data": {
      "image/png": "[encoded data removed]",
      "text/plain": [
       "<Figure size 720x360 with 1 Axes>"
      ]
     },
     "metadata": {},
     "output_type": "display_data"
    }
   ],
   "source": [
    "iters = 100\n",
    "plt.plot(range(iters),mse_10,label='Train');\n",
    "plt.plot(range(iters),test_mse_10,label='Test');\n",
    "\n",
    "plt.xlabel('Number of Iteractions');\n",
    "plt.ylabel('MSE');\n",
    "plt.title('MSE vs. Number of Iterations for 10 Latent features');\n",
    "plt.legend();"
   ]
  },
  {
   "cell_type": "code",
   "execution_count": 885,
   "metadata": {},
   "outputs": [
    {
     "data": {
      "text/plain": [
       "0.003900367025780451"
      ]
     },
     "execution_count": 885,
     "metadata": {},
     "output_type": "execute_result"
    }
   ],
   "source": [
    "# Check for coherence\n",
    "validation_new(user_item_train, user_mat_10, offer_mat_10)"
   ]
  },
  {
   "cell_type": "code",
   "execution_count": 878,
   "metadata": {},
   "outputs": [
    {
     "name": "stdout",
     "output_type": "stream",
     "text": [
      "Optimizaiton Statistics\n",
      "Iterations | Mean Squared Error \n",
      "1 \t\t 0.036429\n",
      "21 \t\t 0.017574\n",
      "41 \t\t 0.010113\n",
      "61 \t\t 0.006124\n",
      "81 \t\t 0.003876\n"
     ]
    }
   ],
   "source": [
    "# Test for the best number of latent feature. (with latent features 5)\n",
    "# Check for coherence\n",
    "user_mat_5, offer_mat_5,mse_5,test_mse_5  = FunkSVD(train_data_np,user_item_test,latent_features=5, learning_rate=0.005, iters=100)"
   ]
  },
  {
   "cell_type": "code",
   "execution_count": 883,
   "metadata": {},
   "outputs": [
    {
     "data": {
      "image/png": "[encoded data removed]",
      "text/plain": [
       "<Figure size 720x360 with 1 Axes>"
      ]
     },
     "metadata": {},
     "output_type": "display_data"
    }
   ],
   "source": [
    "iters = 100\n",
    "plt.plot(range(iters),mse_5,label='Train');\n",
    "plt.plot(range(iters),test_mse_5,label='Test');\n",
    "\n",
    "plt.xlabel('Number of Iteractions');\n",
    "plt.ylabel('MSE');\n",
    "plt.title('MSE vs. Number of Iterations for 5 Latent features');\n",
    "plt.legend();"
   ]
  },
  {
   "cell_type": "code",
   "execution_count": 886,
   "metadata": {},
   "outputs": [
    {
     "data": {
      "text/plain": [
       "0.0025880818227319424"
      ]
     },
     "execution_count": 886,
     "metadata": {},
     "output_type": "execute_result"
    }
   ],
   "source": [
    "validation_new(user_item_train, user_mat_5, offer_mat_5)"
   ]
  },
  {
   "cell_type": "code",
   "execution_count": 891,
   "metadata": {},
   "outputs": [
    {
     "data": {
      "text/plain": [
       "0.006657468236258464"
      ]
     },
     "execution_count": 891,
     "metadata": {},
     "output_type": "execute_result"
    }
   ],
   "source": [
    "test_mse_5[-1]"
   ]
  },
  {
   "cell_type": "markdown",
   "metadata": {},
   "source": [
    "## 2.2 Implement Funk SVD and fit to the training set for option 1"
   ]
  },
  {
   "cell_type": "code",
   "execution_count": 524,
   "metadata": {},
   "outputs": [],
   "source": [
    "# Load user_item build on the training set\n",
    "user_item_train_opt2 = pd.read_pickle(\"data/user_item_training_opt2.pkl\").drop(labels=[0.0],axis=1)"
   ]
  },
  {
   "cell_type": "code",
   "execution_count": 525,
   "metadata": {},
   "outputs": [
    {
     "name": "stdout",
     "output_type": "stream",
     "text": [
      "Optimizaiton Statistics\n",
      "Iterations | Mean Squared Error \n",
      "1 \t\t 0.080042\n",
      "21 \t\t 0.022413\n",
      "41 \t\t 0.010085\n",
      "61 \t\t 0.005109\n",
      "81 \t\t 0.002822\n"
     ]
    }
   ],
   "source": [
    "train_data_np = np.array(user_item_train_opt2)\n",
    "\n",
    "# Fit FunkSVD with the specified hyper parameters to the training data\n",
    "user_mat_opt2, offer_mat_opt2,_ = FunkSVD(train_data_np, latent_features=15, learning_rate=0.005, iters=100)"
   ]
  },
  {
   "cell_type": "code",
   "execution_count": 526,
   "metadata": {},
   "outputs": [
    {
     "name": "stdout",
     "output_type": "stream",
     "text": [
      "Optimizaiton Statistics\n",
      "Iterations | Mean Squared Error \n",
      "1 \t\t 0.093338\n",
      "21 \t\t 0.022082\n",
      "41 \t\t 0.007678\n",
      "61 \t\t 0.003233\n",
      "81 \t\t 0.001523\n"
     ]
    }
   ],
   "source": [
    "user_mat_opt2_10, offer_mat_opt2_10,_ = FunkSVD(train_data_np, latent_features=10, learning_rate=0.005, iters=100)"
   ]
  },
  {
   "cell_type": "code",
   "execution_count": 527,
   "metadata": {},
   "outputs": [
    {
     "name": "stdout",
     "output_type": "stream",
     "text": [
      "Optimizaiton Statistics\n",
      "Iterations | Mean Squared Error \n",
      "1 \t\t 0.160408\n",
      "21 \t\t 0.015219\n",
      "41 \t\t 0.003123\n",
      "61 \t\t 0.000839\n",
      "81 \t\t 0.000247\n"
     ]
    }
   ],
   "source": [
    "user_mat_opt2_5, offer_mat_opt2_5,_ = FunkSVD(train_data_np, latent_features=5, learning_rate=0.005, iters=100)"
   ]
  },
  {
   "cell_type": "markdown",
   "metadata": {},
   "source": [
    "## 3. Validation on the test set"
   ]
  },
  {
   "cell_type": "markdown",
   "metadata": {},
   "source": [
    "### 3.1 Set up evaluation functions"
   ]
  },
  {
   "cell_type": "code",
   "execution_count": 843,
   "metadata": {},
   "outputs": [
    {
     "data": {
      "text/plain": [
       "(9459, 10)"
      ]
     },
     "execution_count": 843,
     "metadata": {},
     "output_type": "execute_result"
    }
   ],
   "source": [
    "# Load user_item build on the training set\n",
    "user_item_test = pd.read_pickle(\"data/user_item_test_opt1.pkl\")\n",
    "user_item_test.shape"
   ]
  },
  {
   "cell_type": "code",
   "execution_count": 613,
   "metadata": {},
   "outputs": [
    {
     "name": "stdout",
     "output_type": "stream",
     "text": [
      "0\n",
      "[]\n"
     ]
    }
   ],
   "source": [
    "# Check for cold start problem\n",
    "\n",
    "train_idx = user_item_train.index\n",
    "test_idx = user_item_test.index\n",
    "match_idx = list(test_idx.intersection(train_idx))\n",
    "\n",
    "train_promo = set(user_item_train.columns)\n",
    "test_promo =  set(user_item_test.columns)\n",
    "match_cols = list(train_promo.intersection(test_promo))\n",
    "\n",
    "cold_start_idx = np.setdiff1d(match_idx, list(test_idx), assume_unique=True)\n",
    "print(len(cold_start_idx)) # No cold start issue\n",
    "print(np.setdiff1d(match_cols, list(test_promo), assume_unique=True))"
   ]
  },
  {
   "cell_type": "code",
   "execution_count": 856,
   "metadata": {},
   "outputs": [],
   "source": [
    "# Function taken from the recommendation Lesson in Udacity Term2 and slightly adaptated \n",
    "def validation_new(user_item, user_mat, offer_mat,print_info =False):\n",
    "    \n",
    "    '''Measure the squared errors between the real values and the predicted values\n",
    "    \n",
    "    INPUT :\n",
    "    - user_item (dataframe) : user-item dataframe\n",
    "    - user_mat (array matrix)- user by latent factor matrix\n",
    "    - offer_mat(array matrix)- latent factor by offer matrix\n",
    "    \n",
    "    OUPUT :\n",
    "    - mse_error (float): mean squared error\n",
    "    \n",
    "    '''\n",
    "    \n",
    "    # Restrict the user-item dataframe to users and offers that have already been seen in the training set\n",
    "    train_idx = user_item_train.index\n",
    "    val_idx = user_item.index\n",
    "    match_idx = list(train_idx.intersection(val_idx))\n",
    "   \n",
    "    train_promo = user_item_train.columns\n",
    "    val_promo =  user_item.columns\n",
    "    match_cols = list(train_promo.intersection(val_promo))\n",
    "    \n",
    "    user_item_val = user_item.loc[match_idx,match_cols]\n",
    "    \n",
    "    # Identify  the set of all ser and promo values available in the user_item_val dataframe\n",
    "    val_idx = user_item_val.index\n",
    "    val_promo =  user_item_val.columns\n",
    "    \n",
    "    # Restrict the user_mat and offer_mat matrices by filtering on the users and offers available in the test sets\n",
    "    row_idxs = user_item_train.index.isin(val_idx)\n",
    "    col_idxs = user_item_train.columns.isin(val_promo)\n",
    "    user_mat_val = user_mat[row_idxs, :]\n",
    "    offer_mat_val = offer_mat[:, col_idxs]\n",
    "     \n",
    "    # Initiate the value for accuracy metric items\n",
    "    num_complete = np.count_nonzero(~np.isnan(user_item_val))\n",
    "    sse_accum = 0\n",
    "    #acc = []\n",
    "    \n",
    "    ## Make predictions\n",
    "    n_users = user_item.shape[0]\n",
    "    n_offer = user_item.shape[1]\n",
    "    ratings_mat = np.array(user_item_val)  \n",
    "    \n",
    "    ## Loop through all the lines (users) and columns (offers) of the ratings_mat matrix\n",
    "    for i in range(n_users):\n",
    "        for j in range(n_offer):\n",
    "            # Check that the value exists\n",
    "            if ratings_mat[i, j] > 0:\n",
    "            #if ~np.isnan(ratings_mat[i, j]):\n",
    "                \n",
    "                # compute the error as the actual minus the dot product of the user and movie latent features\n",
    "                diff = ratings_mat[i, j] - np.dot(user_mat_val[i, :], offer_mat_val[:, j])\n",
    "                \n",
    "                # Keep track of the accuracy metrics\n",
    "                #accuracy = 1-abs(diff)\n",
    "                #acc.append()\n",
    "                \n",
    "                # Keep track of the sum of squared errors for the matrix\n",
    "                sse_accum += diff**2\n",
    "\n",
    "    # Normalize and print MSE\n",
    "    mse_error = sse_accum/num_complete\n",
    "    if print_info ==True :\n",
    "        print('MSE on the set is: {}'.format(mse_error))\n",
    "\n",
    "    return mse_error"
   ]
  },
  {
   "cell_type": "markdown",
   "metadata": {},
   "source": [
    "### 3.2. Compute evaluation metrics for the different latent features values"
   ]
  },
  {
   "cell_type": "code",
   "execution_count": 615,
   "metadata": {},
   "outputs": [
    {
     "name": "stdout",
     "output_type": "stream",
     "text": [
      "MSE on the set is: 0.003345977303334004\n"
     ]
    },
    {
     "data": {
      "text/plain": [
       "0.003345977303334004"
      ]
     },
     "execution_count": 615,
     "metadata": {},
     "output_type": "execute_result"
    }
   ],
   "source": [
    "# Evaluation for latent features of 15\n",
    "validation_new(user_item_test, user_mat, offer_mat)"
   ]
  },
  {
   "cell_type": "code",
   "execution_count": 616,
   "metadata": {},
   "outputs": [
    {
     "name": "stdout",
     "output_type": "stream",
     "text": [
      "MSE on the set is: 0.0031410780509755765\n"
     ]
    },
    {
     "data": {
      "text/plain": [
       "0.0031410780509755765"
      ]
     },
     "execution_count": 616,
     "metadata": {},
     "output_type": "execute_result"
    }
   ],
   "source": [
    "validation_new(user_item_test, user_mat_10, offer_mat_10)"
   ]
  },
  {
   "cell_type": "code",
   "execution_count": 617,
   "metadata": {},
   "outputs": [
    {
     "name": "stdout",
     "output_type": "stream",
     "text": [
      "MSE on the set is: 0.001984652992540428\n"
     ]
    },
    {
     "data": {
      "text/plain": [
       "0.001984652992540428"
      ]
     },
     "execution_count": 617,
     "metadata": {},
     "output_type": "execute_result"
    }
   ],
   "source": [
    "validation_new(user_item_test, user_mat_5, offer_mat_5)"
   ]
  },
  {
   "cell_type": "markdown",
   "metadata": {},
   "source": [
    "### 3.3 Make recommendation based on Funk SVD prediction and top ranked offers for new users"
   ]
  },
  {
   "cell_type": "code",
   "execution_count": 619,
   "metadata": {},
   "outputs": [],
   "source": [
    "# Function taken from the recommendation Lesson in Udacity Term2 and slightly adaptated \n",
    "def predict_FunkSVD(user_matrix, offer_matrix, user_id, offer_id):\n",
    "    '''\n",
    "    Predict behavior of user to a given offer based on its pasts interactions\n",
    "    \n",
    "    INPUT:\n",
    "    user_matrix (array matrix)- user by latent factor matrix\n",
    "    offer_matrix (array matrix)- latent factor by offer matrix\n",
    "    user_id (str)- the user_id from the transcript dataframe\n",
    "    offer_id (str)- the offer_id from the transcript dataframe\n",
    "    \n",
    "    OUTPUT:\n",
    "    pred - the predicted reaction according to user-based collaborative filtering\n",
    "    '''\n",
    "    try:\n",
    "        \n",
    "        user_ids_series = np.array(user_item_train.index)\n",
    "        offer_ids_series = np.array(user_item_train.columns)\n",
    "  \n",
    "        user_row = np.where(user_ids_series == user_id)[0][0]\n",
    "        offer_col = np.where(offer_ids_series == offer_id)[0][0]\n",
    "        \n",
    "        # Take dot product of that row and column in U and V to make prediction\n",
    "        pred = np.dot(user_matrix[user_row, :], offer_matrix[:, offer_col])\n",
    "        \n",
    "        return pred\n",
    "    \n",
    "    except:\n",
    "        print(\"The prediction cannot be made for this user-promotion pair\")\n",
    "        return None"
   ]
  },
  {
   "cell_type": "code",
   "execution_count": 623,
   "metadata": {},
   "outputs": [
    {
     "data": {
      "text/plain": [
       "1.0115618555089199"
      ]
     },
     "execution_count": 623,
     "metadata": {},
     "output_type": "execute_result"
    }
   ],
   "source": [
    "# Example of a prediction for an existing user : \n",
    "user_id=\"004b041fbfe44859945daa2c7f79ee64\"\n",
    "offer_id= \"fafdcd668e3743c1bb461111dcafc2a4\"\n",
    "predict_FunkSVD(user_mat, offer_mat, user_id, offer_id)"
   ]
  },
  {
   "cell_type": "code",
   "execution_count": 624,
   "metadata": {},
   "outputs": [
    {
     "name": "stdout",
     "output_type": "stream",
     "text": [
      "The prediction cannot be made for this user-promotion pair\n"
     ]
    }
   ],
   "source": [
    "# Example of a prediction for an new user : \n",
    "user_id=\"new_user\"\n",
    "offer_id= \"fafdcd668e3743c1bb461111dcafc2a4\"\n",
    "predict_FunkSVD(user_mat, offer_mat, user_id, offer_id)"
   ]
  },
  {
   "cell_type": "code",
   "execution_count": 625,
   "metadata": {},
   "outputs": [
    {
     "data": {
      "text/html": [
       "<div>\n",
       "<style scoped>\n",
       "    .dataframe tbody tr th:only-of-type {\n",
       "        vertical-align: middle;\n",
       "    }\n",
       "\n",
       "    .dataframe tbody tr th {\n",
       "        vertical-align: top;\n",
       "    }\n",
       "\n",
       "    .dataframe thead th {\n",
       "        text-align: right;\n",
       "    }\n",
       "</style>\n",
       "<table border=\"1\" class=\"dataframe\">\n",
       "  <thead>\n",
       "    <tr style=\"text-align: right;\">\n",
       "      <th></th>\n",
       "      <th>index</th>\n",
       "      <th>offer_id</th>\n",
       "      <th>creation_time</th>\n",
       "      <th>expiration_time</th>\n",
       "      <th>is_viewed</th>\n",
       "      <th>is_completed</th>\n",
       "      <th>mean_amount_spent</th>\n",
       "      <th>total_amount_spent</th>\n",
       "      <th>user_id</th>\n",
       "      <th>viewed_and_completed</th>\n",
       "    </tr>\n",
       "  </thead>\n",
       "  <tbody>\n",
       "    <tr>\n",
       "      <th>0</th>\n",
       "      <td>0</td>\n",
       "      <td>ae264e3637204a6fb9bb56bc8210ddfd</td>\n",
       "      <td>0.0</td>\n",
       "      <td>168.0</td>\n",
       "      <td>1.0</td>\n",
       "      <td>NaN</td>\n",
       "      <td>2.293333</td>\n",
       "      <td>6.88</td>\n",
       "      <td>1e41c43e184e46759f01317e69f5cfcd</td>\n",
       "      <td>0</td>\n",
       "    </tr>\n",
       "    <tr>\n",
       "      <th>1</th>\n",
       "      <td>1</td>\n",
       "      <td>3f207df678b143eea3cee63160fa8bed</td>\n",
       "      <td>168.0</td>\n",
       "      <td>264.0</td>\n",
       "      <td>NaN</td>\n",
       "      <td>NaN</td>\n",
       "      <td>NaN</td>\n",
       "      <td>NaN</td>\n",
       "      <td>1e41c43e184e46759f01317e69f5cfcd</td>\n",
       "      <td>0</td>\n",
       "    </tr>\n",
       "    <tr>\n",
       "      <th>2</th>\n",
       "      <td>2</td>\n",
       "      <td>2906b810c7d4411798c6938adc9daaa5</td>\n",
       "      <td>336.0</td>\n",
       "      <td>504.0</td>\n",
       "      <td>NaN</td>\n",
       "      <td>NaN</td>\n",
       "      <td>NaN</td>\n",
       "      <td>NaN</td>\n",
       "      <td>1e41c43e184e46759f01317e69f5cfcd</td>\n",
       "      <td>0</td>\n",
       "    </tr>\n",
       "    <tr>\n",
       "      <th>3</th>\n",
       "      <td>3</td>\n",
       "      <td>f19421c1d4aa40978ebb69ca19b0e20d</td>\n",
       "      <td>504.0</td>\n",
       "      <td>624.0</td>\n",
       "      <td>1.0</td>\n",
       "      <td>1.0</td>\n",
       "      <td>8.350000</td>\n",
       "      <td>8.35</td>\n",
       "      <td>1e41c43e184e46759f01317e69f5cfcd</td>\n",
       "      <td>1</td>\n",
       "    </tr>\n",
       "    <tr>\n",
       "      <th>5</th>\n",
       "      <td>5</td>\n",
       "      <td>0</td>\n",
       "      <td>0.0</td>\n",
       "      <td>0.0</td>\n",
       "      <td>NaN</td>\n",
       "      <td>NaN</td>\n",
       "      <td>7.420000</td>\n",
       "      <td>14.84</td>\n",
       "      <td>1e41c43e184e46759f01317e69f5cfcd</td>\n",
       "      <td>0</td>\n",
       "    </tr>\n",
       "  </tbody>\n",
       "</table>\n",
       "</div>"
      ],
      "text/plain": [
       "   index                          offer_id  creation_time  expiration_time  \\\n",
       "0      0  ae264e3637204a6fb9bb56bc8210ddfd            0.0            168.0   \n",
       "1      1  3f207df678b143eea3cee63160fa8bed          168.0            264.0   \n",
       "2      2  2906b810c7d4411798c6938adc9daaa5          336.0            504.0   \n",
       "3      3  f19421c1d4aa40978ebb69ca19b0e20d          504.0            624.0   \n",
       "5      5                                 0            0.0              0.0   \n",
       "\n",
       "   is_viewed  is_completed  mean_amount_spent  total_amount_spent  \\\n",
       "0        1.0           NaN           2.293333                6.88   \n",
       "1        NaN           NaN                NaN                 NaN   \n",
       "2        NaN           NaN                NaN                 NaN   \n",
       "3        1.0           1.0           8.350000                8.35   \n",
       "5        NaN           NaN           7.420000               14.84   \n",
       "\n",
       "                            user_id  viewed_and_completed  \n",
       "0  1e41c43e184e46759f01317e69f5cfcd                     0  \n",
       "1  1e41c43e184e46759f01317e69f5cfcd                     0  \n",
       "2  1e41c43e184e46759f01317e69f5cfcd                     0  \n",
       "3  1e41c43e184e46759f01317e69f5cfcd                     1  \n",
       "5  1e41c43e184e46759f01317e69f5cfcd                     0  "
      ]
     },
     "execution_count": 625,
     "metadata": {},
     "output_type": "execute_result"
    }
   ],
   "source": [
    "df_user_promotion_cycle_final_training.head()"
   ]
  },
  {
   "cell_type": "code",
   "execution_count": 925,
   "metadata": {},
   "outputs": [],
   "source": [
    "def top_ranked_offer(user_promotion_cycle_final):\n",
    "    '''\n",
    "    Find the best offers in terms of ammount spent in the training set\n",
    "    '''\n",
    "    df_top_offers = user_promotion_cycle_final.groupby(\"offer_id\")[\"total_amount_spent\"].sum().sort_values(ascending=False)\n",
    "    best_offer = user_promotion_cycle_final.groupby(\"offer_id\")[\"total_amount_spent\"].sum().sort_values(ascending=False)/df_top_offers.sum()\n",
    "    return best_offer"
   ]
  },
  {
   "cell_type": "markdown",
   "metadata": {},
   "source": [
    "# OLD"
   ]
  },
  {
   "cell_type": "code",
   "execution_count": null,
   "metadata": {},
   "outputs": [],
   "source": [
    "# Function taken from the recommendation Lesson in Udacity Term2 and slightly adaptated \n",
    "def validation_old(user_item, user_mat, offer_mat):\n",
    "    \n",
    "    '''Measure the squared errors for the prediction\n",
    "    INPUT :\n",
    "    - user_item (dataframe) : user-item dataframe\n",
    "    - user_mat (array matrix)- user by latent factor matrix\n",
    "    - offer_mat(array matrix)- latent factor by offer matrix\n",
    "    \n",
    "    OUPUT :\n",
    "    - mse_error (float): mean squared error\n",
    "    \n",
    "    '''\n",
    "    num_complete = np.count_nonzero(~np.isnan(user_item))\n",
    "    sse_accum = 0\n",
    "    \n",
    "    for user_id in user_item.index:\n",
    "        for offer_id in user_item.columns:\n",
    "            if ~np.isnan(user_item.loc[user_id, offer_id]):\n",
    "               \n",
    "                predict_value = predict_reaction(user_mat, offer_mat, user_id, offer_id)\n",
    "                #predict_value = np.dot(user_mat[user_row, :], offer_mat[:, offer_col]) \n",
    "                 if predict_value != None:\n",
    "                    # compute the error as the actual minus the dot product of the user and offer latent features\n",
    "                    diff = user_item.loc[user_id, offer_id] - predict_value\n",
    "\n",
    "                    # Keep track of the sum of squared errors for the matrix\n",
    "                    sse_accum += diff**2\n",
    "                    #acc.append(1- abs(diff))\n",
    "\n",
    "    #deviding on the overall not null values in test_matrix\n",
    "    mse_error = sse_accum/num_complete\n",
    "    #acc_total = sum(acc)/num_complete\n",
    "    \n",
    "    print(sse_accum / num_complete)\n",
    "    print('MSE on the set is: {}'.format(mse_error))\n",
    "    #print('Accuracy on the set is : {}'.format(acc_total))\n",
    "    \n",
    "    return mse_error"
   ]
  }
 ],
 "metadata": {
  "kernelspec": {
   "display_name": "Python 3",
   "language": "python",
   "name": "python3"
  },
  "language_info": {
   "codemirror_mode": {
    "name": "ipython",
    "version": 3
   },
   "file_extension": ".py",
   "mimetype": "text/x-python",
   "name": "python",
   "nbconvert_exporter": "python",
   "pygments_lexer": "ipython3",
   "version": "3.6.8"
  }
 },
 "nbformat": 4,
 "nbformat_minor": 4
}
